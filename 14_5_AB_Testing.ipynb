{
  "nbformat": 4,
  "nbformat_minor": 0,
  "metadata": {
    "colab": {
      "name": "14.5 Beyond A/B Checkpoint",
      "provenance": [],
      "collapsed_sections": []
    },
    "kernelspec": {
      "name": "python3",
      "display_name": "Python 3"
    }
  },
  "cells": [
    {
      "cell_type": "markdown",
      "metadata": {
        "id": "_KGWk3s8oAY1",
        "colab_type": "text"
      },
      "source": [
        "\n",
        "##European Social Survey\n",
        "\n",
        "This is a biannual survey to measure the attitudes, beliefs and behavior patterns of the various populations in Europe from the 2012 and 2014.\n"
      ]
    },
    {
      "cell_type": "code",
      "metadata": {
        "id": "aeDb8oBMl3Rt",
        "colab_type": "code",
        "colab": {
          "base_uri": "https://localhost:8080/",
          "height": 71
        },
        "outputId": "23a72e60-f0a9-4368-b1aa-67b521fd62bb"
      },
      "source": [
        "import pandas as pd\n",
        "import numpy as np\n",
        "import matplotlib.pyplot as plt\n",
        "from scipy import stats\n",
        "import seaborn as sns\n",
        "import math"
      ],
      "execution_count": 1,
      "outputs": [
        {
          "output_type": "stream",
          "text": [
            "/usr/local/lib/python3.6/dist-packages/statsmodels/tools/_testing.py:19: FutureWarning: pandas.util.testing is deprecated. Use the functions in the public API at pandas.testing instead.\n",
            "  import pandas.util.testing as tm\n"
          ],
          "name": "stderr"
        }
      ]
    },
    {
      "cell_type": "code",
      "metadata": {
        "id": "5RBDY88IoT7d",
        "colab_type": "code",
        "colab": {}
      },
      "source": [
        "ess = pd.read_csv('https://tf-assets-prod.s3.amazonaws.com/tf-curric/data-science/ess_combined_2012_2014.csv')"
      ],
      "execution_count": 0,
      "outputs": []
    },
    {
      "cell_type": "code",
      "metadata": {
        "id": "iUV14VsBock2",
        "colab_type": "code",
        "outputId": "a1debc73-0da7-4f7d-f694-a30b09172865",
        "colab": {
          "base_uri": "https://localhost:8080/",
          "height": 204
        }
      },
      "source": [
        "ess.head()"
      ],
      "execution_count": 3,
      "outputs": [
        {
          "output_type": "execute_result",
          "data": {
            "text/html": [
              "<div>\n",
              "<style scoped>\n",
              "    .dataframe tbody tr th:only-of-type {\n",
              "        vertical-align: middle;\n",
              "    }\n",
              "\n",
              "    .dataframe tbody tr th {\n",
              "        vertical-align: top;\n",
              "    }\n",
              "\n",
              "    .dataframe thead th {\n",
              "        text-align: right;\n",
              "    }\n",
              "</style>\n",
              "<table border=\"1\" class=\"dataframe\">\n",
              "  <thead>\n",
              "    <tr style=\"text-align: right;\">\n",
              "      <th></th>\n",
              "      <th>cntry</th>\n",
              "      <th>idno</th>\n",
              "      <th>year</th>\n",
              "      <th>tvtot</th>\n",
              "      <th>ppltrst</th>\n",
              "      <th>pplfair</th>\n",
              "      <th>pplhlp</th>\n",
              "      <th>happy</th>\n",
              "      <th>sclmeet</th>\n",
              "      <th>sclact</th>\n",
              "      <th>gndr</th>\n",
              "      <th>agea</th>\n",
              "      <th>partner</th>\n",
              "    </tr>\n",
              "  </thead>\n",
              "  <tbody>\n",
              "    <tr>\n",
              "      <th>0</th>\n",
              "      <td>CH</td>\n",
              "      <td>5</td>\n",
              "      <td>6</td>\n",
              "      <td>3</td>\n",
              "      <td>3</td>\n",
              "      <td>10</td>\n",
              "      <td>5</td>\n",
              "      <td>8</td>\n",
              "      <td>5</td>\n",
              "      <td>4</td>\n",
              "      <td>2</td>\n",
              "      <td>60</td>\n",
              "      <td>1</td>\n",
              "    </tr>\n",
              "    <tr>\n",
              "      <th>1</th>\n",
              "      <td>CH</td>\n",
              "      <td>25</td>\n",
              "      <td>6</td>\n",
              "      <td>6</td>\n",
              "      <td>5</td>\n",
              "      <td>7</td>\n",
              "      <td>5</td>\n",
              "      <td>9</td>\n",
              "      <td>3</td>\n",
              "      <td>2</td>\n",
              "      <td>2</td>\n",
              "      <td>59</td>\n",
              "      <td>1</td>\n",
              "    </tr>\n",
              "    <tr>\n",
              "      <th>2</th>\n",
              "      <td>CH</td>\n",
              "      <td>26</td>\n",
              "      <td>6</td>\n",
              "      <td>1</td>\n",
              "      <td>8</td>\n",
              "      <td>8</td>\n",
              "      <td>8</td>\n",
              "      <td>7</td>\n",
              "      <td>6</td>\n",
              "      <td>3</td>\n",
              "      <td>1</td>\n",
              "      <td>24</td>\n",
              "      <td>2</td>\n",
              "    </tr>\n",
              "    <tr>\n",
              "      <th>3</th>\n",
              "      <td>CH</td>\n",
              "      <td>28</td>\n",
              "      <td>6</td>\n",
              "      <td>4</td>\n",
              "      <td>6</td>\n",
              "      <td>6</td>\n",
              "      <td>7</td>\n",
              "      <td>10</td>\n",
              "      <td>6</td>\n",
              "      <td>2</td>\n",
              "      <td>2</td>\n",
              "      <td>64</td>\n",
              "      <td>1</td>\n",
              "    </tr>\n",
              "    <tr>\n",
              "      <th>4</th>\n",
              "      <td>CH</td>\n",
              "      <td>29</td>\n",
              "      <td>6</td>\n",
              "      <td>5</td>\n",
              "      <td>6</td>\n",
              "      <td>7</td>\n",
              "      <td>5</td>\n",
              "      <td>8</td>\n",
              "      <td>7</td>\n",
              "      <td>2</td>\n",
              "      <td>2</td>\n",
              "      <td>55</td>\n",
              "      <td>1</td>\n",
              "    </tr>\n",
              "  </tbody>\n",
              "</table>\n",
              "</div>"
            ],
            "text/plain": [
              "  cntry  idno  year  tvtot  ppltrst  ...  sclmeet  sclact  gndr  agea  partner\n",
              "0    CH     5     6      3        3  ...        5       4     2    60        1\n",
              "1    CH    25     6      6        5  ...        3       2     2    59        1\n",
              "2    CH    26     6      1        8  ...        6       3     1    24        2\n",
              "3    CH    28     6      4        6  ...        6       2     2    64        1\n",
              "4    CH    29     6      5        6  ...        7       2     2    55        1\n",
              "\n",
              "[5 rows x 13 columns]"
            ]
          },
          "metadata": {
            "tags": []
          },
          "execution_count": 3
        }
      ]
    },
    {
      "cell_type": "code",
      "metadata": {
        "id": "aRlYg1Z4ogWP",
        "colab_type": "code",
        "outputId": "c43616d8-0f5a-4d64-dc9f-48f9afcd4724",
        "colab": {
          "base_uri": "https://localhost:8080/",
          "height": 357
        }
      },
      "source": [
        "ess.info()"
      ],
      "execution_count": 4,
      "outputs": [
        {
          "output_type": "stream",
          "text": [
            "<class 'pandas.core.frame.DataFrame'>\n",
            "RangeIndex: 8147 entries, 0 to 8146\n",
            "Data columns (total 13 columns):\n",
            " #   Column   Non-Null Count  Dtype \n",
            "---  ------   --------------  ----- \n",
            " 0   cntry    8147 non-null   object\n",
            " 1   idno     8147 non-null   int64 \n",
            " 2   year     8147 non-null   int64 \n",
            " 3   tvtot    8147 non-null   int64 \n",
            " 4   ppltrst  8147 non-null   int64 \n",
            " 5   pplfair  8147 non-null   int64 \n",
            " 6   pplhlp   8147 non-null   int64 \n",
            " 7   happy    8147 non-null   int64 \n",
            " 8   sclmeet  8147 non-null   int64 \n",
            " 9   sclact   8147 non-null   int64 \n",
            " 10  gndr     8147 non-null   int64 \n",
            " 11  agea     8147 non-null   int64 \n",
            " 12  partner  8147 non-null   int64 \n",
            "dtypes: int64(12), object(1)\n",
            "memory usage: 827.6+ KB\n"
          ],
          "name": "stdout"
        }
      ]
    },
    {
      "cell_type": "markdown",
      "metadata": {
        "id": "mmwVwHAzl8g-",
        "colab_type": "text"
      },
      "source": [
        "\n",
        "\n",
        "###1. Did people become less trusting from 2012 to 2014?\n"
      ]
    },
    {
      "cell_type": "markdown",
      "metadata": {
        "id": "jJr_S7yfpHwI",
        "colab_type": "text"
      },
      "source": [
        "2012 is denoted in the notes as year '6' and 2014 is denoted in the notes as year '7'"
      ]
    },
    {
      "cell_type": "code",
      "metadata": {
        "id": "-bmVNAe2mrUh",
        "colab_type": "code",
        "outputId": "b1e93bfe-434a-4d8f-efe8-200d48459795",
        "colab": {
          "base_uri": "https://localhost:8080/",
          "height": 697
        }
      },
      "source": [
        "ess2012 = ess[ess['year']==6]\n",
        "ess2014 = ess[ess['year']==7]\n",
        "\n",
        "ess2012.info()\n",
        "ess2014.info()"
      ],
      "execution_count": 5,
      "outputs": [
        {
          "output_type": "stream",
          "text": [
            "<class 'pandas.core.frame.DataFrame'>\n",
            "Int64Index: 4071 entries, 0 to 7279\n",
            "Data columns (total 13 columns):\n",
            " #   Column   Non-Null Count  Dtype \n",
            "---  ------   --------------  ----- \n",
            " 0   cntry    4071 non-null   object\n",
            " 1   idno     4071 non-null   int64 \n",
            " 2   year     4071 non-null   int64 \n",
            " 3   tvtot    4071 non-null   int64 \n",
            " 4   ppltrst  4071 non-null   int64 \n",
            " 5   pplfair  4071 non-null   int64 \n",
            " 6   pplhlp   4071 non-null   int64 \n",
            " 7   happy    4071 non-null   int64 \n",
            " 8   sclmeet  4071 non-null   int64 \n",
            " 9   sclact   4071 non-null   int64 \n",
            " 10  gndr     4071 non-null   int64 \n",
            " 11  agea     4071 non-null   int64 \n",
            " 12  partner  4071 non-null   int64 \n",
            "dtypes: int64(12), object(1)\n",
            "memory usage: 445.3+ KB\n",
            "<class 'pandas.core.frame.DataFrame'>\n",
            "Int64Index: 4076 entries, 732 to 8146\n",
            "Data columns (total 13 columns):\n",
            " #   Column   Non-Null Count  Dtype \n",
            "---  ------   --------------  ----- \n",
            " 0   cntry    4076 non-null   object\n",
            " 1   idno     4076 non-null   int64 \n",
            " 2   year     4076 non-null   int64 \n",
            " 3   tvtot    4076 non-null   int64 \n",
            " 4   ppltrst  4076 non-null   int64 \n",
            " 5   pplfair  4076 non-null   int64 \n",
            " 6   pplhlp   4076 non-null   int64 \n",
            " 7   happy    4076 non-null   int64 \n",
            " 8   sclmeet  4076 non-null   int64 \n",
            " 9   sclact   4076 non-null   int64 \n",
            " 10  gndr     4076 non-null   int64 \n",
            " 11  agea     4076 non-null   int64 \n",
            " 12  partner  4076 non-null   int64 \n",
            "dtypes: int64(12), object(1)\n",
            "memory usage: 445.8+ KB\n"
          ],
          "name": "stdout"
        }
      ]
    },
    {
      "cell_type": "code",
      "metadata": {
        "id": "KbuTmG5jpsKx",
        "colab_type": "code",
        "outputId": "fbf9a095-8635-4764-84b9-0927512feb51",
        "colab": {
          "base_uri": "https://localhost:8080/",
          "height": 51
        }
      },
      "source": [
        "mean_trust_12 = ess2012['ppltrst'].mean()\n",
        "mean_trust_14 = ess2014['ppltrst'].mean()\n",
        "\n",
        "print(mean_trust_12)\n",
        "print(mean_trust_14)"
      ],
      "execution_count": 6,
      "outputs": [
        {
          "output_type": "stream",
          "text": [
            "5.578481945467944\n",
            "5.5713935230618254\n"
          ],
          "name": "stdout"
        }
      ]
    },
    {
      "cell_type": "code",
      "metadata": {
        "id": "uMrr0iqqsKlM",
        "colab_type": "code",
        "outputId": "d114d6fd-35cc-49b4-cf85-79370922bb2a",
        "colab": {
          "base_uri": "https://localhost:8080/",
          "height": 295
        }
      },
      "source": [
        "sns.set_style('dark')\n",
        "plt.hist(ess2012['ppltrst'], alpha=.5, label='2012')\n",
        "plt.hist(ess2014['ppltrst'], alpha=.5, label='2014')\n",
        "plt.ylabel('Number of Responses')\n",
        "plt.xlabel('Rating')\n",
        "plt.title('ESS Trust in People Dispersion')\n",
        "plt.legend();"
      ],
      "execution_count": 7,
      "outputs": [
        {
          "output_type": "display_data",
          "data": {
            "image/png": "[encoded data removed]",
            "text/plain": [
              "<Figure size 432x288 with 1 Axes>"
            ]
          },
          "metadata": {
            "tags": []
          }
        }
      ]
    },
    {
      "cell_type": "markdown",
      "metadata": {
        "id": "CbFwwIINsog6",
        "colab_type": "text"
      },
      "source": [
        "Data may not be normally distributed..."
      ]
    },
    {
      "cell_type": "code",
      "metadata": {
        "id": "A2hfib3dsrk9",
        "colab_type": "code",
        "outputId": "69b35411-1026-4140-b3e8-0f9e38e708d0",
        "colab": {
          "base_uri": "https://localhost:8080/",
          "height": 51
        }
      },
      "source": [
        "print(stats.describe(ess2012['ppltrst']))\n",
        "print(stats.describe(ess2014['ppltrst']))"
      ],
      "execution_count": 8,
      "outputs": [
        {
          "output_type": "stream",
          "text": [
            "DescribeResult(nobs=4071, minmax=(0, 10), mean=5.578481945467944, variance=4.893040545067073, skewness=-0.5431086926347095, kurtosis=-0.1210956960964813)\n",
            "DescribeResult(nobs=4076, minmax=(0, 10), mean=5.5713935230618254, variance=4.927171652708959, skewness=-0.4601859476512641, kurtosis=-0.25006786100787215)\n"
          ],
          "name": "stdout"
        }
      ]
    },
    {
      "cell_type": "markdown",
      "metadata": {
        "id": "76TbZgKFtbri",
        "colab_type": "text"
      },
      "source": [
        "...but everything seems to be in acceptable ranges!\n",
        "\n",
        "Let's do a box plot for this"
      ]
    },
    {
      "cell_type": "code",
      "metadata": {
        "id": "Nv0JKD2MqSFY",
        "colab_type": "code",
        "outputId": "415257c5-df72-4d94-c8aa-da9b95f8465e",
        "colab": {
          "base_uri": "https://localhost:8080/",
          "height": 281
        }
      },
      "source": [
        "sns.set_style('dark')\n",
        "sns.boxplot('year', 'ppltrst', data=ess)\n",
        "plt.title('ESS Average Trust in Other People')\n",
        "plt.xlabel('')\n",
        "plt.ylabel('Trust in People Rating')\n",
        "plt.xticks(np.arange(2), (2012,2014));"
      ],
      "execution_count": 9,
      "outputs": [
        {
          "output_type": "display_data",
          "data": {
            "image/png": "[encoded data removed]",
            "text/plain": [
              "<Figure size 432x288 with 1 Axes>"
            ]
          },
          "metadata": {
            "tags": []
          }
        }
      ]
    },
    {
      "cell_type": "markdown",
      "metadata": {
        "id": "aPfkrU0ZuQO0",
        "colab_type": "text"
      },
      "source": [
        "Results look very similar visually. Let see what a t-test states. "
      ]
    },
    {
      "cell_type": "code",
      "metadata": {
        "id": "57ta4HbpsEOe",
        "colab_type": "code",
        "outputId": "287a5395-996a-4be1-ef44-7357e831386d",
        "colab": {
          "base_uri": "https://localhost:8080/",
          "height": 34
        }
      },
      "source": [
        "stats.ttest_ind(ess2012['ppltrst'],ess2014['ppltrst'],)"
      ],
      "execution_count": 10,
      "outputs": [
        {
          "output_type": "execute_result",
          "data": {
            "text/plain": [
              "Ttest_indResult(statistic=0.1443685081969842, pvalue=0.8852130548889106)"
            ]
          },
          "metadata": {
            "tags": []
          },
          "execution_count": 10
        }
      ]
    },
    {
      "cell_type": "markdown",
      "metadata": {
        "id": "4Aa_J8Hv3oBH",
        "colab_type": "text"
      },
      "source": [
        "We have a high p-value so we are unable to reject the null hypothesis. These data sets do not differ enough (or much at all) for any significance"
      ]
    },
    {
      "cell_type": "markdown",
      "metadata": {
        "id": "DZFY5PNDmrwn",
        "colab_type": "text"
      },
      "source": [
        "###2. Did people become happier from 2012 to 2014?\n"
      ]
    },
    {
      "cell_type": "code",
      "metadata": {
        "id": "Pz57DQr7murF",
        "colab_type": "code",
        "outputId": "de08b1c1-4f88-4eee-d09f-470f156b0bc7",
        "colab": {
          "base_uri": "https://localhost:8080/",
          "height": 295
        }
      },
      "source": [
        "sns.set_style('dark')\n",
        "plt.hist(ess2012['happy'], alpha=.5, label='2012')\n",
        "plt.hist(ess2014['happy'], alpha=.5, label='2014')\n",
        "plt.ylabel('Number of Responses')\n",
        "plt.xlabel('Rating')\n",
        "plt.title('ESS Happiness Dispersion')\n",
        "plt.legend();"
      ],
      "execution_count": 11,
      "outputs": [
        {
          "output_type": "display_data",
          "data": {
            "image/png": "[encoded data removed]",
            "text/plain": [
              "<Figure size 432x288 with 1 Axes>"
            ]
          },
          "metadata": {
            "tags": []
          }
        }
      ]
    },
    {
      "cell_type": "markdown",
      "metadata": {
        "id": "RA51PiJ24_vf",
        "colab_type": "text"
      },
      "source": [
        "It is pretty clear that these variables are not normally distributed"
      ]
    },
    {
      "cell_type": "code",
      "metadata": {
        "id": "x3IHJ6a46Gnw",
        "colab_type": "code",
        "outputId": "84c159f1-133f-4bb0-974b-8d8349d86f7d",
        "colab": {
          "base_uri": "https://localhost:8080/",
          "height": 34
        }
      },
      "source": [
        "stats.kruskal(ess2012['happy'], ess2014['happy'])"
      ],
      "execution_count": 12,
      "outputs": [
        {
          "output_type": "execute_result",
          "data": {
            "text/plain": [
              "KruskalResult(statistic=3.725441202182227, pvalue=0.05358946830655459)"
            ]
          },
          "metadata": {
            "tags": []
          },
          "execution_count": 12
        }
      ]
    },
    {
      "cell_type": "markdown",
      "metadata": {
        "id": "Xmg_sJoA6qHp",
        "colab_type": "text"
      },
      "source": [
        "The p-value is not significant indicating that there is no change in happiness from 2012 - 2014"
      ]
    },
    {
      "cell_type": "markdown",
      "metadata": {
        "id": "-HdZFYuGmvGc",
        "colab_type": "text"
      },
      "source": [
        "###3. Pick three or four of the countries in the sample and compare how often people met socially in 2014. Are there differences, and if so, which countries stand out?\n"
      ]
    },
    {
      "cell_type": "code",
      "metadata": {
        "id": "VNEUdppPmxuE",
        "colab_type": "code",
        "outputId": "11da245f-3b8e-49e2-b6bb-a1cd714ce1e7",
        "colab": {
          "base_uri": "https://localhost:8080/",
          "height": 34
        }
      },
      "source": [
        "ess['cntry'].unique()"
      ],
      "execution_count": 13,
      "outputs": [
        {
          "output_type": "execute_result",
          "data": {
            "text/plain": [
              "array(['CH', 'CZ', 'DE', 'ES', 'NO', 'SE'], dtype=object)"
            ]
          },
          "metadata": {
            "tags": []
          },
          "execution_count": 13
        }
      ]
    },
    {
      "cell_type": "markdown",
      "metadata": {
        "id": "3m4wPzRR2Vp2",
        "colab_type": "text"
      },
      "source": [
        "According to the notes, this is Switzerland, Czech Republic, Germany, Spain, Norway, Sweden"
      ]
    },
    {
      "cell_type": "markdown",
      "metadata": {
        "id": "GtJWkV9c6_HY",
        "colab_type": "text"
      },
      "source": [
        "I will choose Sweden, Spain, Germany and Czech Republic (SE, ES, DE, CZ)"
      ]
    },
    {
      "cell_type": "code",
      "metadata": {
        "id": "nP9zmCMp65_G",
        "colab_type": "code",
        "outputId": "bd4619e5-3665-420e-beed-cb1eefbb6f5f",
        "colab": {
          "base_uri": "https://localhost:8080/",
          "height": 34
        }
      },
      "source": [
        "countries = ['SE', 'ES', 'DE', 'CZ']\n",
        "cntry_ess = ess[(ess['year']==7) & (ess['cntry'].isin(countries))]\n",
        "cntry_ess.cntry.unique()"
      ],
      "execution_count": 14,
      "outputs": [
        {
          "output_type": "execute_result",
          "data": {
            "text/plain": [
              "array(['CZ', 'DE', 'ES', 'SE'], dtype=object)"
            ]
          },
          "metadata": {
            "tags": []
          },
          "execution_count": 14
        }
      ]
    },
    {
      "cell_type": "code",
      "metadata": {
        "id": "pJ5sfGLe8AnY",
        "colab_type": "code",
        "outputId": "46775321-b49b-4abd-b747-66ec9930a07f",
        "colab": {
          "base_uri": "https://localhost:8080/",
          "height": 276
        }
      },
      "source": [
        "cntry_ess['sclmeet'].hist(by=cntry_ess['cntry']);"
      ],
      "execution_count": 15,
      "outputs": [
        {
          "output_type": "display_data",
          "data": {
            "image/png": "[encoded data removed]",
            "text/plain": [
              "<Figure size 432x288 with 4 Axes>"
            ]
          },
          "metadata": {
            "tags": []
          }
        }
      ]
    },
    {
      "cell_type": "markdown",
      "metadata": {
        "id": "pO8bSNp-9dQM",
        "colab_type": "text"
      },
      "source": [
        "ES, SE, DE do not look normally distributed, CZ may be normall distributed, and it doesn't look like Germany had many responses at all."
      ]
    },
    {
      "cell_type": "code",
      "metadata": {
        "id": "EuAwJGkl-QYS",
        "colab_type": "code",
        "outputId": "08afb2df-5d96-40ac-aba5-27c66a372983",
        "colab": {
          "base_uri": "https://localhost:8080/",
          "height": 119
        }
      },
      "source": [
        "cntry_ess['sclmeet'].groupby(cntry_ess['cntry']).count()"
      ],
      "execution_count": 16,
      "outputs": [
        {
          "output_type": "execute_result",
          "data": {
            "text/plain": [
              "cntry\n",
              "CZ     606\n",
              "DE      14\n",
              "ES    1134\n",
              "SE     867\n",
              "Name: sclmeet, dtype: int64"
            ]
          },
          "metadata": {
            "tags": []
          },
          "execution_count": 16
        }
      ]
    },
    {
      "cell_type": "markdown",
      "metadata": {
        "id": "NCnr_RpdGn82",
        "colab_type": "text"
      },
      "source": [
        "We will leave Germany out as our ideal would be to have > 30 data points"
      ]
    },
    {
      "cell_type": "code",
      "metadata": {
        "id": "5CZjsQQ5qQ_T",
        "colab_type": "code",
        "colab": {}
      },
      "source": [
        "countries = ['SE', 'ES', 'CZ']\n",
        "cntry_ess = ess[(ess['year']==7) & (ess['cntry'].isin(countries))]"
      ],
      "execution_count": 0,
      "outputs": []
    },
    {
      "cell_type": "code",
      "metadata": {
        "id": "oZmDgbFTJKGc",
        "colab_type": "code",
        "colab": {}
      },
      "source": [
        "CZ_ess = cntry_ess[cntry_ess['cntry']=='CZ']\n",
        "ES_ess = cntry_ess[cntry_ess['cntry']=='ES']\n",
        "SE_ess = cntry_ess[cntry_ess['cntry']=='SE']"
      ],
      "execution_count": 0,
      "outputs": []
    },
    {
      "cell_type": "code",
      "metadata": {
        "id": "vqEK5PJTh1lu",
        "colab_type": "code",
        "outputId": "d1d6289c-391f-40de-d077-76034fb0d3ad",
        "colab": {
          "base_uri": "https://localhost:8080/",
          "height": 68
        }
      },
      "source": [
        "print(stats.describe(CZ_ess['sclmeet']))\n",
        "print(stats.describe(ES_ess['sclmeet'])) \n",
        "print(stats.describe(SE_ess['sclmeet']))"
      ],
      "execution_count": 19,
      "outputs": [
        {
          "output_type": "stream",
          "text": [
            "DescribeResult(nobs=606, minmax=(1, 7), mean=4.4950495049504955, variance=2.164438262008019, skewness=-0.22873689943815514, kurtosis=-0.49084441486724817)\n",
            "DescribeResult(nobs=1134, minmax=(1, 7), mean=5.263668430335097, variance=2.067222541332574, skewness=-0.8331602682762435, kurtosis=0.2132945592754396)\n",
            "DescribeResult(nobs=867, minmax=(2, 7), mean=5.434832756632065, variance=1.8788314673784199, skewness=-0.6751138160495723, kurtosis=-0.4024683071086881)\n"
          ],
          "name": "stdout"
        }
      ]
    },
    {
      "cell_type": "markdown",
      "metadata": {
        "id": "Kf7QlwB1ju7S",
        "colab_type": "text"
      },
      "source": [
        "All samples look to be normally distributed, let's run an ANOVA"
      ]
    },
    {
      "cell_type": "code",
      "metadata": {
        "id": "8MiBSvdn_Gb0",
        "colab_type": "code",
        "outputId": "e48faa9b-884f-434e-c71f-2858c191def1",
        "colab": {
          "base_uri": "https://localhost:8080/",
          "height": 34
        }
      },
      "source": [
        "stats.f_oneway(CZ_ess['sclmeet'],ES_ess['sclmeet'],SE_ess['sclmeet'])"
      ],
      "execution_count": 20,
      "outputs": [
        {
          "output_type": "execute_result",
          "data": {
            "text/plain": [
              "F_onewayResult(statistic=85.03811666631785, pvalue=1.67652480854007e-36)"
            ]
          },
          "metadata": {
            "tags": []
          },
          "execution_count": 20
        }
      ]
    },
    {
      "cell_type": "markdown",
      "metadata": {
        "id": "zyLTkYETjhaW",
        "colab_type": "text"
      },
      "source": [
        "The ANOVA returned significant results. Let's run a Tukey HSD to see which of the "
      ]
    },
    {
      "cell_type": "code",
      "metadata": {
        "id": "J3dpqvhoBf6S",
        "colab_type": "code",
        "colab": {}
      },
      "source": [
        "from statsmodels.stats.multicomp import pairwise_tukeyhsd\n",
        "\n",
        "tukey = pairwise_tukeyhsd(endog = cntry_ess['sclmeet'],  #the variable we want to study\n",
        "                          groups = cntry_ess['cntry'],     #the groups we're comparing\n",
        "                          alpha = .05) "
      ],
      "execution_count": 0,
      "outputs": []
    },
    {
      "cell_type": "code",
      "metadata": {
        "id": "ShWQ1mPaou7s",
        "colab_type": "code",
        "outputId": "7a763c9a-8f77-4e24-fa8a-6316b1bf991a",
        "colab": {
          "base_uri": "https://localhost:8080/",
          "height": 137
        }
      },
      "source": [
        "tukey.summary()"
      ],
      "execution_count": 22,
      "outputs": [
        {
          "output_type": "execute_result",
          "data": {
            "text/html": [
              "<table class=\"simpletable\">\n",
              "<caption>Multiple Comparison of Means - Tukey HSD, FWER=0.05</caption>\n",
              "<tr>\n",
              "  <th>group1</th> <th>group2</th> <th>meandiff</th>  <th>p-adj</th>  <th>lower</th>  <th>upper</th> <th>reject</th>\n",
              "</tr>\n",
              "<tr>\n",
              "    <td>CZ</td>     <td>ES</td>    <td>0.7686</td>   <td>0.001</td> <td>0.6006</td> <td>0.9366</td>  <td>True</td> \n",
              "</tr>\n",
              "<tr>\n",
              "    <td>CZ</td>     <td>SE</td>    <td>0.9398</td>   <td>0.001</td>  <td>0.763</td> <td>1.1166</td>  <td>True</td> \n",
              "</tr>\n",
              "<tr>\n",
              "    <td>ES</td>     <td>SE</td>    <td>0.1712</td>  <td>0.0212</td> <td>0.0205</td> <td>0.3218</td>  <td>True</td> \n",
              "</tr>\n",
              "</table>"
            ],
            "text/plain": [
              "<class 'statsmodels.iolib.table.SimpleTable'>"
            ]
          },
          "metadata": {
            "tags": []
          },
          "execution_count": 22
        }
      ]
    },
    {
      "cell_type": "markdown",
      "metadata": {
        "id": "8y6q41-VHvkD",
        "colab_type": "text"
      },
      "source": [
        "Looks like we can reject the null for all pairs, but see below as CZ seems to be the odd one out."
      ]
    },
    {
      "cell_type": "code",
      "metadata": {
        "id": "0xWGk1aXsSBu",
        "colab_type": "code",
        "outputId": "8908ccb2-206b-4ba2-b42d-4e62ba1bddc9",
        "colab": {
          "base_uri": "https://localhost:8080/",
          "height": 68
        }
      },
      "source": [
        "print(f'The most popular answer for social meet ups in CZ was {int(CZ_ess.sclmeet.mode())}')\n",
        "print(f'The most popular answer for social meet ups in ES was {int(ES_ess.sclmeet.mode())}')\n",
        "print(f'The most popular answer for social meet ups in SE was {int(SE_ess.sclmeet.mode())}')"
      ],
      "execution_count": 23,
      "outputs": [
        {
          "output_type": "stream",
          "text": [
            "The most popular answer for social meet ups in CZ was 4\n",
            "The most popular answer for social meet ups in ES was 6\n",
            "The most popular answer for social meet ups in SE was 6\n"
          ],
          "name": "stdout"
        }
      ]
    },
    {
      "cell_type": "markdown",
      "metadata": {
        "id": "3aw7IzuTmyg6",
        "colab_type": "text"
      },
      "source": [
        "###4. Pick three or four of the countries in the sample and compare how often people took part in social activities, relative to others their age, in 2014. Are there differences, and if so, which countries stand out?\n"
      ]
    },
    {
      "cell_type": "code",
      "metadata": {
        "id": "uLP8p_2cm0Yz",
        "colab_type": "code",
        "outputId": "9fb9bb6f-5607-49f3-9dc4-96bdf6dc4dd5",
        "colab": {
          "base_uri": "https://localhost:8080/",
          "height": 204
        }
      },
      "source": [
        "countries2 = ['NO', 'SE', 'CH']\n",
        "cntry_ess2 = ess[(ess['year']==7) & (ess['cntry'].isin(countries2))]\n",
        "\n",
        "cntry_ess2.head()"
      ],
      "execution_count": 24,
      "outputs": [
        {
          "output_type": "execute_result",
          "data": {
            "text/html": [
              "<div>\n",
              "<style scoped>\n",
              "    .dataframe tbody tr th:only-of-type {\n",
              "        vertical-align: middle;\n",
              "    }\n",
              "\n",
              "    .dataframe tbody tr th {\n",
              "        vertical-align: top;\n",
              "    }\n",
              "\n",
              "    .dataframe thead th {\n",
              "        text-align: right;\n",
              "    }\n",
              "</style>\n",
              "<table border=\"1\" class=\"dataframe\">\n",
              "  <thead>\n",
              "    <tr style=\"text-align: right;\">\n",
              "      <th></th>\n",
              "      <th>cntry</th>\n",
              "      <th>idno</th>\n",
              "      <th>year</th>\n",
              "      <th>tvtot</th>\n",
              "      <th>ppltrst</th>\n",
              "      <th>pplfair</th>\n",
              "      <th>pplhlp</th>\n",
              "      <th>happy</th>\n",
              "      <th>sclmeet</th>\n",
              "      <th>sclact</th>\n",
              "      <th>gndr</th>\n",
              "      <th>agea</th>\n",
              "      <th>partner</th>\n",
              "    </tr>\n",
              "  </thead>\n",
              "  <tbody>\n",
              "    <tr>\n",
              "      <th>732</th>\n",
              "      <td>CH</td>\n",
              "      <td>5</td>\n",
              "      <td>7</td>\n",
              "      <td>2</td>\n",
              "      <td>8</td>\n",
              "      <td>9</td>\n",
              "      <td>7</td>\n",
              "      <td>9</td>\n",
              "      <td>6</td>\n",
              "      <td>4</td>\n",
              "      <td>1</td>\n",
              "      <td>69</td>\n",
              "      <td>1</td>\n",
              "    </tr>\n",
              "    <tr>\n",
              "      <th>733</th>\n",
              "      <td>CH</td>\n",
              "      <td>25</td>\n",
              "      <td>7</td>\n",
              "      <td>4</td>\n",
              "      <td>4</td>\n",
              "      <td>2</td>\n",
              "      <td>5</td>\n",
              "      <td>6</td>\n",
              "      <td>5</td>\n",
              "      <td>3</td>\n",
              "      <td>1</td>\n",
              "      <td>30</td>\n",
              "      <td>1</td>\n",
              "    </tr>\n",
              "    <tr>\n",
              "      <th>734</th>\n",
              "      <td>CH</td>\n",
              "      <td>26</td>\n",
              "      <td>7</td>\n",
              "      <td>3</td>\n",
              "      <td>8</td>\n",
              "      <td>8</td>\n",
              "      <td>6</td>\n",
              "      <td>8</td>\n",
              "      <td>7</td>\n",
              "      <td>5</td>\n",
              "      <td>2</td>\n",
              "      <td>49</td>\n",
              "      <td>2</td>\n",
              "    </tr>\n",
              "    <tr>\n",
              "      <th>735</th>\n",
              "      <td>CH</td>\n",
              "      <td>28</td>\n",
              "      <td>7</td>\n",
              "      <td>2</td>\n",
              "      <td>7</td>\n",
              "      <td>7</td>\n",
              "      <td>5</td>\n",
              "      <td>9</td>\n",
              "      <td>6</td>\n",
              "      <td>2</td>\n",
              "      <td>1</td>\n",
              "      <td>51</td>\n",
              "      <td>1</td>\n",
              "    </tr>\n",
              "    <tr>\n",
              "      <th>736</th>\n",
              "      <td>CH</td>\n",
              "      <td>29</td>\n",
              "      <td>7</td>\n",
              "      <td>2</td>\n",
              "      <td>4</td>\n",
              "      <td>7</td>\n",
              "      <td>0</td>\n",
              "      <td>8</td>\n",
              "      <td>6</td>\n",
              "      <td>2</td>\n",
              "      <td>2</td>\n",
              "      <td>32</td>\n",
              "      <td>2</td>\n",
              "    </tr>\n",
              "  </tbody>\n",
              "</table>\n",
              "</div>"
            ],
            "text/plain": [
              "    cntry  idno  year  tvtot  ppltrst  ...  sclmeet  sclact  gndr  agea  partner\n",
              "732    CH     5     7      2        8  ...        6       4     1    69        1\n",
              "733    CH    25     7      4        4  ...        5       3     1    30        1\n",
              "734    CH    26     7      3        8  ...        7       5     2    49        2\n",
              "735    CH    28     7      2        7  ...        6       2     1    51        1\n",
              "736    CH    29     7      2        4  ...        6       2     2    32        2\n",
              "\n",
              "[5 rows x 13 columns]"
            ]
          },
          "metadata": {
            "tags": []
          },
          "execution_count": 24
        }
      ]
    },
    {
      "cell_type": "code",
      "metadata": {
        "id": "Tdhj-YC-VxQM",
        "colab_type": "code",
        "outputId": "b6becdfd-99ab-430c-ef3c-811be1668918",
        "colab": {
          "base_uri": "https://localhost:8080/",
          "height": 276
        }
      },
      "source": [
        "cntry_ess2['sclact'].hist(by=cntry_ess2['cntry']);"
      ],
      "execution_count": 25,
      "outputs": [
        {
          "output_type": "display_data",
          "data": {
            "image/png": "[encoded data removed]",
            "text/plain": [
              "<Figure size 432x288 with 4 Axes>"
            ]
          },
          "metadata": {
            "tags": []
          }
        }
      ]
    },
    {
      "cell_type": "markdown",
      "metadata": {
        "id": "170WjWVpV-0o",
        "colab_type": "text"
      },
      "source": [
        "Data looks normally distributed. Let's test:"
      ]
    },
    {
      "cell_type": "code",
      "metadata": {
        "id": "VqdFfjaOWCRF",
        "colab_type": "code",
        "outputId": "2c17bfc9-c946-4d42-b1e9-94629e2934c7",
        "colab": {
          "base_uri": "https://localhost:8080/",
          "height": 68
        }
      },
      "source": [
        "CH_ess = cntry_ess2[cntry_ess2['cntry']=='CH']\n",
        "NO_ess = cntry_ess2[cntry_ess2['cntry']=='NO']\n",
        "SE_ess = cntry_ess2[cntry_ess2['cntry']=='SE']\n",
        "\n",
        "print(stats.describe(CH_ess['sclact']))\n",
        "print(stats.describe(NO_ess['sclact']))\n",
        "print(stats.describe(SE_ess['sclact']))"
      ],
      "execution_count": 26,
      "outputs": [
        {
          "output_type": "stream",
          "text": [
            "DescribeResult(nobs=743, minmax=(1, 5), mean=2.784656796769852, variance=0.821489336230696, skewness=0.056518838123621226, kurtosis=-0.05699247701187771)\n",
            "DescribeResult(nobs=712, minmax=(1, 5), mean=2.860955056179775, variance=0.6740289037437381, skewness=0.09364724158452321, kurtosis=0.39039548364910237)\n",
            "DescribeResult(nobs=867, minmax=(1, 5), mean=2.878892733564014, variance=0.7393576640002557, skewness=-0.07057138165607037, kurtosis=-0.0019064717623313854)\n"
          ],
          "name": "stdout"
        }
      ]
    },
    {
      "cell_type": "markdown",
      "metadata": {
        "id": "FjFLCHESWmnz",
        "colab_type": "text"
      },
      "source": [
        "Data is normally distributed. Let's run an ANOVA"
      ]
    },
    {
      "cell_type": "code",
      "metadata": {
        "id": "SWGA1leAXtVG",
        "colab_type": "code",
        "outputId": "6ae20be0-126f-477a-856c-c619bb7c0a58",
        "colab": {
          "base_uri": "https://localhost:8080/",
          "height": 34
        }
      },
      "source": [
        "stats.f_oneway(CH_ess['sclact'],NO_ess['sclact'],SE_ess['sclact'])"
      ],
      "execution_count": 27,
      "outputs": [
        {
          "output_type": "execute_result",
          "data": {
            "text/plain": [
              "F_onewayResult(statistic=2.598868499168873, pvalue=0.07457422573866376)"
            ]
          },
          "metadata": {
            "tags": []
          },
          "execution_count": 27
        }
      ]
    },
    {
      "cell_type": "markdown",
      "metadata": {
        "id": "OC1SwhRwYm1C",
        "colab_type": "text"
      },
      "source": [
        "The null cannot be rejected. The data for these countries is not significant. It does not seem as though the countries differ from eachother in the number of social activities they partake in per their age group."
      ]
    },
    {
      "cell_type": "markdown",
      "metadata": {
        "id": "ofX2LnxNm0tH",
        "colab_type": "text"
      },
      "source": [
        "\n",
        "---\n",
        "##Ruff Figural Fluency Test \n",
        "\n",
        "This test provides information about nonverbal capacity for initiation, planning, and divergent reasoning.\n",
        "\n",
        "###1. Is there a significant difference in the number of unique designs drawn by the same participants from Measurement 2 to Measurement 3?\n"
      ]
    },
    {
      "cell_type": "code",
      "metadata": {
        "id": "oOf_FUxpuuz1",
        "colab_type": "code",
        "outputId": "cd827cb5-05d4-4a39-e659-a41238fdc5ec",
        "colab": {
          "base_uri": "https://localhost:8080/",
          "height": 614
        }
      },
      "source": [
        "ruff_df = pd.read_csv('https://tf-assets-prod.s3.amazonaws.com/tf-curric/data-science/rfft.csv')\n",
        "ruff_df.info()\n",
        "ruff_df.head(10)"
      ],
      "execution_count": 28,
      "outputs": [
        {
          "output_type": "stream",
          "text": [
            "<class 'pandas.core.frame.DataFrame'>\n",
            "RangeIndex: 7545 entries, 0 to 7544\n",
            "Data columns (total 8 columns):\n",
            " #   Column         Non-Null Count  Dtype  \n",
            "---  ------         --------------  -----  \n",
            " 0   Casenr         7545 non-null   int64  \n",
            " 1   Age            7545 non-null   int64  \n",
            " 2   Gender         7545 non-null   object \n",
            " 3   Education      7545 non-null   object \n",
            " 4   Measurement    7545 non-null   object \n",
            " 5   Unique         7545 non-null   float64\n",
            " 6   Perseverative  7545 non-null   float64\n",
            " 7   Interval       7545 non-null   object \n",
            "dtypes: float64(2), int64(2), object(4)\n",
            "memory usage: 471.7+ KB\n"
          ],
          "name": "stdout"
        },
        {
          "output_type": "execute_result",
          "data": {
            "text/html": [
              "<div>\n",
              "<style scoped>\n",
              "    .dataframe tbody tr th:only-of-type {\n",
              "        vertical-align: middle;\n",
              "    }\n",
              "\n",
              "    .dataframe tbody tr th {\n",
              "        vertical-align: top;\n",
              "    }\n",
              "\n",
              "    .dataframe thead th {\n",
              "        text-align: right;\n",
              "    }\n",
              "</style>\n",
              "<table border=\"1\" class=\"dataframe\">\n",
              "  <thead>\n",
              "    <tr style=\"text-align: right;\">\n",
              "      <th></th>\n",
              "      <th>Casenr</th>\n",
              "      <th>Age</th>\n",
              "      <th>Gender</th>\n",
              "      <th>Education</th>\n",
              "      <th>Measurement</th>\n",
              "      <th>Unique</th>\n",
              "      <th>Perseverative</th>\n",
              "      <th>Interval</th>\n",
              "    </tr>\n",
              "  </thead>\n",
              "  <tbody>\n",
              "    <tr>\n",
              "      <th>0</th>\n",
              "      <td>1</td>\n",
              "      <td>74</td>\n",
              "      <td>Male</td>\n",
              "      <td>Lower secondary school (ISCED 2)</td>\n",
              "      <td>Measurement 1 (2003-2006)</td>\n",
              "      <td>32.0</td>\n",
              "      <td>1.0</td>\n",
              "      <td>Not applicable</td>\n",
              "    </tr>\n",
              "    <tr>\n",
              "      <th>1</th>\n",
              "      <td>1</td>\n",
              "      <td>74</td>\n",
              "      <td>Male</td>\n",
              "      <td>Lower secondary school (ISCED 2)</td>\n",
              "      <td>Measurement 2 (2006-2008)</td>\n",
              "      <td>35.0</td>\n",
              "      <td>0.0</td>\n",
              "      <td>2.842122556</td>\n",
              "    </tr>\n",
              "    <tr>\n",
              "      <th>2</th>\n",
              "      <td>1</td>\n",
              "      <td>74</td>\n",
              "      <td>Male</td>\n",
              "      <td>Lower secondary school (ISCED 2)</td>\n",
              "      <td>Measurement 3 (2008-2012)</td>\n",
              "      <td>50.5</td>\n",
              "      <td>14.5</td>\n",
              "      <td>2.201232033</td>\n",
              "    </tr>\n",
              "    <tr>\n",
              "      <th>3</th>\n",
              "      <td>2</td>\n",
              "      <td>48</td>\n",
              "      <td>Male</td>\n",
              "      <td>Higher secondary school (ISCED 3-4)</td>\n",
              "      <td>Measurement 1 (2003-2006)</td>\n",
              "      <td>26.0</td>\n",
              "      <td>3.0</td>\n",
              "      <td>Not applicable</td>\n",
              "    </tr>\n",
              "    <tr>\n",
              "      <th>4</th>\n",
              "      <td>2</td>\n",
              "      <td>48</td>\n",
              "      <td>Male</td>\n",
              "      <td>Higher secondary school (ISCED 3-4)</td>\n",
              "      <td>Measurement 2 (2006-2008)</td>\n",
              "      <td>47.0</td>\n",
              "      <td>3.0</td>\n",
              "      <td>2.762718362</td>\n",
              "    </tr>\n",
              "    <tr>\n",
              "      <th>5</th>\n",
              "      <td>2</td>\n",
              "      <td>48</td>\n",
              "      <td>Male</td>\n",
              "      <td>Higher secondary school (ISCED 3-4)</td>\n",
              "      <td>Measurement 3 (2008-2012)</td>\n",
              "      <td>71.0</td>\n",
              "      <td>0.5</td>\n",
              "      <td>2.376454483</td>\n",
              "    </tr>\n",
              "    <tr>\n",
              "      <th>6</th>\n",
              "      <td>3</td>\n",
              "      <td>54</td>\n",
              "      <td>Male</td>\n",
              "      <td>Higher secondary school (ISCED 3-4)</td>\n",
              "      <td>Measurement 1 (2003-2006)</td>\n",
              "      <td>91.0</td>\n",
              "      <td>11.0</td>\n",
              "      <td>Not applicable</td>\n",
              "    </tr>\n",
              "    <tr>\n",
              "      <th>7</th>\n",
              "      <td>3</td>\n",
              "      <td>54</td>\n",
              "      <td>Male</td>\n",
              "      <td>Higher secondary school (ISCED 3-4)</td>\n",
              "      <td>Measurement 2 (2006-2008)</td>\n",
              "      <td>83.5</td>\n",
              "      <td>21.0</td>\n",
              "      <td>2.628552653</td>\n",
              "    </tr>\n",
              "    <tr>\n",
              "      <th>8</th>\n",
              "      <td>3</td>\n",
              "      <td>54</td>\n",
              "      <td>Male</td>\n",
              "      <td>Higher secondary school (ISCED 3-4)</td>\n",
              "      <td>Measurement 3 (2008-2012)</td>\n",
              "      <td>77.0</td>\n",
              "      <td>17.0</td>\n",
              "      <td>3.392197125</td>\n",
              "    </tr>\n",
              "    <tr>\n",
              "      <th>9</th>\n",
              "      <td>4</td>\n",
              "      <td>70</td>\n",
              "      <td>Male</td>\n",
              "      <td>Higher secondary school (ISCED 3-4)</td>\n",
              "      <td>Measurement 1 (2003-2006)</td>\n",
              "      <td>59.0</td>\n",
              "      <td>49.0</td>\n",
              "      <td>Not applicable</td>\n",
              "    </tr>\n",
              "  </tbody>\n",
              "</table>\n",
              "</div>"
            ],
            "text/plain": [
              "   Casenr  Age Gender  ... Unique Perseverative        Interval\n",
              "0       1   74   Male  ...   32.0           1.0  Not applicable\n",
              "1       1   74   Male  ...   35.0           0.0     2.842122556\n",
              "2       1   74   Male  ...   50.5          14.5     2.201232033\n",
              "3       2   48   Male  ...   26.0           3.0  Not applicable\n",
              "4       2   48   Male  ...   47.0           3.0     2.762718362\n",
              "5       2   48   Male  ...   71.0           0.5     2.376454483\n",
              "6       3   54   Male  ...   91.0          11.0  Not applicable\n",
              "7       3   54   Male  ...   83.5          21.0     2.628552653\n",
              "8       3   54   Male  ...   77.0          17.0     3.392197125\n",
              "9       4   70   Male  ...   59.0          49.0  Not applicable\n",
              "\n",
              "[10 rows x 8 columns]"
            ]
          },
          "metadata": {
            "tags": []
          },
          "execution_count": 28
        }
      ]
    },
    {
      "cell_type": "markdown",
      "metadata": {
        "id": "vEXsNDETwIrn",
        "colab_type": "text"
      },
      "source": [
        "Let's separate the df in to Measure 2 and Measure 3"
      ]
    },
    {
      "cell_type": "code",
      "metadata": {
        "id": "13U6vtw9vp1M",
        "colab_type": "code",
        "outputId": "ca45afc5-af88-425f-99ab-d7c4f4661fa5",
        "colab": {
          "base_uri": "https://localhost:8080/",
          "height": 459
        }
      },
      "source": [
        "ruff_m2 = ruff_df[ruff_df['Measurement']=='Measurement 2 (2006-2008)']\n",
        "ruff_m3 = ruff_df[ruff_df['Measurement']=='Measurement 3 (2008-2012)']\n",
        "ruff_m2.info()\n",
        "ruff_m2.head()"
      ],
      "execution_count": 29,
      "outputs": [
        {
          "output_type": "stream",
          "text": [
            "<class 'pandas.core.frame.DataFrame'>\n",
            "Int64Index: 2515 entries, 1 to 7543\n",
            "Data columns (total 8 columns):\n",
            " #   Column         Non-Null Count  Dtype  \n",
            "---  ------         --------------  -----  \n",
            " 0   Casenr         2515 non-null   int64  \n",
            " 1   Age            2515 non-null   int64  \n",
            " 2   Gender         2515 non-null   object \n",
            " 3   Education      2515 non-null   object \n",
            " 4   Measurement    2515 non-null   object \n",
            " 5   Unique         2515 non-null   float64\n",
            " 6   Perseverative  2515 non-null   float64\n",
            " 7   Interval       2515 non-null   object \n",
            "dtypes: float64(2), int64(2), object(4)\n",
            "memory usage: 176.8+ KB\n"
          ],
          "name": "stdout"
        },
        {
          "output_type": "execute_result",
          "data": {
            "text/html": [
              "<div>\n",
              "<style scoped>\n",
              "    .dataframe tbody tr th:only-of-type {\n",
              "        vertical-align: middle;\n",
              "    }\n",
              "\n",
              "    .dataframe tbody tr th {\n",
              "        vertical-align: top;\n",
              "    }\n",
              "\n",
              "    .dataframe thead th {\n",
              "        text-align: right;\n",
              "    }\n",
              "</style>\n",
              "<table border=\"1\" class=\"dataframe\">\n",
              "  <thead>\n",
              "    <tr style=\"text-align: right;\">\n",
              "      <th></th>\n",
              "      <th>Casenr</th>\n",
              "      <th>Age</th>\n",
              "      <th>Gender</th>\n",
              "      <th>Education</th>\n",
              "      <th>Measurement</th>\n",
              "      <th>Unique</th>\n",
              "      <th>Perseverative</th>\n",
              "      <th>Interval</th>\n",
              "    </tr>\n",
              "  </thead>\n",
              "  <tbody>\n",
              "    <tr>\n",
              "      <th>1</th>\n",
              "      <td>1</td>\n",
              "      <td>74</td>\n",
              "      <td>Male</td>\n",
              "      <td>Lower secondary school (ISCED 2)</td>\n",
              "      <td>Measurement 2 (2006-2008)</td>\n",
              "      <td>35.0</td>\n",
              "      <td>0.0</td>\n",
              "      <td>2.842122556</td>\n",
              "    </tr>\n",
              "    <tr>\n",
              "      <th>4</th>\n",
              "      <td>2</td>\n",
              "      <td>48</td>\n",
              "      <td>Male</td>\n",
              "      <td>Higher secondary school (ISCED 3-4)</td>\n",
              "      <td>Measurement 2 (2006-2008)</td>\n",
              "      <td>47.0</td>\n",
              "      <td>3.0</td>\n",
              "      <td>2.762718362</td>\n",
              "    </tr>\n",
              "    <tr>\n",
              "      <th>7</th>\n",
              "      <td>3</td>\n",
              "      <td>54</td>\n",
              "      <td>Male</td>\n",
              "      <td>Higher secondary school (ISCED 3-4)</td>\n",
              "      <td>Measurement 2 (2006-2008)</td>\n",
              "      <td>83.5</td>\n",
              "      <td>21.0</td>\n",
              "      <td>2.628552653</td>\n",
              "    </tr>\n",
              "    <tr>\n",
              "      <th>10</th>\n",
              "      <td>4</td>\n",
              "      <td>70</td>\n",
              "      <td>Male</td>\n",
              "      <td>Higher secondary school (ISCED 3-4)</td>\n",
              "      <td>Measurement 2 (2006-2008)</td>\n",
              "      <td>54.0</td>\n",
              "      <td>39.0</td>\n",
              "      <td>2.762718362</td>\n",
              "    </tr>\n",
              "    <tr>\n",
              "      <th>13</th>\n",
              "      <td>5</td>\n",
              "      <td>52</td>\n",
              "      <td>Male</td>\n",
              "      <td>University (ISCED 5-6)</td>\n",
              "      <td>Measurement 2 (2006-2008)</td>\n",
              "      <td>68.0</td>\n",
              "      <td>16.0</td>\n",
              "      <td>2.844860632</td>\n",
              "    </tr>\n",
              "  </tbody>\n",
              "</table>\n",
              "</div>"
            ],
            "text/plain": [
              "    Casenr  Age Gender  ... Unique Perseverative     Interval\n",
              "1        1   74   Male  ...   35.0           0.0  2.842122556\n",
              "4        2   48   Male  ...   47.0           3.0  2.762718362\n",
              "7        3   54   Male  ...   83.5          21.0  2.628552653\n",
              "10       4   70   Male  ...   54.0          39.0  2.762718362\n",
              "13       5   52   Male  ...   68.0          16.0  2.844860632\n",
              "\n",
              "[5 rows x 8 columns]"
            ]
          },
          "metadata": {
            "tags": []
          },
          "execution_count": 29
        }
      ]
    },
    {
      "cell_type": "code",
      "metadata": {
        "id": "5FIj0NVgKL49",
        "colab_type": "code",
        "outputId": "a063906b-86dd-4e41-9de7-6b908dcfaacc",
        "colab": {
          "base_uri": "https://localhost:8080/",
          "height": 459
        }
      },
      "source": [
        "ruff_m3.info()\n",
        "ruff_m3.head()"
      ],
      "execution_count": 30,
      "outputs": [
        {
          "output_type": "stream",
          "text": [
            "<class 'pandas.core.frame.DataFrame'>\n",
            "Int64Index: 2515 entries, 2 to 7544\n",
            "Data columns (total 8 columns):\n",
            " #   Column         Non-Null Count  Dtype  \n",
            "---  ------         --------------  -----  \n",
            " 0   Casenr         2515 non-null   int64  \n",
            " 1   Age            2515 non-null   int64  \n",
            " 2   Gender         2515 non-null   object \n",
            " 3   Education      2515 non-null   object \n",
            " 4   Measurement    2515 non-null   object \n",
            " 5   Unique         2515 non-null   float64\n",
            " 6   Perseverative  2515 non-null   float64\n",
            " 7   Interval       2515 non-null   object \n",
            "dtypes: float64(2), int64(2), object(4)\n",
            "memory usage: 176.8+ KB\n"
          ],
          "name": "stdout"
        },
        {
          "output_type": "execute_result",
          "data": {
            "text/html": [
              "<div>\n",
              "<style scoped>\n",
              "    .dataframe tbody tr th:only-of-type {\n",
              "        vertical-align: middle;\n",
              "    }\n",
              "\n",
              "    .dataframe tbody tr th {\n",
              "        vertical-align: top;\n",
              "    }\n",
              "\n",
              "    .dataframe thead th {\n",
              "        text-align: right;\n",
              "    }\n",
              "</style>\n",
              "<table border=\"1\" class=\"dataframe\">\n",
              "  <thead>\n",
              "    <tr style=\"text-align: right;\">\n",
              "      <th></th>\n",
              "      <th>Casenr</th>\n",
              "      <th>Age</th>\n",
              "      <th>Gender</th>\n",
              "      <th>Education</th>\n",
              "      <th>Measurement</th>\n",
              "      <th>Unique</th>\n",
              "      <th>Perseverative</th>\n",
              "      <th>Interval</th>\n",
              "    </tr>\n",
              "  </thead>\n",
              "  <tbody>\n",
              "    <tr>\n",
              "      <th>2</th>\n",
              "      <td>1</td>\n",
              "      <td>74</td>\n",
              "      <td>Male</td>\n",
              "      <td>Lower secondary school (ISCED 2)</td>\n",
              "      <td>Measurement 3 (2008-2012)</td>\n",
              "      <td>50.5</td>\n",
              "      <td>14.5</td>\n",
              "      <td>2.201232033</td>\n",
              "    </tr>\n",
              "    <tr>\n",
              "      <th>5</th>\n",
              "      <td>2</td>\n",
              "      <td>48</td>\n",
              "      <td>Male</td>\n",
              "      <td>Higher secondary school (ISCED 3-4)</td>\n",
              "      <td>Measurement 3 (2008-2012)</td>\n",
              "      <td>71.0</td>\n",
              "      <td>0.5</td>\n",
              "      <td>2.376454483</td>\n",
              "    </tr>\n",
              "    <tr>\n",
              "      <th>8</th>\n",
              "      <td>3</td>\n",
              "      <td>54</td>\n",
              "      <td>Male</td>\n",
              "      <td>Higher secondary school (ISCED 3-4)</td>\n",
              "      <td>Measurement 3 (2008-2012)</td>\n",
              "      <td>77.0</td>\n",
              "      <td>17.0</td>\n",
              "      <td>3.392197125</td>\n",
              "    </tr>\n",
              "    <tr>\n",
              "      <th>11</th>\n",
              "      <td>4</td>\n",
              "      <td>70</td>\n",
              "      <td>Male</td>\n",
              "      <td>Higher secondary school (ISCED 3-4)</td>\n",
              "      <td>Measurement 3 (2008-2012)</td>\n",
              "      <td>64.0</td>\n",
              "      <td>11.0</td>\n",
              "      <td>2.650239562</td>\n",
              "    </tr>\n",
              "    <tr>\n",
              "      <th>14</th>\n",
              "      <td>5</td>\n",
              "      <td>52</td>\n",
              "      <td>Male</td>\n",
              "      <td>University (ISCED 5-6)</td>\n",
              "      <td>Measurement 3 (2008-2012)</td>\n",
              "      <td>21.0</td>\n",
              "      <td>0.0</td>\n",
              "      <td>2.247775496</td>\n",
              "    </tr>\n",
              "  </tbody>\n",
              "</table>\n",
              "</div>"
            ],
            "text/plain": [
              "    Casenr  Age Gender  ... Unique Perseverative     Interval\n",
              "2        1   74   Male  ...   50.5          14.5  2.201232033\n",
              "5        2   48   Male  ...   71.0           0.5  2.376454483\n",
              "8        3   54   Male  ...   77.0          17.0  3.392197125\n",
              "11       4   70   Male  ...   64.0          11.0  2.650239562\n",
              "14       5   52   Male  ...   21.0           0.0  2.247775496\n",
              "\n",
              "[5 rows x 8 columns]"
            ]
          },
          "metadata": {
            "tags": []
          },
          "execution_count": 30
        }
      ]
    },
    {
      "cell_type": "code",
      "metadata": {
        "id": "PupbBD70Bg2R",
        "colab_type": "code",
        "outputId": "ad6a94fa-6091-448a-8258-cb829d478582",
        "colab": {
          "base_uri": "https://localhost:8080/",
          "height": 235
        }
      },
      "source": [
        "ruff_unique = ruff_df.pivot(index='Casenr', columns='Measurement', values='Unique')\n",
        "ruff_unique.head()"
      ],
      "execution_count": 31,
      "outputs": [
        {
          "output_type": "execute_result",
          "data": {
            "text/html": [
              "<div>\n",
              "<style scoped>\n",
              "    .dataframe tbody tr th:only-of-type {\n",
              "        vertical-align: middle;\n",
              "    }\n",
              "\n",
              "    .dataframe tbody tr th {\n",
              "        vertical-align: top;\n",
              "    }\n",
              "\n",
              "    .dataframe thead th {\n",
              "        text-align: right;\n",
              "    }\n",
              "</style>\n",
              "<table border=\"1\" class=\"dataframe\">\n",
              "  <thead>\n",
              "    <tr style=\"text-align: right;\">\n",
              "      <th>Measurement</th>\n",
              "      <th>Measurement 1 (2003-2006)</th>\n",
              "      <th>Measurement 2 (2006-2008)</th>\n",
              "      <th>Measurement 3 (2008-2012)</th>\n",
              "    </tr>\n",
              "    <tr>\n",
              "      <th>Casenr</th>\n",
              "      <th></th>\n",
              "      <th></th>\n",
              "      <th></th>\n",
              "    </tr>\n",
              "  </thead>\n",
              "  <tbody>\n",
              "    <tr>\n",
              "      <th>1</th>\n",
              "      <td>32.0</td>\n",
              "      <td>35.0</td>\n",
              "      <td>50.5</td>\n",
              "    </tr>\n",
              "    <tr>\n",
              "      <th>2</th>\n",
              "      <td>26.0</td>\n",
              "      <td>47.0</td>\n",
              "      <td>71.0</td>\n",
              "    </tr>\n",
              "    <tr>\n",
              "      <th>3</th>\n",
              "      <td>91.0</td>\n",
              "      <td>83.5</td>\n",
              "      <td>77.0</td>\n",
              "    </tr>\n",
              "    <tr>\n",
              "      <th>4</th>\n",
              "      <td>59.0</td>\n",
              "      <td>54.0</td>\n",
              "      <td>64.0</td>\n",
              "    </tr>\n",
              "    <tr>\n",
              "      <th>5</th>\n",
              "      <td>60.0</td>\n",
              "      <td>68.0</td>\n",
              "      <td>21.0</td>\n",
              "    </tr>\n",
              "  </tbody>\n",
              "</table>\n",
              "</div>"
            ],
            "text/plain": [
              "Measurement  Measurement 1 (2003-2006)  ...  Measurement 3 (2008-2012)\n",
              "Casenr                                  ...                           \n",
              "1                                 32.0  ...                       50.5\n",
              "2                                 26.0  ...                       71.0\n",
              "3                                 91.0  ...                       77.0\n",
              "4                                 59.0  ...                       64.0\n",
              "5                                 60.0  ...                       21.0\n",
              "\n",
              "[5 rows x 3 columns]"
            ]
          },
          "metadata": {
            "tags": []
          },
          "execution_count": 31
        }
      ]
    },
    {
      "cell_type": "code",
      "metadata": {
        "id": "N0_64-yaChE9",
        "colab_type": "code",
        "outputId": "47d8dcd4-76cf-4052-9ed7-3c76b4df2e26",
        "colab": {
          "base_uri": "https://localhost:8080/",
          "height": 336
        }
      },
      "source": [
        "fig, ax = plt.subplots(1,2, figsize = (12,5))\n",
        "\n",
        "ax[0].hist(ruff_m2['Unique'], alpha=.5)\n",
        "ax[0].hist(ruff_m3['Unique'], alpha=.5)\n",
        "ax[1].hist(ruff_unique['Measurement 3 (2008-2012)'] - ruff_unique['Measurement 2 (2006-2008)'])\n",
        "ax[0].set(title='ruff_m2 and ruff_m3 dist overlay')\n",
        "ax[1].set(title='Difference of ruff_m2 and ruff_m3 dist');"
      ],
      "execution_count": 32,
      "outputs": [
        {
          "output_type": "display_data",
          "data": {
            "image/png": "[encoded data removed]",
            "text/plain": [
              "<Figure size 864x360 with 2 Axes>"
            ]
          },
          "metadata": {
            "tags": []
          }
        }
      ]
    },
    {
      "cell_type": "markdown",
      "metadata": {
        "id": "p917fNr-D6vg",
        "colab_type": "text"
      },
      "source": [
        "The histograms look normally distributed. Let's test:"
      ]
    },
    {
      "cell_type": "code",
      "metadata": {
        "id": "8rAQV9jDEAAs",
        "colab_type": "code",
        "outputId": "4d51a03a-e6d7-4e91-b527-309a1039b87c",
        "colab": {
          "base_uri": "https://localhost:8080/",
          "height": 88
        }
      },
      "source": [
        "print(stats.describe(ruff_m2['Unique']))\n",
        "print(stats.describe(ruff_m3['Unique']))\n",
        "print(stats.describe(ruff_unique['Measurement 3 (2008-2012)'] - ruff_unique['Measurement 2 (2006-2008)']))"
      ],
      "execution_count": 33,
      "outputs": [
        {
          "output_type": "stream",
          "text": [
            "DescribeResult(nobs=2515, minmax=(13.0, 155.0), mean=78.69244532803181, variance=707.0341513370058, skewness=0.1471876477093264, kurtosis=-0.5467621966747225)\n",
            "DescribeResult(nobs=2515, minmax=(13.5, 161.5), mean=82.7079522862823, variance=808.8049884464099, skewness=0.020360395669875728, kurtosis=-0.5479245402887649)\n",
            "DescribeResult(nobs=2515, minmax=(-75.5, 68.5), mean=4.015506958250497, variance=342.2368318331855, skewness=-0.15837265462838976, kurtosis=0.7823714353134701)\n"
          ],
          "name": "stdout"
        }
      ]
    },
    {
      "cell_type": "markdown",
      "metadata": {
        "id": "GRWRBldDEOd2",
        "colab_type": "text"
      },
      "source": [
        "Distributions are normal. Let's run a paired t-test to see if there is a difference in unique designs"
      ]
    },
    {
      "cell_type": "code",
      "metadata": {
        "id": "NDlxNIH1Et1S",
        "colab_type": "code",
        "outputId": "7e865b22-6db8-44c8-cc8f-03626c156f63",
        "colab": {
          "base_uri": "https://localhost:8080/",
          "height": 34
        }
      },
      "source": [
        "stats.ttest_rel(ruff_m2['Unique'], ruff_m3['Unique'])"
      ],
      "execution_count": 34,
      "outputs": [
        {
          "output_type": "execute_result",
          "data": {
            "text/plain": [
              "Ttest_relResult(statistic=-10.88544039426271, pvalue=5.3585747477799544e-27)"
            ]
          },
          "metadata": {
            "tags": []
          },
          "execution_count": 34
        }
      ]
    },
    {
      "cell_type": "code",
      "metadata": {
        "id": "E70GsfklOk_y",
        "colab_type": "code",
        "outputId": "3c42ce3f-1e67-44bd-b020-f5e0fd23e7f1",
        "colab": {
          "base_uri": "https://localhost:8080/",
          "height": 51
        }
      },
      "source": [
        "print(ruff_m2['Unique'].mean())\n",
        "print(ruff_m3['Unique'].mean())"
      ],
      "execution_count": 35,
      "outputs": [
        {
          "output_type": "stream",
          "text": [
            "78.69244532803181\n",
            "82.7079522862823\n"
          ],
          "name": "stdout"
        }
      ]
    },
    {
      "cell_type": "code",
      "metadata": {
        "id": "5drp8cL9sTLb",
        "colab_type": "code",
        "outputId": "2ba060ae-44a2-4ef4-8b19-9a4bac372fe2",
        "colab": {
          "base_uri": "https://localhost:8080/",
          "height": 34
        }
      },
      "source": [
        "def get_95_ci(array_1, array_2):\n",
        "    sample_1_n = array_1.shape[0]\n",
        "    sample_2_n = array_2.shape[0]\n",
        "    sample_1_mean = array_1.mean()\n",
        "    sample_2_mean = array_2.mean()\n",
        "    sample_1_var = array_1.var()\n",
        "    sample_2_var = array_2.var()\n",
        "    mean_difference = sample_2_mean - sample_1_mean\n",
        "    std_err_difference = math.sqrt((sample_1_var/sample_1_n)+(sample_2_var/sample_2_n))\n",
        "    margin_of_error = 1.96 * std_err_difference\n",
        "    ci_lower = mean_difference - margin_of_error\n",
        "    ci_upper = mean_difference + margin_of_error\n",
        "    return(\"The difference in means at the 95% confidence interval (two-tail) is between \"+str(ci_lower)+\" and \"+str(ci_upper)+\".\")\n",
        "\n",
        "get_95_ci(ruff_m2['Unique'],ruff_m3['Unique'])"
      ],
      "execution_count": 36,
      "outputs": [
        {
          "output_type": "execute_result",
          "data": {
            "text/plain": [
              "'The difference in means at the 95% confidence interval (two-tail) is between 2.4938609363188435 and 5.537152980182152.'"
            ]
          },
          "metadata": {
            "tags": []
          },
          "execution_count": 36
        }
      ]
    },
    {
      "cell_type": "markdown",
      "metadata": {
        "id": "RH9zjSKAGfAC",
        "colab_type": "text"
      },
      "source": [
        "Results are significant. The scores improved from measure 2 to measure 3 by an average of 2.49 to 5.53 points."
      ]
    },
    {
      "cell_type": "markdown",
      "metadata": {
        "id": "44WLP8u6AXwY",
        "colab_type": "text"
      },
      "source": [
        "###2. Is there a significant difference in the number of perseverative errors drawn by the same participants from Measurement 2 to Measurement 3?"
      ]
    },
    {
      "cell_type": "code",
      "metadata": {
        "id": "c505brShAZKp",
        "colab_type": "code",
        "colab": {
          "base_uri": "https://localhost:8080/",
          "height": 51
        },
        "outputId": "acfdf885-be21-49b8-980f-e1908b06b045"
      },
      "source": [
        "print(ruff_m2['Perseverative'].mean())\n",
        "print(ruff_m3['Perseverative'].mean())"
      ],
      "execution_count": 37,
      "outputs": [
        {
          "output_type": "stream",
          "text": [
            "11.769980119284295\n",
            "12.100198807157058\n"
          ],
          "name": "stdout"
        }
      ]
    },
    {
      "cell_type": "code",
      "metadata": {
        "id": "_h3aPJNPPvPu",
        "colab_type": "code",
        "colab": {
          "base_uri": "https://localhost:8080/",
          "height": 265
        },
        "outputId": "9b367e64-6e4f-4ba4-8d12-8c4aa7d3568c"
      },
      "source": [
        "plt.hist(ruff_m2['Perseverative'], alpha=.5)\n",
        "plt.hist(ruff_m3['Perseverative'], alpha=.5);"
      ],
      "execution_count": 38,
      "outputs": [
        {
          "output_type": "display_data",
          "data": {
            "image/png": "[encoded data removed]",
            "text/plain": [
              "<Figure size 432x288 with 1 Axes>"
            ]
          },
          "metadata": {
            "tags": []
          }
        }
      ]
    },
    {
      "cell_type": "code",
      "metadata": {
        "id": "J9WU1VCNQV-G",
        "colab_type": "code",
        "colab": {
          "base_uri": "https://localhost:8080/",
          "height": 71
        },
        "outputId": "154feea6-a863-4a65-921e-5e606150c2f1"
      },
      "source": [
        "print(stats.describe(ruff_m2['Perseverative']))\n",
        "print(stats.describe(ruff_m3['Perseverative']))"
      ],
      "execution_count": 39,
      "outputs": [
        {
          "output_type": "stream",
          "text": [
            "DescribeResult(nobs=2515, minmax=(0.0, 133.5), mean=11.769980119284295, variance=203.46626233055127, skewness=3.2001427277175862, kurtosis=13.913985994081123)\n",
            "DescribeResult(nobs=2515, minmax=(0.0, 124.0), mean=12.100198807157058, variance=187.75009940357853, skewness=3.03381078165085, kurtosis=13.347862924837408)\n"
          ],
          "name": "stdout"
        }
      ]
    },
    {
      "cell_type": "markdown",
      "metadata": {
        "id": "jW_4F4pjQjV0",
        "colab_type": "text"
      },
      "source": [
        "As assumed by the chart, the data is indeed not normal"
      ]
    },
    {
      "cell_type": "code",
      "metadata": {
        "id": "VIsqvCLtRN0_",
        "colab_type": "code",
        "colab": {
          "base_uri": "https://localhost:8080/",
          "height": 34
        },
        "outputId": "258fcb60-1fd1-4c65-ff05-0533380e8652"
      },
      "source": [
        "stats.wilcoxon(ruff_m2['Perseverative'], ruff_m3['Perseverative'])"
      ],
      "execution_count": 40,
      "outputs": [
        {
          "output_type": "execute_result",
          "data": {
            "text/plain": [
              "WilcoxonResult(statistic=1358373.0, pvalue=0.0006927535563546565)"
            ]
          },
          "metadata": {
            "tags": []
          },
          "execution_count": 40
        }
      ]
    },
    {
      "cell_type": "markdown",
      "metadata": {
        "id": "YNcG17lsU5Pe",
        "colab_type": "text"
      },
      "source": [
        "The null hypothesis can be rejected. There a significant difference in the number of perseverative errors drawn by the same participants from Measurement 2 to Measurement 3"
      ]
    }
  ]
}