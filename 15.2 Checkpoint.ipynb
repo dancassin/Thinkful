{
 "cells": [
  {
   "cell_type": "markdown",
   "metadata": {},
   "source": [
    "# Research Proposal"
   ]
  },
  {
   "cell_type": "markdown",
   "metadata": {},
   "source": [
    "## 1. Introduction\n",
    "This is a checkpoint for a Thinkful module that will demonstate my ability to assess and analyze a data set. \n",
    "\n",
    "I will be working with a data set created by IBM's data scientists regarding IBM employee attrition and Performance.\n",
    "\n",
    "And I will be asking a few questions of the data set."
   ]
  },
  {
   "cell_type": "markdown",
   "metadata": {},
   "source": [
    "## 2. Hypothesis\n",
    "The hypothesis we will be working with are as follows:\n",
    "\n",
    "#### 1.\n",
    "    Ho - Relationship satisfaction is not a factor with job satisfaction\n",
    "    Ha - Relationship satisfaction is a factor in job satisfaction\n",
    "\n",
    "#### 2. \n",
    "    Ho - Hourly rates are not a factor in attrition\n",
    "    Ha - Hourly rate is a factor in attrition\n",
    "    \n",
    "#### 3. \n",
    "    Ho - A higher number of years since an employee's last promotion is not a faction in attrition for employees who have a long tenure with the company\n",
    "    \n",
    "    Ha - A higher number of years since an employee's last promotion is a factor in attrition for employees who have long tenure with the company"
   ]
  },
  {
   "cell_type": "markdown",
   "metadata": {},
   "source": [
    "## 3. The Data\n",
    "\n",
    "This data set is the IBM HR Analytics Employee Attrition & Performance Data Set. This data set is intereseting in that it may be helpful for IBM's HR and managers to see the important factors of job performance and attrition. The data can be found here:\n",
    "https://www.kaggle.com/pavansubhasht/ibm-hr-analytics-attrition-dataset, and it has 1470 observations and 35 variables.\n"
   ]
  },
  {
   "cell_type": "code",
   "execution_count": 4,
   "metadata": {},
   "outputs": [],
   "source": [
    "#importing dependences and setting up environment\n",
    "import pandas as pd\n",
    "import numpy as np\n",
    "from scipy import stats\n",
    "import matplotlib.pyplot as plt\n",
    "import seaborn as sns\n",
    "import math\n",
    "\n",
    "sns.set_style('dark')\n",
    "plt.style.use('dark_background')"
   ]
  },
  {
   "cell_type": "code",
   "execution_count": 5,
   "metadata": {},
   "outputs": [],
   "source": [
    "#creating DF\n",
    "df = pd.read_csv('https://raw.githubusercontent.com/dancassin/DATA/master/WA_Fn-UseC_-HR-Employee-Attrition.csv')"
   ]
  },
  {
   "cell_type": "code",
   "execution_count": 6,
   "metadata": {},
   "outputs": [
    {
     "name": "stdout",
     "output_type": "stream",
     "text": [
      "<class 'pandas.core.frame.DataFrame'>\n",
      "RangeIndex: 1470 entries, 0 to 1469\n",
      "Data columns (total 35 columns):\n",
      "Age                         1470 non-null int64\n",
      "Attrition                   1470 non-null object\n",
      "BusinessTravel              1470 non-null object\n",
      "DailyRate                   1470 non-null int64\n",
      "Department                  1470 non-null object\n",
      "DistanceFromHome            1470 non-null int64\n",
      "Education                   1470 non-null int64\n",
      "EducationField              1470 non-null object\n",
      "EmployeeCount               1470 non-null int64\n",
      "EmployeeNumber              1470 non-null int64\n",
      "EnvironmentSatisfaction     1470 non-null int64\n",
      "Gender                      1470 non-null object\n",
      "HourlyRate                  1470 non-null int64\n",
      "JobInvolvement              1470 non-null int64\n",
      "JobLevel                    1470 non-null int64\n",
      "JobRole                     1470 non-null object\n",
      "JobSatisfaction             1470 non-null int64\n",
      "MaritalStatus               1470 non-null object\n",
      "MonthlyIncome               1470 non-null int64\n",
      "MonthlyRate                 1470 non-null int64\n",
      "NumCompaniesWorked          1470 non-null int64\n",
      "Over18                      1470 non-null object\n",
      "OverTime                    1470 non-null object\n",
      "PercentSalaryHike           1470 non-null int64\n",
      "PerformanceRating           1470 non-null int64\n",
      "RelationshipSatisfaction    1470 non-null int64\n",
      "StandardHours               1470 non-null int64\n",
      "StockOptionLevel            1470 non-null int64\n",
      "TotalWorkingYears           1470 non-null int64\n",
      "TrainingTimesLastYear       1470 non-null int64\n",
      "WorkLifeBalance             1470 non-null int64\n",
      "YearsAtCompany              1470 non-null int64\n",
      "YearsInCurrentRole          1470 non-null int64\n",
      "YearsSinceLastPromotion     1470 non-null int64\n",
      "YearsWithCurrManager        1470 non-null int64\n",
      "dtypes: int64(26), object(9)\n",
      "memory usage: 402.0+ KB\n"
     ]
    },
    {
     "data": {
      "text/html": [
       "<div>\n",
       "<style scoped>\n",
       "    .dataframe tbody tr th:only-of-type {\n",
       "        vertical-align: middle;\n",
       "    }\n",
       "\n",
       "    .dataframe tbody tr th {\n",
       "        vertical-align: top;\n",
       "    }\n",
       "\n",
       "    .dataframe thead th {\n",
       "        text-align: right;\n",
       "    }\n",
       "</style>\n",
       "<table border=\"1\" class=\"dataframe\">\n",
       "  <thead>\n",
       "    <tr style=\"text-align: right;\">\n",
       "      <th></th>\n",
       "      <th>Age</th>\n",
       "      <th>Attrition</th>\n",
       "      <th>BusinessTravel</th>\n",
       "      <th>DailyRate</th>\n",
       "      <th>Department</th>\n",
       "      <th>DistanceFromHome</th>\n",
       "      <th>Education</th>\n",
       "      <th>EducationField</th>\n",
       "      <th>EmployeeCount</th>\n",
       "      <th>EmployeeNumber</th>\n",
       "      <th>...</th>\n",
       "      <th>RelationshipSatisfaction</th>\n",
       "      <th>StandardHours</th>\n",
       "      <th>StockOptionLevel</th>\n",
       "      <th>TotalWorkingYears</th>\n",
       "      <th>TrainingTimesLastYear</th>\n",
       "      <th>WorkLifeBalance</th>\n",
       "      <th>YearsAtCompany</th>\n",
       "      <th>YearsInCurrentRole</th>\n",
       "      <th>YearsSinceLastPromotion</th>\n",
       "      <th>YearsWithCurrManager</th>\n",
       "    </tr>\n",
       "  </thead>\n",
       "  <tbody>\n",
       "    <tr>\n",
       "      <th>0</th>\n",
       "      <td>41</td>\n",
       "      <td>Yes</td>\n",
       "      <td>Travel_Rarely</td>\n",
       "      <td>1102</td>\n",
       "      <td>Sales</td>\n",
       "      <td>1</td>\n",
       "      <td>2</td>\n",
       "      <td>Life Sciences</td>\n",
       "      <td>1</td>\n",
       "      <td>1</td>\n",
       "      <td>...</td>\n",
       "      <td>1</td>\n",
       "      <td>80</td>\n",
       "      <td>0</td>\n",
       "      <td>8</td>\n",
       "      <td>0</td>\n",
       "      <td>1</td>\n",
       "      <td>6</td>\n",
       "      <td>4</td>\n",
       "      <td>0</td>\n",
       "      <td>5</td>\n",
       "    </tr>\n",
       "    <tr>\n",
       "      <th>1</th>\n",
       "      <td>49</td>\n",
       "      <td>No</td>\n",
       "      <td>Travel_Frequently</td>\n",
       "      <td>279</td>\n",
       "      <td>Research &amp; Development</td>\n",
       "      <td>8</td>\n",
       "      <td>1</td>\n",
       "      <td>Life Sciences</td>\n",
       "      <td>1</td>\n",
       "      <td>2</td>\n",
       "      <td>...</td>\n",
       "      <td>4</td>\n",
       "      <td>80</td>\n",
       "      <td>1</td>\n",
       "      <td>10</td>\n",
       "      <td>3</td>\n",
       "      <td>3</td>\n",
       "      <td>10</td>\n",
       "      <td>7</td>\n",
       "      <td>1</td>\n",
       "      <td>7</td>\n",
       "    </tr>\n",
       "    <tr>\n",
       "      <th>2</th>\n",
       "      <td>37</td>\n",
       "      <td>Yes</td>\n",
       "      <td>Travel_Rarely</td>\n",
       "      <td>1373</td>\n",
       "      <td>Research &amp; Development</td>\n",
       "      <td>2</td>\n",
       "      <td>2</td>\n",
       "      <td>Other</td>\n",
       "      <td>1</td>\n",
       "      <td>4</td>\n",
       "      <td>...</td>\n",
       "      <td>2</td>\n",
       "      <td>80</td>\n",
       "      <td>0</td>\n",
       "      <td>7</td>\n",
       "      <td>3</td>\n",
       "      <td>3</td>\n",
       "      <td>0</td>\n",
       "      <td>0</td>\n",
       "      <td>0</td>\n",
       "      <td>0</td>\n",
       "    </tr>\n",
       "    <tr>\n",
       "      <th>3</th>\n",
       "      <td>33</td>\n",
       "      <td>No</td>\n",
       "      <td>Travel_Frequently</td>\n",
       "      <td>1392</td>\n",
       "      <td>Research &amp; Development</td>\n",
       "      <td>3</td>\n",
       "      <td>4</td>\n",
       "      <td>Life Sciences</td>\n",
       "      <td>1</td>\n",
       "      <td>5</td>\n",
       "      <td>...</td>\n",
       "      <td>3</td>\n",
       "      <td>80</td>\n",
       "      <td>0</td>\n",
       "      <td>8</td>\n",
       "      <td>3</td>\n",
       "      <td>3</td>\n",
       "      <td>8</td>\n",
       "      <td>7</td>\n",
       "      <td>3</td>\n",
       "      <td>0</td>\n",
       "    </tr>\n",
       "    <tr>\n",
       "      <th>4</th>\n",
       "      <td>27</td>\n",
       "      <td>No</td>\n",
       "      <td>Travel_Rarely</td>\n",
       "      <td>591</td>\n",
       "      <td>Research &amp; Development</td>\n",
       "      <td>2</td>\n",
       "      <td>1</td>\n",
       "      <td>Medical</td>\n",
       "      <td>1</td>\n",
       "      <td>7</td>\n",
       "      <td>...</td>\n",
       "      <td>4</td>\n",
       "      <td>80</td>\n",
       "      <td>1</td>\n",
       "      <td>6</td>\n",
       "      <td>3</td>\n",
       "      <td>3</td>\n",
       "      <td>2</td>\n",
       "      <td>2</td>\n",
       "      <td>2</td>\n",
       "      <td>2</td>\n",
       "    </tr>\n",
       "  </tbody>\n",
       "</table>\n",
       "<p>5 rows × 35 columns</p>\n",
       "</div>"
      ],
      "text/plain": [
       "   Age Attrition     BusinessTravel  DailyRate              Department  \\\n",
       "0   41       Yes      Travel_Rarely       1102                   Sales   \n",
       "1   49        No  Travel_Frequently        279  Research & Development   \n",
       "2   37       Yes      Travel_Rarely       1373  Research & Development   \n",
       "3   33        No  Travel_Frequently       1392  Research & Development   \n",
       "4   27        No      Travel_Rarely        591  Research & Development   \n",
       "\n",
       "   DistanceFromHome  Education EducationField  EmployeeCount  EmployeeNumber  \\\n",
       "0                 1          2  Life Sciences              1               1   \n",
       "1                 8          1  Life Sciences              1               2   \n",
       "2                 2          2          Other              1               4   \n",
       "3                 3          4  Life Sciences              1               5   \n",
       "4                 2          1        Medical              1               7   \n",
       "\n",
       "   ...  RelationshipSatisfaction StandardHours  StockOptionLevel  \\\n",
       "0  ...                         1            80                 0   \n",
       "1  ...                         4            80                 1   \n",
       "2  ...                         2            80                 0   \n",
       "3  ...                         3            80                 0   \n",
       "4  ...                         4            80                 1   \n",
       "\n",
       "   TotalWorkingYears  TrainingTimesLastYear WorkLifeBalance  YearsAtCompany  \\\n",
       "0                  8                      0               1               6   \n",
       "1                 10                      3               3              10   \n",
       "2                  7                      3               3               0   \n",
       "3                  8                      3               3               8   \n",
       "4                  6                      3               3               2   \n",
       "\n",
       "  YearsInCurrentRole  YearsSinceLastPromotion  YearsWithCurrManager  \n",
       "0                  4                        0                     5  \n",
       "1                  7                        1                     7  \n",
       "2                  0                        0                     0  \n",
       "3                  7                        3                     0  \n",
       "4                  2                        2                     2  \n",
       "\n",
       "[5 rows x 35 columns]"
      ]
     },
     "execution_count": 6,
     "metadata": {},
     "output_type": "execute_result"
    }
   ],
   "source": [
    "#basic inspection\n",
    "df.info()\n",
    "df.head()"
   ]
  },
  {
   "cell_type": "markdown",
   "metadata": {},
   "source": [
    "## 3. Methods\n",
    "\n",
    "**For Q1**, I will split the data into 4 categories based on the Relationship Satisfaction ratings 1-4 (Low, Medium, High, Very High) and use a Kruskal-Wallis test to see if there is a significant difference in Job Satisfaction ratings.\n",
    "\n",
    "**For Q2**, I will split the data into 2 categories of employees with the company and those who have left. Then I will use a T-Test to see if there is a significant difference in Hourly Rates. Potentially a low paying job (little money) or a high paying job (too much stress) have higher attrition.\n",
    "\n",
    "**For Q3**, I will filter the data at the 75%ile to study the longest-tenured employees. Then split the data by those who have left the company and those who are still with the company. Then I will use a Kruskal-Wallis test to see if there is a significant difference in the span of time since their last promotion to see if this was a factor in attrition.\n"
   ]
  },
  {
   "cell_type": "markdown",
   "metadata": {},
   "source": [
    "---\n",
    "### Q1. Does Relationship Satisfaction have any bearing on Job Satisfaction?\n",
    "For our first question, let's look at the distributions of RelationshipSatisfaction and JobSatisfaction"
   ]
  },
  {
   "cell_type": "code",
   "execution_count": 7,
   "metadata": {},
   "outputs": [
    {
     "data": {
      "image/png": "[encoded data removed]",
      "text/plain": [
       "<Figure size 720x576 with 4 Axes>"
      ]
     },
     "metadata": {},
     "output_type": "display_data"
    }
   ],
   "source": [
    "fig, ax = plt.subplots(2,2, figsize=(10,8))\n",
    "\n",
    "df['JobSatisfaction'].hist(by = df['RelationshipSatisfaction'], ax=ax, color='magenta', alpha=.7);\n",
    "status = ['Low', 'Medium', 'High','Very High']\n",
    "\n",
    "k=0\n",
    "n=0\n",
    "for i in status:\n",
    "  ax[n][k].set(title='Relationship Satisfaction: '+ i,xticks=np.arange(1,5))\n",
    "  ax[n][k].set_xticklabels(np.arange(1,5), rotation=0)\n",
    "  if k <1:\n",
    "    k+=1\n",
    "  elif k==1:\n",
    "    k=0\n",
    "    n=1\n",
    "plt.suptitle('Job Satisfaction by Relationship Satisfaction', fontsize=20);\n"
   ]
  },
  {
   "cell_type": "markdown",
   "metadata": {},
   "source": [
    "These are samples of ordinal data, so nothing will be perfectly \"normal\". We will do a Kruskal Wallis test to see if the medians are different."
   ]
  },
  {
   "cell_type": "code",
   "execution_count": 8,
   "metadata": {},
   "outputs": [],
   "source": [
    "#split into 4 DFs based on Relationship Satisfaction rating\n",
    "df_poor_RS = df[df['RelationshipSatisfaction']==1]\n",
    "df_okay_RS = df[df['RelationshipSatisfaction']==2]\n",
    "df_good_RS = df[df['RelationshipSatisfaction']==3]\n",
    "df_vgood_RS = df[df['RelationshipSatisfaction']==4]"
   ]
  },
  {
   "cell_type": "code",
   "execution_count": 9,
   "metadata": {},
   "outputs": [
    {
     "data": {
      "text/plain": [
       "KruskalResult(statistic=1.5159401735249394, pvalue=0.678596263523898)"
      ]
     },
     "execution_count": 9,
     "metadata": {},
     "output_type": "execute_result"
    }
   ],
   "source": [
    "#compare median Job Satisfaction of all 4 DFs\n",
    "stats.kruskal(df_poor_RS['JobSatisfaction'],\n",
    "              df_okay_RS['JobSatisfaction'],\n",
    "              df_good_RS['JobSatisfaction'],\n",
    "              df_vgood_RS['JobSatisfaction'])"
   ]
  },
  {
   "cell_type": "markdown",
   "metadata": {},
   "source": [
    "### **Q1 RESULT**\n",
    "\n",
    "The p-value is not significant, therefore we cannot reject the null hypothesis. The medians do not differ enough from one another to say that Relationship Satisfaction has any bearing on Job Satisfaction. "
   ]
  },
  {
   "cell_type": "markdown",
   "metadata": {},
   "source": [
    "---\n",
    "\n",
    "### Q2. Does hourly rate have any bearing on attrition?\n",
    "For our first question, let's inspect the columns before proceeding"
   ]
  },
  {
   "cell_type": "code",
   "execution_count": 10,
   "metadata": {},
   "outputs": [
    {
     "name": "stdout",
     "output_type": "stream",
     "text": [
      "        HourlyRate\n",
      "count  1470.000000\n",
      "mean     65.891156\n",
      "std      20.329428\n",
      "min      30.000000\n",
      "25%      48.000000\n",
      "50%      66.000000\n",
      "75%      83.750000\n",
      "max     100.000000\n"
     ]
    },
    {
     "data": {
      "text/html": [
       "<div>\n",
       "<style scoped>\n",
       "    .dataframe tbody tr th:only-of-type {\n",
       "        vertical-align: middle;\n",
       "    }\n",
       "\n",
       "    .dataframe tbody tr th {\n",
       "        vertical-align: top;\n",
       "    }\n",
       "\n",
       "    .dataframe thead th {\n",
       "        text-align: right;\n",
       "    }\n",
       "</style>\n",
       "<table border=\"1\" class=\"dataframe\">\n",
       "  <thead>\n",
       "    <tr style=\"text-align: right;\">\n",
       "      <th></th>\n",
       "      <th>HourlyRate</th>\n",
       "      <th>Attrition</th>\n",
       "    </tr>\n",
       "  </thead>\n",
       "  <tbody>\n",
       "    <tr>\n",
       "      <th>0</th>\n",
       "      <td>94</td>\n",
       "      <td>Yes</td>\n",
       "    </tr>\n",
       "    <tr>\n",
       "      <th>1</th>\n",
       "      <td>61</td>\n",
       "      <td>No</td>\n",
       "    </tr>\n",
       "    <tr>\n",
       "      <th>2</th>\n",
       "      <td>92</td>\n",
       "      <td>Yes</td>\n",
       "    </tr>\n",
       "    <tr>\n",
       "      <th>3</th>\n",
       "      <td>56</td>\n",
       "      <td>No</td>\n",
       "    </tr>\n",
       "    <tr>\n",
       "      <th>4</th>\n",
       "      <td>40</td>\n",
       "      <td>No</td>\n",
       "    </tr>\n",
       "  </tbody>\n",
       "</table>\n",
       "</div>"
      ],
      "text/plain": [
       "   HourlyRate Attrition\n",
       "0          94       Yes\n",
       "1          61        No\n",
       "2          92       Yes\n",
       "3          56        No\n",
       "4          40        No"
      ]
     },
     "execution_count": 10,
     "metadata": {},
     "output_type": "execute_result"
    }
   ],
   "source": [
    "df_HrRate = df[['HourlyRate', 'Attrition']]\n",
    "\n",
    "print(df_HrRate.describe())\n",
    "df_HrRate.head()"
   ]
  },
  {
   "cell_type": "markdown",
   "metadata": {},
   "source": [
    "Now let's split our df into those who have and have not left the company, and plot the histograms of hourly rates for each:"
   ]
  },
  {
   "cell_type": "code",
   "execution_count": 11,
   "metadata": {},
   "outputs": [],
   "source": [
    "df_HrRate_AttY = df_HrRate[df_HrRate['Attrition']=='Yes']\n",
    "df_HrRate_AttN = df_HrRate[df_HrRate['Attrition']=='No']"
   ]
  },
  {
   "cell_type": "code",
   "execution_count": 12,
   "metadata": {},
   "outputs": [
    {
     "data": {
      "image/png": "[encoded data removed]",
      "text/plain": [
       "<Figure size 720x360 with 1 Axes>"
      ]
     },
     "metadata": {},
     "output_type": "display_data"
    }
   ],
   "source": [
    "fig,ax = plt.subplots(figsize=(10,5))\n",
    "\n",
    "plt.hist(df_HrRate_AttN['HourlyRate'], alpha=.7, color='Teal', label='No')\n",
    "plt.hist(df_HrRate_AttY['HourlyRate'], alpha=.7, color='Magenta', label='Yes')\n",
    "\n",
    "plt.title('Dispersion of Hourly Rates by Attrition', fontsize=18)\n",
    "plt.legend(title='Leave IBM?')\n",
    "ax.set_xlabel('Hourly Rate', fontsize=14);"
   ]
  },
  {
   "cell_type": "markdown",
   "metadata": {},
   "source": [
    "Let's verify if these distributions are normal:"
   ]
  },
  {
   "cell_type": "code",
   "execution_count": 13,
   "metadata": {},
   "outputs": [
    {
     "name": "stdout",
     "output_type": "stream",
     "text": [
      "DescribeResult(nobs=1233, minmax=(30, 100), mean=65.9521492295215, variance=415.37514351018, skewness=-0.04789611498499753, kurtosis=-1.2034774982971257)\n",
      "DescribeResult(nobs=237, minmax=(31, 100), mean=65.57383966244726, variance=404.00829578774227, skewness=0.05136123289556325, kurtosis=-1.1530725173123975)\n"
     ]
    }
   ],
   "source": [
    "print(stats.describe(df_HrRate_AttN['HourlyRate']))\n",
    "print(stats.describe(df_HrRate_AttY['HourlyRate']))"
   ]
  },
  {
   "cell_type": "markdown",
   "metadata": {},
   "source": [
    "Variables seem to be within normal ranges for skewness and kurtosis. Let's run a t-test:"
   ]
  },
  {
   "cell_type": "code",
   "execution_count": 15,
   "metadata": {},
   "outputs": [
    {
     "data": {
      "text/plain": [
       "Ttest_indResult(statistic=-0.26228987349264493, pvalue=0.7931347689944243)"
      ]
     },
     "execution_count": 15,
     "metadata": {},
     "output_type": "execute_result"
    }
   ],
   "source": [
    "stats.ttest_ind(df_HrRate_AttY['HourlyRate'],df_HrRate_AttN['HourlyRate'])"
   ]
  },
  {
   "cell_type": "markdown",
   "metadata": {},
   "source": [
    "### **Q2 RESULT**\n",
    "\n",
    "Hourly rates do not have an affect on Attrition\n",
    "\n",
    "---"
   ]
  },
  {
   "cell_type": "markdown",
   "metadata": {},
   "source": [
    "### **Q3.** Does a lack of recent promotions for long term employees have an affect on attrition?"
   ]
  },
  {
   "cell_type": "code",
   "execution_count": 17,
   "metadata": {},
   "outputs": [
    {
     "name": "stdout",
     "output_type": "stream",
     "text": [
      "<class 'pandas.core.frame.DataFrame'>\n",
      "RangeIndex: 1470 entries, 0 to 1469\n",
      "Data columns (total 3 columns):\n",
      "YearsAtCompany             1470 non-null int64\n",
      "YearsSinceLastPromotion    1470 non-null int64\n",
      "Attrition                  1470 non-null object\n",
      "dtypes: int64(2), object(1)\n",
      "memory usage: 34.5+ KB\n"
     ]
    },
    {
     "data": {
      "text/html": [
       "<div>\n",
       "<style scoped>\n",
       "    .dataframe tbody tr th:only-of-type {\n",
       "        vertical-align: middle;\n",
       "    }\n",
       "\n",
       "    .dataframe tbody tr th {\n",
       "        vertical-align: top;\n",
       "    }\n",
       "\n",
       "    .dataframe thead th {\n",
       "        text-align: right;\n",
       "    }\n",
       "</style>\n",
       "<table border=\"1\" class=\"dataframe\">\n",
       "  <thead>\n",
       "    <tr style=\"text-align: right;\">\n",
       "      <th></th>\n",
       "      <th>YearsAtCompany</th>\n",
       "      <th>YearsSinceLastPromotion</th>\n",
       "      <th>Attrition</th>\n",
       "    </tr>\n",
       "  </thead>\n",
       "  <tbody>\n",
       "    <tr>\n",
       "      <th>0</th>\n",
       "      <td>6</td>\n",
       "      <td>0</td>\n",
       "      <td>Yes</td>\n",
       "    </tr>\n",
       "    <tr>\n",
       "      <th>1</th>\n",
       "      <td>10</td>\n",
       "      <td>1</td>\n",
       "      <td>No</td>\n",
       "    </tr>\n",
       "    <tr>\n",
       "      <th>2</th>\n",
       "      <td>0</td>\n",
       "      <td>0</td>\n",
       "      <td>Yes</td>\n",
       "    </tr>\n",
       "    <tr>\n",
       "      <th>3</th>\n",
       "      <td>8</td>\n",
       "      <td>3</td>\n",
       "      <td>No</td>\n",
       "    </tr>\n",
       "    <tr>\n",
       "      <th>4</th>\n",
       "      <td>2</td>\n",
       "      <td>2</td>\n",
       "      <td>No</td>\n",
       "    </tr>\n",
       "  </tbody>\n",
       "</table>\n",
       "</div>"
      ],
      "text/plain": [
       "   YearsAtCompany  YearsSinceLastPromotion Attrition\n",
       "0               6                        0       Yes\n",
       "1              10                        1        No\n",
       "2               0                        0       Yes\n",
       "3               8                        3        No\n",
       "4               2                        2        No"
      ]
     },
     "execution_count": 17,
     "metadata": {},
     "output_type": "execute_result"
    }
   ],
   "source": [
    "#creating a smaller df of the variables we will investigate\n",
    "seniority_attr = df[['YearsAtCompany','YearsSinceLastPromotion', 'Attrition']]\n",
    "\n",
    "seniority_attr.info()\n",
    "seniority_attr.head()"
   ]
  },
  {
   "cell_type": "code",
   "execution_count": 18,
   "metadata": {},
   "outputs": [
    {
     "data": {
      "text/html": [
       "<div>\n",
       "<style scoped>\n",
       "    .dataframe tbody tr th:only-of-type {\n",
       "        vertical-align: middle;\n",
       "    }\n",
       "\n",
       "    .dataframe tbody tr th {\n",
       "        vertical-align: top;\n",
       "    }\n",
       "\n",
       "    .dataframe thead th {\n",
       "        text-align: right;\n",
       "    }\n",
       "</style>\n",
       "<table border=\"1\" class=\"dataframe\">\n",
       "  <thead>\n",
       "    <tr style=\"text-align: right;\">\n",
       "      <th></th>\n",
       "      <th>YearsAtCompany</th>\n",
       "      <th>YearsSinceLastPromotion</th>\n",
       "    </tr>\n",
       "  </thead>\n",
       "  <tbody>\n",
       "    <tr>\n",
       "      <th>count</th>\n",
       "      <td>1470.000000</td>\n",
       "      <td>1470.000000</td>\n",
       "    </tr>\n",
       "    <tr>\n",
       "      <th>mean</th>\n",
       "      <td>7.008163</td>\n",
       "      <td>2.187755</td>\n",
       "    </tr>\n",
       "    <tr>\n",
       "      <th>std</th>\n",
       "      <td>6.126525</td>\n",
       "      <td>3.222430</td>\n",
       "    </tr>\n",
       "    <tr>\n",
       "      <th>min</th>\n",
       "      <td>0.000000</td>\n",
       "      <td>0.000000</td>\n",
       "    </tr>\n",
       "    <tr>\n",
       "      <th>25%</th>\n",
       "      <td>3.000000</td>\n",
       "      <td>0.000000</td>\n",
       "    </tr>\n",
       "    <tr>\n",
       "      <th>50%</th>\n",
       "      <td>5.000000</td>\n",
       "      <td>1.000000</td>\n",
       "    </tr>\n",
       "    <tr>\n",
       "      <th>75%</th>\n",
       "      <td>9.000000</td>\n",
       "      <td>3.000000</td>\n",
       "    </tr>\n",
       "    <tr>\n",
       "      <th>max</th>\n",
       "      <td>40.000000</td>\n",
       "      <td>15.000000</td>\n",
       "    </tr>\n",
       "  </tbody>\n",
       "</table>\n",
       "</div>"
      ],
      "text/plain": [
       "       YearsAtCompany  YearsSinceLastPromotion\n",
       "count     1470.000000              1470.000000\n",
       "mean         7.008163                 2.187755\n",
       "std          6.126525                 3.222430\n",
       "min          0.000000                 0.000000\n",
       "25%          3.000000                 0.000000\n",
       "50%          5.000000                 1.000000\n",
       "75%          9.000000                 3.000000\n",
       "max         40.000000                15.000000"
      ]
     },
     "execution_count": 18,
     "metadata": {},
     "output_type": "execute_result"
    }
   ],
   "source": [
    "seniority_attr.describe()\n",
    "#YearsAtCompany 75 percentile will be our demarcation for long-term employees"
   ]
  },
  {
   "cell_type": "code",
   "execution_count": 19,
   "metadata": {},
   "outputs": [
    {
     "name": "stdout",
     "output_type": "stream",
     "text": [
      "Unique Years at Company\n",
      "[0, 1, 2, 3, 4, 5, 6, 7, 8, 9, 10, 11, 12, 13, 14, 15, 16, 17, 18, 19, 20, 21, 22, 23, 24, 25, 26, 27, 29, 30, 31, 32, 33, 34, 36, 37, 40]\n",
      "\n",
      "\n",
      "Unique Years Since Last Promotion\n",
      "[0, 1, 2, 3, 4, 5, 6, 7, 8, 9, 10, 11, 12, 13, 14, 15]\n"
     ]
    }
   ],
   "source": [
    "#look at unique values of each column\n",
    "print('Unique Years at Company')\n",
    "print(sorted(seniority_attr['YearsAtCompany'].unique()))\n",
    "print('\\n')\n",
    "print('Unique Years Since Last Promotion')\n",
    "print(sorted(seniority_attr['YearsSinceLastPromotion'].unique()))"
   ]
  },
  {
   "cell_type": "markdown",
   "metadata": {},
   "source": [
    "We will filter YearsAtCompany at >=9 (per the .describe() method above) for the highest quantile, and then we will split years since last promotion at the median."
   ]
  },
  {
   "cell_type": "code",
   "execution_count": 20,
   "metadata": {},
   "outputs": [
    {
     "name": "stdout",
     "output_type": "stream",
     "text": [
      "<class 'pandas.core.frame.DataFrame'>\n",
      "Int64Index: 448 entries, 1 to 1468\n",
      "Data columns (total 3 columns):\n",
      "YearsAtCompany             448 non-null int64\n",
      "YearsSinceLastPromotion    448 non-null int64\n",
      "Attrition                  448 non-null object\n",
      "dtypes: int64(2), object(1)\n",
      "memory usage: 14.0+ KB\n",
      "[0, 1, 2, 3, 4, 5, 6, 7, 8, 9, 10, 11, 12, 13, 14, 15]\n"
     ]
    }
   ],
   "source": [
    "high_seniority_attr = seniority_attr[seniority_attr['YearsAtCompany']>=9]\n",
    "\n",
    "high_seniority_attr.info()\n",
    "print(sorted(high_seniority_attr['YearsSinceLastPromotion'].unique()))"
   ]
  },
  {
   "cell_type": "markdown",
   "metadata": {},
   "source": [
    "Let's find our median so we can hopefully get equal sample sizes to compare"
   ]
  },
  {
   "cell_type": "code",
   "execution_count": 21,
   "metadata": {},
   "outputs": [
    {
     "data": {
      "text/plain": [
       "4.0"
      ]
     },
     "execution_count": 21,
     "metadata": {},
     "output_type": "execute_result"
    }
   ],
   "source": [
    "high_seniority_attr['YearsSinceLastPromotion'].median()"
   ]
  },
  {
   "cell_type": "code",
   "execution_count": 24,
   "metadata": {},
   "outputs": [
    {
     "name": "stdout",
     "output_type": "stream",
     "text": [
      "<class 'pandas.core.frame.DataFrame'>\n",
      "Int64Index: 250 entries, 1 to 1468\n",
      "Data columns (total 3 columns):\n",
      "YearsAtCompany             250 non-null int64\n",
      "YearsSinceLastPromotion    250 non-null int64\n",
      "Attrition                  250 non-null object\n",
      "dtypes: int64(2), object(1)\n",
      "memory usage: 7.8+ KB\n",
      "\n",
      "\n",
      "<class 'pandas.core.frame.DataFrame'>\n",
      "Int64Index: 198 entries, 15 to 1462\n",
      "Data columns (total 3 columns):\n",
      "YearsAtCompany             198 non-null int64\n",
      "YearsSinceLastPromotion    198 non-null int64\n",
      "Attrition                  198 non-null object\n",
      "dtypes: int64(2), object(1)\n",
      "memory usage: 6.2+ KB\n"
     ]
    }
   ],
   "source": [
    "#splitting DFs at the median\n",
    "\n",
    "# 9+ year seniority with recent promotion\n",
    "high_sen_rec_promote = high_seniority_attr[high_seniority_attr['YearsSinceLastPromotion']<=4]\n",
    "\n",
    "# 9+ year seniority with distant promotion\n",
    "high_sen_dist_promote = high_seniority_attr[high_seniority_attr['YearsSinceLastPromotion']>=5]\n",
    "\n",
    "high_sen_rec_promote.info() \n",
    "print('\\n')\n",
    "high_sen_dist_promote.info()"
   ]
  },
  {
   "cell_type": "markdown",
   "metadata": {},
   "source": [
    "Total number of observations is similar. Let's look at these distributions:"
   ]
  },
  {
   "cell_type": "code",
   "execution_count": 25,
   "metadata": {},
   "outputs": [
    {
     "data": {
      "image/png": "[encoded data removed]",
      "text/plain": [
       "<Figure size 1080x360 with 1 Axes>"
      ]
     },
     "metadata": {},
     "output_type": "display_data"
    }
   ],
   "source": [
    "fig, ax = plt.subplots(figsize=(15,5))\n",
    "\n",
    "ax.hist(high_sen_rec_promote['YearsAtCompany'], alpha=.7, color='magenta', label='Promotion in Last 4 years', bins=70)\n",
    "ax.hist(high_sen_dist_promote['YearsAtCompany'], alpha=.7, color='teal', label='Promotion More than 4 Years ago', bins=70);\n",
    "\n",
    "plt.xlabel('Years At Company', fontsize=16)\n",
    "plt.suptitle('Distribution of Recent and Distant Promotions', fontsize=20)\n",
    "plt.title('for empolyees with tenure of +9 years')\n",
    "plt.legend();"
   ]
  },
  {
   "cell_type": "markdown",
   "metadata": {},
   "source": [
    "Let's split these distributions by attrition as well:"
   ]
  },
  {
   "cell_type": "code",
   "execution_count": 27,
   "metadata": {},
   "outputs": [],
   "source": [
    "#employees +9 years, recent promotion, left company\n",
    "high_sen_rec_promote_attrY = high_sen_rec_promote[high_sen_rec_promote['Attrition']=='Yes']\n",
    "\n",
    "#employees +9 years, recent promotion, with company\n",
    "high_sen_rec_promote_attrN = high_sen_rec_promote[high_sen_rec_promote['Attrition']=='No']\n",
    "\n",
    "#employees +9 years, recent promotion, left company\n",
    "high_sen_dist_promote_attrY = high_sen_dist_promote[high_sen_dist_promote['Attrition']=='Yes']\n",
    "\n",
    "#employees +9 years, recent promotion, with company\n",
    "high_sen_dist_promote_attrN = high_sen_dist_promote[high_sen_dist_promote['Attrition']=='No']"
   ]
  },
  {
   "cell_type": "code",
   "execution_count": 33,
   "metadata": {},
   "outputs": [
    {
     "data": {
      "image/png": "[encoded data removed]",
      "text/plain": [
       "<Figure size 1224x432 with 2 Axes>"
      ]
     },
     "metadata": {},
     "output_type": "display_data"
    }
   ],
   "source": [
    "fig, ax = plt.subplots(1,2, figsize=(17,6), sharey=True)\n",
    "\n",
    "ax[0].hist(high_sen_rec_promote_attrN['YearsAtCompany'], alpha=.7, color='magenta', label='Promotion in Last 4 years', bins=70)\n",
    "ax[0].hist(high_sen_dist_promote_attrN['YearsAtCompany'], alpha=.7, color='teal', label='Promotion More than 4 Years ago', bins=70)\n",
    "ax[0].set(title='Employees Still With Company')\n",
    "\n",
    "ax[1].hist(high_sen_rec_promote_attrY['YearsAtCompany'], alpha=.7, color='magenta', label='Promotion in Last 4 years', bins=70)\n",
    "ax[1].hist(high_sen_dist_promote_attrY['YearsAtCompany'], alpha=.7, color='teal', label='Promotion More than 4 Years ago', bins=70)\n",
    "ax[1].set(title='Employees Who Left Company')\n",
    "ax[1].set_xlabel('Tenure at Company',{'position':(-.1,1.1),'fontsize':16})\n",
    "\n",
    "\n",
    "plt.suptitle('Distribution of Recent and Distant Promotions \\n for empolyees with tenure of +9 years', fontsize=18, x=.5, y=1.05)\n",
    "\n",
    "plt.legend();"
   ]
  },
  {
   "cell_type": "markdown",
   "metadata": {},
   "source": [
    "Now, in order to compare these for a significance test, we will split by attrition first and compare promotion rates."
   ]
  },
  {
   "cell_type": "code",
   "execution_count": 34,
   "metadata": {},
   "outputs": [],
   "source": [
    "high_seniority_attrN = high_seniority_attr[high_seniority_attr['Attrition']=='No']\n",
    "high_seniority_attrY = high_seniority_attr[high_seniority_attr['Attrition']=='Yes']"
   ]
  },
  {
   "cell_type": "code",
   "execution_count": 35,
   "metadata": {},
   "outputs": [
    {
     "data": {
      "image/png": "[encoded data removed]",
      "text/plain": [
       "<Figure size 720x504 with 1 Axes>"
      ]
     },
     "metadata": {},
     "output_type": "display_data"
    }
   ],
   "source": [
    "fig = plt.subplots(figsize=(10,7))\n",
    "plt.hist(high_seniority_attrN['YearsSinceLastPromotion'], alpha=.7, color='teal', label='With Company', bins=14)\n",
    "plt.hist(high_seniority_attrY['YearsSinceLastPromotion'], alpha=.7, color='magenta', label='Left Company',bins=14)\n",
    "plt.title('Distribution of Years Since Last Promotion', fontsize=18)\n",
    "plt.xlabel('Number of Years Since Promotion', fontsize=14)\n",
    "plt.legend();"
   ]
  },
  {
   "cell_type": "markdown",
   "metadata": {},
   "source": [
    "Similar to the fist question, these are samples of ordinal data, so nothing will be perfectly \"normal\". We will do a Kruskal Wallis test to see if the medians are significantly different."
   ]
  },
  {
   "cell_type": "code",
   "execution_count": 36,
   "metadata": {},
   "outputs": [
    {
     "name": "stdout",
     "output_type": "stream",
     "text": [
      "For employees still with the company, the median number of years since last promotion is: 4.0\n",
      "For employees who left the company, the median number of years since last promotion is: 6.0\n",
      "\n",
      "\n",
      "KruskalResult(statistic=4.015766512525693, pvalue=0.04507672892174258)\n"
     ]
    }
   ],
   "source": [
    "print(f'For employees still with the company, the median number of years since last promotion is: {high_seniority_attrN.YearsSinceLastPromotion.median()}')\n",
    "print(f'For employees who left the company, the median number of years since last promotion is: {high_seniority_attrY.YearsSinceLastPromotion.median()}')\n",
    "print('\\n')\n",
    "print(stats.kruskal(high_seniority_attrN['YearsSinceLastPromotion'], high_seniority_attrY['YearsSinceLastPromotion']))"
   ]
  },
  {
   "cell_type": "markdown",
   "metadata": {},
   "source": [
    "### **Q3 RESULT**\n",
    "\n",
    "The median number of years since last promotion is higher in those who have left the company and the Kruskal-Wallace test results say this difference is significant. "
   ]
  },
  {
   "cell_type": "markdown",
   "metadata": {},
   "source": [
    "## 5. Results Summary\n",
    "\n",
    "**Q1 RESULT**\n",
    "The p-value is not significant, therefore we cannot reject the null hypothesis. The medians do not differ enough from one another to say that Relationship Satisfaction has any bearing on Job Satisfaction. \n",
    "\n",
    "**Q2 RESULT**\n",
    "Same as Q1, the t-test did not show any significance. Hourly rates do not have an affect on Attrition\n",
    "\n",
    "**Q3 RESULT**\n",
    "The median number of years since last promotion is higher in those who have left the company and the Kruskal-Wallace test results say this difference is significant. \n"
   ]
  },
  {
   "cell_type": "markdown",
   "metadata": {},
   "source": [
    "## 6. Conclusions\n",
    "\n",
    "IBM's HR may be interested to see that those employees with long tenure at the company who choose to leave tend to have a longer gap since their last promotion than similarly tenured employees.\n",
    "\n",
    "This was an interesting exercise and there is still more in this data set that could be uncovered. We could dive deeper into Hourly rates v. Salary, Job satisfaction affecting Job Performance, or see if there are any abnomalities in level of education and level of pay rate."
   ]
  }
 ],
 "metadata": {
  "kernelspec": {
   "display_name": "Python 3",
   "language": "python",
   "name": "python3"
  },
  "language_info": {
   "codemirror_mode": {
    "name": "ipython",
    "version": 3
   },
   "file_extension": ".py",
   "mimetype": "text/x-python",
   "name": "python",
   "nbconvert_exporter": "python",
   "pygments_lexer": "ipython3",
   "version": "3.7.2"
  }
 },
 "nbformat": 4,
 "nbformat_minor": 2
}
