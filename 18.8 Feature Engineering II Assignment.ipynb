{
 "cells": [
  {
   "cell_type": "code",
   "execution_count": 1,
   "metadata": {},
   "outputs": [],
   "source": [
    "import pandas as pd\n",
    "import numpy as np\n",
    "import matplotlib.pyplot as plt\n",
    "import seaborn as sns\n",
    "import math\n",
    "from sklearn.preprocessing import StandardScaler\n",
    "from sklearn.decomposition import PCA\n",
    "from sqlalchemy import create_engine\n",
    "import warnings"
   ]
  },
  {
   "cell_type": "code",
   "execution_count": 2,
   "metadata": {},
   "outputs": [],
   "source": [
    "warnings.filterwarnings('ignore')\n",
    "\n",
    "postgres_user = 'dsbc_student'\n",
    "postgres_pw = '7*.8G9QH21'\n",
    "postgres_host = '142.93.121.174'\n",
    "postgres_port = '5432'\n",
    "postgres_db = 'useducation'\n",
    "\n",
    "engine = create_engine('postgresql://{}:{}@{}:{}/{}'.format(\n",
    "    postgres_user, postgres_pw, postgres_host, postgres_port, postgres_db))\n",
    "\n",
    "student_df = pd.read_sql_query('select * from useducation',con=engine)\n",
    "\n",
    "# no need for an open connection, \n",
    "# as we're only doing a single query\n",
    "engine.dispose()"
   ]
  },
  {
   "cell_type": "markdown",
   "metadata": {},
   "source": [
    "## Assignment\n",
    "\n",
    "In this assignment, you'll continue working with the [U.S. Education Dataset](https://www.kaggle.com/noriuk/us-education-datasets-unification-project/) from Kaggle.\n",
    "\n",
    "Don't forget to apply the most suitable missing value filling techniques you applied in the previous checkpoints to the data. You should provide your answers to the following questions after you handled the missing values."
   ]
  },
  {
   "cell_type": "code",
   "execution_count": 3,
   "metadata": {},
   "outputs": [],
   "source": [
    "columns = ['ENROLL', 'TOTAL_REVENUE',\n",
    "       'FEDERAL_REVENUE', 'STATE_REVENUE', 'LOCAL_REVENUE',\n",
    "       'TOTAL_EXPENDITURE', 'INSTRUCTION_EXPENDITURE',\n",
    "       'SUPPORT_SERVICES_EXPENDITURE', 'OTHER_EXPENDITURE',\n",
    "       'CAPITAL_OUTLAY_EXPENDITURE', 'GRADES_PK_G', 'GRADES_KG_G',\n",
    "       'GRADES_4_G', 'GRADES_8_G', 'GRADES_12_G', 'GRADES_1_8_G',\n",
    "       'GRADES_9_12_G', 'GRADES_ALL_G', 'AVG_MATH_4_SCORE', 'AVG_MATH_8_SCORE',\n",
    "       'AVG_READING_4_SCORE', 'AVG_READING_8_SCORE']\n",
    "\n",
    "states = student_df.STATE.unique()\n",
    "\n",
    "# dealing with nulls by interpolation\n",
    "for state in states:\n",
    "    student_df.loc[student_df['STATE']==state, columns] = student_df.loc[student_df['STATE']==state, columns].interpolate()\n",
    "\n",
    "# dropping the ramainders\n",
    "student_df.dropna(inplace=True)"
   ]
  },
  {
   "cell_type": "code",
   "execution_count": 4,
   "metadata": {
    "scrolled": true
   },
   "outputs": [
    {
     "name": "stdout",
     "output_type": "stream",
     "text": [
      "<class 'pandas.core.frame.DataFrame'>\n",
      "Int64Index: 1046 entries, 54 to 1491\n",
      "Data columns (total 25 columns):\n",
      " #   Column                        Non-Null Count  Dtype  \n",
      "---  ------                        --------------  -----  \n",
      " 0   PRIMARY_KEY                   1046 non-null   object \n",
      " 1   STATE                         1046 non-null   object \n",
      " 2   YEAR                          1046 non-null   int64  \n",
      " 3   ENROLL                        1046 non-null   float64\n",
      " 4   TOTAL_REVENUE                 1046 non-null   float64\n",
      " 5   FEDERAL_REVENUE               1046 non-null   float64\n",
      " 6   STATE_REVENUE                 1046 non-null   float64\n",
      " 7   LOCAL_REVENUE                 1046 non-null   float64\n",
      " 8   TOTAL_EXPENDITURE             1046 non-null   float64\n",
      " 9   INSTRUCTION_EXPENDITURE       1046 non-null   float64\n",
      " 10  SUPPORT_SERVICES_EXPENDITURE  1046 non-null   float64\n",
      " 11  OTHER_EXPENDITURE             1046 non-null   float64\n",
      " 12  CAPITAL_OUTLAY_EXPENDITURE    1046 non-null   float64\n",
      " 13  GRADES_PK_G                   1046 non-null   float64\n",
      " 14  GRADES_KG_G                   1046 non-null   float64\n",
      " 15  GRADES_4_G                    1046 non-null   float64\n",
      " 16  GRADES_8_G                    1046 non-null   float64\n",
      " 17  GRADES_12_G                   1046 non-null   float64\n",
      " 18  GRADES_1_8_G                  1046 non-null   float64\n",
      " 19  GRADES_9_12_G                 1046 non-null   float64\n",
      " 20  GRADES_ALL_G                  1046 non-null   float64\n",
      " 21  AVG_MATH_4_SCORE              1046 non-null   float64\n",
      " 22  AVG_MATH_8_SCORE              1046 non-null   float64\n",
      " 23  AVG_READING_4_SCORE           1046 non-null   float64\n",
      " 24  AVG_READING_8_SCORE           1046 non-null   float64\n",
      "dtypes: float64(22), int64(1), object(2)\n",
      "memory usage: 212.5+ KB\n"
     ]
    }
   ],
   "source": [
    "student_df.info()\n",
    "# nulls have been handled"
   ]
  },
  {
   "cell_type": "markdown",
   "metadata": {},
   "source": [
    "### Say, we want to understand the relationship between the expenditures of the governments and the students' overall success in the math and reading.\n",
    "\n",
    "### 1. Create a new score variable from the weighted averages of all score variables in the datasets. **Notice that the number of students in the 4th grade isn't the same as the number of students in the 8th grade. So, you should appropriately weigh the scores!**."
   ]
  },
  {
   "cell_type": "code",
   "execution_count": 5,
   "metadata": {},
   "outputs": [
    {
     "data": {
      "text/html": [
       "<div>\n",
       "<style scoped>\n",
       "    .dataframe tbody tr th:only-of-type {\n",
       "        vertical-align: middle;\n",
       "    }\n",
       "\n",
       "    .dataframe tbody tr th {\n",
       "        vertical-align: top;\n",
       "    }\n",
       "\n",
       "    .dataframe thead th {\n",
       "        text-align: right;\n",
       "    }\n",
       "</style>\n",
       "<table border=\"1\" class=\"dataframe\">\n",
       "  <thead>\n",
       "    <tr style=\"text-align: right;\">\n",
       "      <th></th>\n",
       "      <th>GRADES_4_G</th>\n",
       "      <th>GRADES_8_G</th>\n",
       "      <th>AVG_MATH_4_SCORE</th>\n",
       "      <th>AVG_MATH_8_SCORE</th>\n",
       "      <th>AVG_READING_4_SCORE</th>\n",
       "      <th>AVG_READING_8_SCORE</th>\n",
       "    </tr>\n",
       "  </thead>\n",
       "  <tbody>\n",
       "    <tr>\n",
       "      <th>54</th>\n",
       "      <td>57701.0</td>\n",
       "      <td>53500.0</td>\n",
       "      <td>215.834434</td>\n",
       "      <td>265.993417</td>\n",
       "      <td>206.291984</td>\n",
       "      <td>262.448330</td>\n",
       "    </tr>\n",
       "    <tr>\n",
       "      <th>55</th>\n",
       "      <td>34255.0</td>\n",
       "      <td>36471.0</td>\n",
       "      <td>211.616130</td>\n",
       "      <td>257.647254</td>\n",
       "      <td>208.685273</td>\n",
       "      <td>266.423396</td>\n",
       "    </tr>\n",
       "    <tr>\n",
       "      <th>57</th>\n",
       "      <td>50807.0</td>\n",
       "      <td>47665.0</td>\n",
       "      <td>222.219036</td>\n",
       "      <td>273.200878</td>\n",
       "      <td>215.523979</td>\n",
       "      <td>266.856804</td>\n",
       "    </tr>\n",
       "    <tr>\n",
       "      <th>58</th>\n",
       "      <td>39093.0</td>\n",
       "      <td>34662.0</td>\n",
       "      <td>228.105503</td>\n",
       "      <td>275.202320</td>\n",
       "      <td>224.712775</td>\n",
       "      <td>264.457874</td>\n",
       "    </tr>\n",
       "    <tr>\n",
       "      <th>59</th>\n",
       "      <td>8285.0</td>\n",
       "      <td>8265.0</td>\n",
       "      <td>217.181255</td>\n",
       "      <td>263.834857</td>\n",
       "      <td>207.792430</td>\n",
       "      <td>262.255809</td>\n",
       "    </tr>\n",
       "    <tr>\n",
       "      <th>...</th>\n",
       "      <td>...</td>\n",
       "      <td>...</td>\n",
       "      <td>...</td>\n",
       "      <td>...</td>\n",
       "      <td>...</td>\n",
       "      <td>...</td>\n",
       "    </tr>\n",
       "    <tr>\n",
       "      <th>1487</th>\n",
       "      <td>96851.0</td>\n",
       "      <td>95221.0</td>\n",
       "      <td>248.041059</td>\n",
       "      <td>290.081407</td>\n",
       "      <td>227.598382</td>\n",
       "      <td>273.402640</td>\n",
       "    </tr>\n",
       "    <tr>\n",
       "      <th>1488</th>\n",
       "      <td>82404.0</td>\n",
       "      <td>79483.0</td>\n",
       "      <td>241.701001</td>\n",
       "      <td>289.131257</td>\n",
       "      <td>223.123409</td>\n",
       "      <td>267.744778</td>\n",
       "    </tr>\n",
       "    <tr>\n",
       "      <th>1489</th>\n",
       "      <td>19814.0</td>\n",
       "      <td>20426.0</td>\n",
       "      <td>236.057019</td>\n",
       "      <td>273.415854</td>\n",
       "      <td>217.316396</td>\n",
       "      <td>271.617023</td>\n",
       "    </tr>\n",
       "    <tr>\n",
       "      <th>1490</th>\n",
       "      <td>60999.0</td>\n",
       "      <td>61084.0</td>\n",
       "      <td>240.389213</td>\n",
       "      <td>288.143144</td>\n",
       "      <td>219.612694</td>\n",
       "      <td>258.700304</td>\n",
       "    </tr>\n",
       "    <tr>\n",
       "      <th>1491</th>\n",
       "      <td>7551.0</td>\n",
       "      <td>6902.0</td>\n",
       "      <td>247.820619</td>\n",
       "      <td>288.761812</td>\n",
       "      <td>226.831211</td>\n",
       "      <td>269.371456</td>\n",
       "    </tr>\n",
       "  </tbody>\n",
       "</table>\n",
       "<p>1046 rows × 6 columns</p>\n",
       "</div>"
      ],
      "text/plain": [
       "      GRADES_4_G  GRADES_8_G  AVG_MATH_4_SCORE  AVG_MATH_8_SCORE  \\\n",
       "54       57701.0     53500.0        215.834434        265.993417   \n",
       "55       34255.0     36471.0        211.616130        257.647254   \n",
       "57       50807.0     47665.0        222.219036        273.200878   \n",
       "58       39093.0     34662.0        228.105503        275.202320   \n",
       "59        8285.0      8265.0        217.181255        263.834857   \n",
       "...          ...         ...               ...               ...   \n",
       "1487     96851.0     95221.0        248.041059        290.081407   \n",
       "1488     82404.0     79483.0        241.701001        289.131257   \n",
       "1489     19814.0     20426.0        236.057019        273.415854   \n",
       "1490     60999.0     61084.0        240.389213        288.143144   \n",
       "1491      7551.0      6902.0        247.820619        288.761812   \n",
       "\n",
       "      AVG_READING_4_SCORE  AVG_READING_8_SCORE  \n",
       "54             206.291984           262.448330  \n",
       "55             208.685273           266.423396  \n",
       "57             215.523979           266.856804  \n",
       "58             224.712775           264.457874  \n",
       "59             207.792430           262.255809  \n",
       "...                   ...                  ...  \n",
       "1487           227.598382           273.402640  \n",
       "1488           223.123409           267.744778  \n",
       "1489           217.316396           271.617023  \n",
       "1490           219.612694           258.700304  \n",
       "1491           226.831211           269.371456  \n",
       "\n",
       "[1046 rows x 6 columns]"
      ]
     },
     "execution_count": 5,
     "metadata": {},
     "output_type": "execute_result"
    }
   ],
   "source": [
    "student_df[['GRADES_4_G', 'GRADES_8_G','AVG_MATH_4_SCORE', 'AVG_MATH_8_SCORE',\n",
    "       'AVG_READING_4_SCORE', 'AVG_READING_8_SCORE']]"
   ]
  },
  {
   "cell_type": "code",
   "execution_count": 6,
   "metadata": {
    "scrolled": true
   },
   "outputs": [],
   "source": [
    "# creating a weighted avg\n",
    "student_df['score'] = ((((((student_df['AVG_MATH_4_SCORE'] + student_df['AVG_READING_4_SCORE'])/2)\n",
    "                        *student_df['GRADES_4_G']) \n",
    "                        +\n",
    "                      (((student_df['AVG_MATH_8_SCORE'] + student_df['AVG_READING_8_SCORE'])/2)\n",
    "                      *student_df['GRADES_8_G']))\n",
    "                        /(student_df['GRADES_4_G']+student_df['GRADES_8_G'])))\n"
   ]
  },
  {
   "cell_type": "markdown",
   "metadata": {},
   "source": [
    "### 2. What are the correlations between this newly created score variable and the expenditure types? Which 1 of the expenditure types is more correlated than the others?\n"
   ]
  },
  {
   "cell_type": "code",
   "execution_count": 10,
   "metadata": {},
   "outputs": [
    {
     "data": {
      "image/png": "[encoded data removed]",
      "text/plain": [
       "<Figure size 720x720 with 2 Axes>"
      ]
     },
     "metadata": {
      "needs_background": "light"
     },
     "output_type": "display_data"
    }
   ],
   "source": [
    "# creating a df with only the variables we are interested in\n",
    "expends_score = student_df[['TOTAL_EXPENDITURE', 'INSTRUCTION_EXPENDITURE',\n",
    "       'SUPPORT_SERVICES_EXPENDITURE', 'OTHER_EXPENDITURE',\n",
    "       'CAPITAL_OUTLAY_EXPENDITURE', 'score']]\n",
    "\n",
    "# correlation matrix\n",
    "expends_score_corr = expends.corr()\n",
    "\n",
    "# plotting heatmap\n",
    "plt.figure(figsize=(10,10))\n",
    "_=sns.heatmap(expends_score_corr, square=True, annot=True)"
   ]
  },
  {
   "cell_type": "code",
   "execution_count": 8,
   "metadata": {},
   "outputs": [
    {
     "data": {
      "text/html": [
       "<div>\n",
       "<style scoped>\n",
       "    .dataframe tbody tr th:only-of-type {\n",
       "        vertical-align: middle;\n",
       "    }\n",
       "\n",
       "    .dataframe tbody tr th {\n",
       "        vertical-align: top;\n",
       "    }\n",
       "\n",
       "    .dataframe thead th {\n",
       "        text-align: right;\n",
       "    }\n",
       "</style>\n",
       "<table border=\"1\" class=\"dataframe\">\n",
       "  <thead>\n",
       "    <tr style=\"text-align: right;\">\n",
       "      <th></th>\n",
       "      <th>TOTAL_EXPENDITURE</th>\n",
       "      <th>INSTRUCTION_EXPENDITURE</th>\n",
       "      <th>SUPPORT_SERVICES_EXPENDITURE</th>\n",
       "      <th>OTHER_EXPENDITURE</th>\n",
       "      <th>CAPITAL_OUTLAY_EXPENDITURE</th>\n",
       "      <th>score</th>\n",
       "    </tr>\n",
       "  </thead>\n",
       "  <tbody>\n",
       "    <tr>\n",
       "      <th>TOTAL_EXPENDITURE</th>\n",
       "      <td>1.000000</td>\n",
       "      <td>0.990829</td>\n",
       "      <td>0.993175</td>\n",
       "      <td>0.946483</td>\n",
       "      <td>0.928576</td>\n",
       "      <td>0.093020</td>\n",
       "    </tr>\n",
       "    <tr>\n",
       "      <th>INSTRUCTION_EXPENDITURE</th>\n",
       "      <td>0.990829</td>\n",
       "      <td>1.000000</td>\n",
       "      <td>0.975867</td>\n",
       "      <td>0.907235</td>\n",
       "      <td>0.889763</td>\n",
       "      <td>0.105787</td>\n",
       "    </tr>\n",
       "    <tr>\n",
       "      <th>SUPPORT_SERVICES_EXPENDITURE</th>\n",
       "      <td>0.993175</td>\n",
       "      <td>0.975867</td>\n",
       "      <td>1.000000</td>\n",
       "      <td>0.953789</td>\n",
       "      <td>0.913680</td>\n",
       "      <td>0.098643</td>\n",
       "    </tr>\n",
       "    <tr>\n",
       "      <th>OTHER_EXPENDITURE</th>\n",
       "      <td>0.946483</td>\n",
       "      <td>0.907235</td>\n",
       "      <td>0.953789</td>\n",
       "      <td>1.000000</td>\n",
       "      <td>0.924197</td>\n",
       "      <td>0.027635</td>\n",
       "    </tr>\n",
       "    <tr>\n",
       "      <th>CAPITAL_OUTLAY_EXPENDITURE</th>\n",
       "      <td>0.928576</td>\n",
       "      <td>0.889763</td>\n",
       "      <td>0.913680</td>\n",
       "      <td>0.924197</td>\n",
       "      <td>1.000000</td>\n",
       "      <td>0.010670</td>\n",
       "    </tr>\n",
       "    <tr>\n",
       "      <th>score</th>\n",
       "      <td>0.093020</td>\n",
       "      <td>0.105787</td>\n",
       "      <td>0.098643</td>\n",
       "      <td>0.027635</td>\n",
       "      <td>0.010670</td>\n",
       "      <td>1.000000</td>\n",
       "    </tr>\n",
       "  </tbody>\n",
       "</table>\n",
       "</div>"
      ],
      "text/plain": [
       "                              TOTAL_EXPENDITURE  INSTRUCTION_EXPENDITURE  \\\n",
       "TOTAL_EXPENDITURE                      1.000000                 0.990829   \n",
       "INSTRUCTION_EXPENDITURE                0.990829                 1.000000   \n",
       "SUPPORT_SERVICES_EXPENDITURE           0.993175                 0.975867   \n",
       "OTHER_EXPENDITURE                      0.946483                 0.907235   \n",
       "CAPITAL_OUTLAY_EXPENDITURE             0.928576                 0.889763   \n",
       "score                                  0.093020                 0.105787   \n",
       "\n",
       "                              SUPPORT_SERVICES_EXPENDITURE  OTHER_EXPENDITURE  \\\n",
       "TOTAL_EXPENDITURE                                 0.993175           0.946483   \n",
       "INSTRUCTION_EXPENDITURE                           0.975867           0.907235   \n",
       "SUPPORT_SERVICES_EXPENDITURE                      1.000000           0.953789   \n",
       "OTHER_EXPENDITURE                                 0.953789           1.000000   \n",
       "CAPITAL_OUTLAY_EXPENDITURE                        0.913680           0.924197   \n",
       "score                                             0.098643           0.027635   \n",
       "\n",
       "                              CAPITAL_OUTLAY_EXPENDITURE     score  \n",
       "TOTAL_EXPENDITURE                               0.928576  0.093020  \n",
       "INSTRUCTION_EXPENDITURE                         0.889763  0.105787  \n",
       "SUPPORT_SERVICES_EXPENDITURE                    0.913680  0.098643  \n",
       "OTHER_EXPENDITURE                               0.924197  0.027635  \n",
       "CAPITAL_OUTLAY_EXPENDITURE                      1.000000  0.010670  \n",
       "score                                           0.010670  1.000000  "
      ]
     },
     "execution_count": 8,
     "metadata": {},
     "output_type": "execute_result"
    }
   ],
   "source": [
    "expends_score_corr"
   ]
  },
  {
   "cell_type": "markdown",
   "metadata": {},
   "source": [
    "Instruction expenditure is most correlated with the new 'score' variable"
   ]
  },
  {
   "cell_type": "markdown",
   "metadata": {},
   "source": [
    "### 3. Now, apply PCA to the 4 expenditure types. How much of the total variance is explained by the 1st component?\n"
   ]
  },
  {
   "cell_type": "code",
   "execution_count": 15,
   "metadata": {},
   "outputs": [
    {
     "name": "stdout",
     "output_type": "stream",
     "text": [
      "The percentage of total variance in the dataset explained by each component from Sklearn PCA. \n",
      " [0.9541168]\n"
     ]
    }
   ],
   "source": [
    "# df with just expenditures\n",
    "expends = student_df[['TOTAL_EXPENDITURE', 'INSTRUCTION_EXPENDITURE',\n",
    "       'SUPPORT_SERVICES_EXPENDITURE', 'OTHER_EXPENDITURE',\n",
    "       'CAPITAL_OUTLAY_EXPENDITURE']]\n",
    "\n",
    "stndzd_expends = StandardScaler().fit_transform(expends)\n",
    "\n",
    "sklearn_PCA = PCA(n_components=1)\n",
    "\n",
    "expend_PCA = sklearn_PCA.fit_transform(stndzd_expends)\n",
    "\n",
    "print(\n",
    "    'The percentage of total variance in the dataset explained by each',\n",
    "    'component from Sklearn PCA. \\n',\n",
    "    sklearn_PCA.explained_variance_ratio_\n",
    ")"
   ]
  },
  {
   "cell_type": "markdown",
   "metadata": {},
   "source": [
    "Over 95% of the data can be explained by the first principle component"
   ]
  },
  {
   "cell_type": "markdown",
   "metadata": {},
   "source": [
    "### 4. What is the correlation between the overall score variable and the 1st principal component? \n"
   ]
  },
  {
   "cell_type": "code",
   "execution_count": 19,
   "metadata": {},
   "outputs": [
    {
     "data": {
      "image/png": "[encoded data removed]",
      "text/plain": [
       "<Figure size 720x720 with 2 Axes>"
      ]
     },
     "metadata": {
      "needs_background": "light"
     },
     "output_type": "display_data"
    }
   ],
   "source": [
    "# new column for principle component 1\n",
    "student_df['PC_1'] = expend_PCA\n",
    "\n",
    "# expenditures, score and principle component 1 dataframe\n",
    "expends_score_pc1 = student_df[['TOTAL_EXPENDITURE', 'INSTRUCTION_EXPENDITURE',\n",
    "       'SUPPORT_SERVICES_EXPENDITURE', 'OTHER_EXPENDITURE',\n",
    "       'CAPITAL_OUTLAY_EXPENDITURE', 'score', 'PC_1']]\n",
    "\n",
    "# expenditures, score and principle component 1 correlation matrix\n",
    "E_S_P_corr = expends_score_pc1.corr()\n",
    "\n",
    "plt.figure(figsize=(10,10))\n",
    "sns.heatmap(E_S_P_corr, square=True, annot=True);"
   ]
  },
  {
   "cell_type": "code",
   "execution_count": 22,
   "metadata": {},
   "outputs": [
    {
     "data": {
      "text/html": [
       "<div>\n",
       "<style scoped>\n",
       "    .dataframe tbody tr th:only-of-type {\n",
       "        vertical-align: middle;\n",
       "    }\n",
       "\n",
       "    .dataframe tbody tr th {\n",
       "        vertical-align: top;\n",
       "    }\n",
       "\n",
       "    .dataframe thead th {\n",
       "        text-align: right;\n",
       "    }\n",
       "</style>\n",
       "<table border=\"1\" class=\"dataframe\">\n",
       "  <thead>\n",
       "    <tr style=\"text-align: right;\">\n",
       "      <th></th>\n",
       "      <th>TOTAL_EXPENDITURE</th>\n",
       "      <th>INSTRUCTION_EXPENDITURE</th>\n",
       "      <th>SUPPORT_SERVICES_EXPENDITURE</th>\n",
       "      <th>OTHER_EXPENDITURE</th>\n",
       "      <th>CAPITAL_OUTLAY_EXPENDITURE</th>\n",
       "      <th>score</th>\n",
       "      <th>PC_1</th>\n",
       "    </tr>\n",
       "  </thead>\n",
       "  <tbody>\n",
       "    <tr>\n",
       "      <th>TOTAL_EXPENDITURE</th>\n",
       "      <td>1.000000</td>\n",
       "      <td>0.990829</td>\n",
       "      <td>0.993175</td>\n",
       "      <td>0.946483</td>\n",
       "      <td>0.928576</td>\n",
       "      <td>0.093020</td>\n",
       "      <td>0.995210</td>\n",
       "    </tr>\n",
       "    <tr>\n",
       "      <th>INSTRUCTION_EXPENDITURE</th>\n",
       "      <td>0.990829</td>\n",
       "      <td>1.000000</td>\n",
       "      <td>0.975867</td>\n",
       "      <td>0.907235</td>\n",
       "      <td>0.889763</td>\n",
       "      <td>0.105787</td>\n",
       "      <td>0.975856</td>\n",
       "    </tr>\n",
       "    <tr>\n",
       "      <th>SUPPORT_SERVICES_EXPENDITURE</th>\n",
       "      <td>0.993175</td>\n",
       "      <td>0.975867</td>\n",
       "      <td>1.000000</td>\n",
       "      <td>0.953789</td>\n",
       "      <td>0.913680</td>\n",
       "      <td>0.098643</td>\n",
       "      <td>0.990651</td>\n",
       "    </tr>\n",
       "    <tr>\n",
       "      <th>OTHER_EXPENDITURE</th>\n",
       "      <td>0.946483</td>\n",
       "      <td>0.907235</td>\n",
       "      <td>0.953789</td>\n",
       "      <td>1.000000</td>\n",
       "      <td>0.924197</td>\n",
       "      <td>0.027635</td>\n",
       "      <td>0.968760</td>\n",
       "    </tr>\n",
       "    <tr>\n",
       "      <th>CAPITAL_OUTLAY_EXPENDITURE</th>\n",
       "      <td>0.928576</td>\n",
       "      <td>0.889763</td>\n",
       "      <td>0.913680</td>\n",
       "      <td>0.924197</td>\n",
       "      <td>1.000000</td>\n",
       "      <td>0.010670</td>\n",
       "      <td>0.952869</td>\n",
       "    </tr>\n",
       "    <tr>\n",
       "      <th>score</th>\n",
       "      <td>0.093020</td>\n",
       "      <td>0.105787</td>\n",
       "      <td>0.098643</td>\n",
       "      <td>0.027635</td>\n",
       "      <td>0.010670</td>\n",
       "      <td>1.000000</td>\n",
       "      <td>0.069272</td>\n",
       "    </tr>\n",
       "    <tr>\n",
       "      <th>PC_1</th>\n",
       "      <td>0.995210</td>\n",
       "      <td>0.975856</td>\n",
       "      <td>0.990651</td>\n",
       "      <td>0.968760</td>\n",
       "      <td>0.952869</td>\n",
       "      <td>0.069272</td>\n",
       "      <td>1.000000</td>\n",
       "    </tr>\n",
       "  </tbody>\n",
       "</table>\n",
       "</div>"
      ],
      "text/plain": [
       "                              TOTAL_EXPENDITURE  INSTRUCTION_EXPENDITURE  \\\n",
       "TOTAL_EXPENDITURE                      1.000000                 0.990829   \n",
       "INSTRUCTION_EXPENDITURE                0.990829                 1.000000   \n",
       "SUPPORT_SERVICES_EXPENDITURE           0.993175                 0.975867   \n",
       "OTHER_EXPENDITURE                      0.946483                 0.907235   \n",
       "CAPITAL_OUTLAY_EXPENDITURE             0.928576                 0.889763   \n",
       "score                                  0.093020                 0.105787   \n",
       "PC_1                                   0.995210                 0.975856   \n",
       "\n",
       "                              SUPPORT_SERVICES_EXPENDITURE  OTHER_EXPENDITURE  \\\n",
       "TOTAL_EXPENDITURE                                 0.993175           0.946483   \n",
       "INSTRUCTION_EXPENDITURE                           0.975867           0.907235   \n",
       "SUPPORT_SERVICES_EXPENDITURE                      1.000000           0.953789   \n",
       "OTHER_EXPENDITURE                                 0.953789           1.000000   \n",
       "CAPITAL_OUTLAY_EXPENDITURE                        0.913680           0.924197   \n",
       "score                                             0.098643           0.027635   \n",
       "PC_1                                              0.990651           0.968760   \n",
       "\n",
       "                              CAPITAL_OUTLAY_EXPENDITURE     score      PC_1  \n",
       "TOTAL_EXPENDITURE                               0.928576  0.093020  0.995210  \n",
       "INSTRUCTION_EXPENDITURE                         0.889763  0.105787  0.975856  \n",
       "SUPPORT_SERVICES_EXPENDITURE                    0.913680  0.098643  0.990651  \n",
       "OTHER_EXPENDITURE                               0.924197  0.027635  0.968760  \n",
       "CAPITAL_OUTLAY_EXPENDITURE                      1.000000  0.010670  0.952869  \n",
       "score                                           0.010670  1.000000  0.069272  \n",
       "PC_1                                            0.952869  0.069272  1.000000  "
      ]
     },
     "execution_count": 22,
     "metadata": {},
     "output_type": "execute_result"
    }
   ],
   "source": [
    "E_S_P_corr"
   ]
  },
  {
   "cell_type": "markdown",
   "metadata": {},
   "source": [
    "PC_1 has a much higher correlation to Total Expenditure and Support Services and little correlation to the overall score variable. This makes sense since PC_1 was created from the expenditure variables which already had a low correlation to the score variable."
   ]
  },
  {
   "cell_type": "markdown",
   "metadata": {},
   "source": [
    "### 5. If you were to choose the best variables for your model, would you prefer using the 1st principal component instead of the expenditure variables? Why?"
   ]
  },
  {
   "cell_type": "markdown",
   "metadata": {},
   "source": [
    "As a measure of correlation to the score, PC_1 has lower correlation coefficient than Total_Expenditure and Support Services Expenditure. PCA in this instance would also be unstable I would rather look for a different variable in the df that had more correlation to overall score, but if I had to choose, I would choose the expenditure variables."
   ]
  }
 ],
 "metadata": {
  "kernelspec": {
   "display_name": ".venv",
   "language": "python",
   "name": ".venv"
  },
  "language_info": {
   "codemirror_mode": {
    "name": "ipython",
    "version": 3
   },
   "file_extension": ".py",
   "mimetype": "text/x-python",
   "name": "python",
   "nbconvert_exporter": "python",
   "pygments_lexer": "ipython3",
   "version": "3.7.2"
  }
 },
 "nbformat": 4,
 "nbformat_minor": 4
}
