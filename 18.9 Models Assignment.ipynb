{
 "cells": [
  {
   "cell_type": "markdown",
   "metadata": {},
   "source": [
    "## Assignment\n",
    "\n",
    "To complete this assignment, submit a link to a Jupyter notebook containing your solutions to the following tasks:\n",
    "\n",
    "### 1. Try to model the result of a coin toss. In your model, include any features that you think important in explaining the result. Discuss with your mentor about the pros and cons of adding too many features into your model.\n"
   ]
  },
  {
   "cell_type": "markdown",
   "metadata": {},
   "source": [
    "1. fairness of coin (if we don't assume fairness)\n",
    "2. weight of coin\n",
    "3. force applied to the coin\n",
    "4. friction between hand and coin\n",
    "5. relative flatness of plane where coin lands\n",
    "6. relative hardness/softness of place where coin lands"
   ]
  },
  {
   "cell_type": "markdown",
   "metadata": {},
   "source": [
    "### 2. If you ever used Netflix, you should already have realized that it provides some recommendations for you to watch. In data science, this is an example of the so-called **recommendations systems**. Read this nontechnical blog post of [Netflix](https://help.netflix.com/en/node/100639) about how they model their recommendations systems. Then, derive the features they use in their recommendations engines and discuss what else can be incorporated into this model. "
   ]
  },
  {
   "cell_type": "markdown",
   "metadata": {},
   "source": [
    "Features:\n",
    "1. user viewing history\n",
    "2. rating history\n",
    "3. correlation to similar users with similar viewing history and rating history\n",
    "4. correlations of viewing history to movies with similar themes \n",
    "5. time of day\n",
    "6. device\n",
    "7. length of time watched\n",
    "\n",
    "Potential additions:\n",
    "1. Incorporate Rotten tomatoes rating system API\n",
    "2. Buy information from credit card companies and tailor recommendations to client's buying interests\n",
    "\n",
    "(I'm also convinced that Netflix recommends \"Netflix Originals\" even when they don't match your viewing preferences in order to boost their own numbers.)"
   ]
  },
  {
   "cell_type": "code",
   "execution_count": null,
   "metadata": {},
   "outputs": [],
   "source": []
  }
 ],
 "metadata": {
  "kernelspec": {
   "display_name": ".venv",
   "language": "python",
   "name": ".venv"
  },
  "language_info": {
   "codemirror_mode": {
    "name": "ipython",
    "version": 3
   },
   "file_extension": ".py",
   "mimetype": "text/x-python",
   "name": "python",
   "nbconvert_exporter": "python",
   "pygments_lexer": "ipython3",
   "version": "3.7.2"
  }
 },
 "nbformat": 4,
 "nbformat_minor": 4
}
