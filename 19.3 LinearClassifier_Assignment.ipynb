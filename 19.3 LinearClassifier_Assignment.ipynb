{
 "cells": [
  {
   "cell_type": "markdown",
   "metadata": {
    "colab_type": "text",
    "id": "6I4eycOvylvk"
   },
   "source": [
    "## Linear Classifiers\n",
    "In this assignment you will load a dataset and train a Logistic regression Classifier.\n",
    "\n",
    "### The Dataset\n",
    "This dataset is composed of a range of biomedical voice measurements from 31 people, 23 with Parkinson's disease (PD). Each column in the table is a particular voice measure, and each row corresponds one of 195 voice recording from these individuals (\"name\" column). The main aim of the data is to discriminate healthy people from those with PD, according to \"status\" column which is set to 0 for healthy and 1 for PD. \n",
    "\n"
   ]
  },
  {
   "cell_type": "markdown",
   "metadata": {
    "colab_type": "text",
    "id": "0yC0ZA6dy1QV"
   },
   "source": [
    "### 1. Import necessary packages\n",
    "\n",
    "For this exercise we need\n",
    "\n",
    " - pandas\n",
    " - train_test_split\n",
    " - LogisticRegression\n",
    " - pyplot from matplotlib"
   ]
  },
  {
   "cell_type": "code",
   "execution_count": 32,
   "metadata": {
    "colab": {},
    "colab_type": "code",
    "id": "XTA2-4TWs-Od"
   },
   "outputs": [],
   "source": [
    "import pandas as pd\n",
    "import numpy as np\n",
    "from sklearn.model_selection import train_test_split\n",
    "from sklearn.linear_model import LogisticRegression\n",
    "import matplotlib.pyplot as plt\n",
    "import seaborn as sns\n",
    "\n",
    "%matplotlib inline"
   ]
  },
  {
   "cell_type": "markdown",
   "metadata": {
    "colab_type": "text",
    "id": "_OzR2Q1mzNsj"
   },
   "source": [
    "### 2. Load and prepare the dataset\n",
    "\n",
    "\n",
    "1.   Load the dataset into a dataframe named **df_data** (this step is done for you).\n",
    "2.   Drop the name column. This column is not a feature required by the model.\n",
    "3.   Create a dataframe named **X** containing all the columns except the status.\n",
    "4.   Create a dataframe named **y** containing the status.\n",
    "\n"
   ]
  },
  {
   "cell_type": "code",
   "execution_count": 3,
   "metadata": {
    "colab": {},
    "colab_type": "code",
    "id": "YiVjEgccA2Jf"
   },
   "outputs": [],
   "source": [
    "df_data = pd.read_csv('http://archive.ics.uci.edu/ml/machine-learning-databases/parkinsons/parkinsons.data')\n",
    "df_data = df_data.drop('name', axis=1)\n",
    "X = df_data.drop('status', axis=1)\n",
    "y = df_data['status']"
   ]
  },
  {
   "cell_type": "markdown",
   "metadata": {
    "colab_type": "text",
    "id": "f4J4svVN0Q-8"
   },
   "source": [
    "### 3. Split the dataset into a training set and a test set"
   ]
  },
  {
   "cell_type": "code",
   "execution_count": 7,
   "metadata": {
    "colab": {},
    "colab_type": "code",
    "id": "WWB4ApBJCCOg"
   },
   "outputs": [],
   "source": [
    "# split here\n",
    "X_train, X_test, y_train, y_test = train_test_split(X,y)"
   ]
  },
  {
   "cell_type": "markdown",
   "metadata": {
    "colab_type": "text",
    "id": "wdUpUqvx0Xy3"
   },
   "source": [
    "### 4. Create the model\n",
    "\n",
    "\n",
    "1.   Instantiate a Logistic Regression classifier with a `lbfgs` solver and penalty set to 'none'.\n",
    "2.   Fit the classifier to the data.\n",
    "\n",
    "*If the algorithm fails to converge, what change can you make to fix that?*\n",
    "\n"
   ]
  },
  {
   "cell_type": "code",
   "execution_count": 13,
   "metadata": {
    "colab": {},
    "colab_type": "code",
    "id": "bJZKapCoBrbZ"
   },
   "outputs": [
    {
     "data": {
      "text/plain": [
       "LogisticRegression(C=1.0, class_weight=None, dual=False, fit_intercept=True,\n",
       "                   intercept_scaling=1, l1_ratio=None, max_iter=1000,\n",
       "                   multi_class='auto', n_jobs=None, penalty='none',\n",
       "                   random_state=None, solver='lbfgs', tol=0.0001, verbose=0,\n",
       "                   warm_start=False)"
      ]
     },
     "execution_count": 13,
     "metadata": {},
     "output_type": "execute_result"
    }
   ],
   "source": [
    "# alg failed to converge. increased max interations to 1000 and converged successfully\n",
    "lr = LogisticRegression(solver='lbfgs', penalty='none', max_iter=1000)\n",
    "lr.fit(X_train, y_train)\n",
    "\n"
   ]
  },
  {
   "cell_type": "markdown",
   "metadata": {
    "colab_type": "text",
    "id": "xPOOTwC81SEJ"
   },
   "source": [
    "### 5. Calculate Accuracy\n",
    "Calculate and print the accuracy of the model on the test data."
   ]
  },
  {
   "cell_type": "code",
   "execution_count": 38,
   "metadata": {
    "colab": {},
    "colab_type": "code",
    "id": "mDb5eFMC1XwX"
   },
   "outputs": [
    {
     "name": "stdout",
     "output_type": "stream",
     "text": [
      "Accuracy of Logistic Regression without regularization: 0.796\n"
     ]
    }
   ],
   "source": [
    "score = lr.score(X_test, y_test)\n",
    "print(f'Accuracy of Logistic Regression without regularization: {score:.3f}')"
   ]
  },
  {
   "cell_type": "markdown",
   "metadata": {
    "colab_type": "text",
    "id": "4HZWaREW2lGw"
   },
   "source": [
    "### 6. L2 Regularization\n",
    "Train another model with L2 regularization and compare the accuracy of the new model to the previous one.\n"
   ]
  },
  {
   "cell_type": "code",
   "execution_count": 39,
   "metadata": {
    "colab": {},
    "colab_type": "code",
    "id": "VF_-VldG3A8I"
   },
   "outputs": [
    {
     "name": "stdout",
     "output_type": "stream",
     "text": [
      "Accuracy of Logistic Regression without regularization: 0.877\n"
     ]
    }
   ],
   "source": [
    "lr_regularized = LogisticRegression(solver='lbfgs', penalty='l2', max_iter=10000)\n",
    "lr_regularized.fit(X_train, y_train)\n",
    "\n",
    "reg_score = lr_regularized.score(X_train, y_train)\n",
    "\n",
    "print(f'Accuracy of Logistic Regression without regularization: {reg_score:.3f}')\n",
    "# This model has better accuracy"
   ]
  },
  {
   "cell_type": "markdown",
   "metadata": {
    "colab_type": "text",
    "id": "9LhZoke83cHD"
   },
   "source": [
    "### 7. Choose the C parameter\n",
    "Use a loop to test the effect of varying the C parameter from 0.05 to 1.5 in increments of 0.5. Plot a graph to show the accuracy on the test data versus the accuracy on the training data. Select an appropriate value for C and explain why that may be the best value."
   ]
  },
  {
   "cell_type": "code",
   "execution_count": 34,
   "metadata": {
    "colab": {
     "base_uri": "https://localhost:8080/",
     "height": 295
    },
    "colab_type": "code",
    "id": "ddNMl7kN15N3",
    "outputId": "a71c24e5-c5a2-431b-e4ed-08b89e70532c"
   },
   "outputs": [
    {
     "data": {
      "image/png": "[encoded data removed]",
      "text/plain": [
       "<Figure size 576x288 with 1 Axes>"
      ]
     },
     "metadata": {},
     "output_type": "display_data"
    }
   ],
   "source": [
    "sns.set_style('dark')\n",
    "\n",
    "c_vals = np.arange(0.05, 1.5, 0.05)\n",
    "test_accuracy = []\n",
    "train_accuracy = []\n",
    "\n",
    "for c in c_vals:\n",
    "  lr = LogisticRegression(solver='lbfgs', penalty='l2', C=c, max_iter=1000)\n",
    "  lr.fit(X_train, y_train)\n",
    "  test_accuracy.append(lr.score(X_test, y_test))\n",
    "  train_accuracy.append(lr.score(X_train, y_train))\n",
    "\n",
    "fig = plt.figure(figsize=(8, 4))\n",
    "ax1 = fig.add_subplot(1, 1, 1)\n",
    "sns.lineplot(c_vals, test_accuracy, color='green', label='Test Accuracy', ax=ax1)\n",
    "sns.lineplot(c_vals, train_accuracy, color='blue', label='Train Accuracy', ax=ax1)\n",
    "ax1.set(xlabel='C', ylabel='Accuracy')\n",
    "ax1.set_title('Effect of C on Accuracy')\n",
    "ax1.legend()\n",
    "plt.show()"
   ]
  },
  {
   "cell_type": "markdown",
   "metadata": {
    "colab_type": "text",
    "id": "39XAG5Ea4QEx"
   },
   "source": [
    "The optimum value for C is between 1.3 and 1.5. This region minimizes the difference between the test and training accuracy. This implies the least amount of overfitting is occuring."
   ]
  },
  {
   "cell_type": "code",
   "execution_count": null,
   "metadata": {},
   "outputs": [],
   "source": []
  }
 ],
 "metadata": {
  "colab": {
   "collapsed_sections": [],
   "name": "Copy of LinearClassifier Assignment.ipynb",
   "provenance": [],
   "version": "0.3.2"
  },
  "kernelspec": {
   "display_name": "pythonenv",
   "language": "python",
   "name": "pythonenv"
  },
  "language_info": {
   "codemirror_mode": {
    "name": "ipython",
    "version": 3
   },
   "file_extension": ".py",
   "mimetype": "text/x-python",
   "name": "python",
   "nbconvert_exporter": "python",
   "pygments_lexer": "ipython3",
   "version": "3.8.2"
  }
 },
 "nbformat": 4,
 "nbformat_minor": 1
}
