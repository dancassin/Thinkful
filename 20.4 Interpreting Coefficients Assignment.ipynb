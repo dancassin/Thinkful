{
 "cells": [
  {
   "cell_type": "markdown",
   "metadata": {},
   "source": [
    "## Assignments\n",
    "\n",
    "To close out this checkpoint, you're going to do three assignments. For the first assignment, you'll write up a short answer to a question.  For the second two assignments, you'll do your work in Jupyter notebooks.\n",
    "\n",
    "\n",
    "Please submit links to all your work below. This is not a graded checkpoint, but you should discuss your solutions with your mentor. Also, when you're done, compare your work to [these example solutions](https://github.com/Thinkful-Ed/machine-learning-regression-problems/blob/master/notebooks/4.solution_understanding_the_relationship.ipynb).\n",
    "\n",
    "### 1. Interpretation and significance\n",
    "\n",
    "Suppose that we would like to know how much families in the US are spending on recreation annually. We've estimated the following model:\n",
    "\n",
    "$$ expenditure = 873 + 0.0012annual\\_income + 0.00002annual\\_income^2 - 223.57have\\_kids $$\n",
    "\n",
    "*expenditure* is the annual spending on recreation in US dollars, *annual_income* is the annual income in US dollars, and *have_kids* is a dummy variable indicating the families with children. Interpret the estimated coefficients. What additional statistics should be given in order to make sure that your interpretations make sense statistically. Write up your answer."
   ]
  },
  {
   "cell_type": "markdown",
   "metadata": {},
   "source": [
    "We would need to run a summary test from the statsmodels' OLS to see the p-value of each coefficient to determine their significance. \n",
    "\n",
    "have_kids is likely a dummy variable, so this shows people with kids spend -223.57 less on recreation annually than those with kids. \n",
    "\n",
    "For every 1000 increase in annual income expenditure increases by $1.2 + .02*annual_income"
   ]
  },
  {
   "cell_type": "markdown",
   "metadata": {},
   "source": [
    "### 2. Weather model\n",
    "\n",
    "In this exercise, you'll work with the historical temperature data from the previous checkpoint. To complete this assignment, submit a link to a Jupyter notebook containing your solutions to the following tasks:\n",
    "\n",
    "* First, load the dataset from the **weatherinszeged** table from Thinkful's database.\n",
    "* Build a linear regression model where your target variable is the difference between the *apparenttemperature* and the *temperature*. \n",
    "    * As explanatory variables, use *humidity* and *windspeed*. \n",
    "    * Now, estimate your model using OLS. Are the estimated coefficients statistically significant? \n",
    "    * Are the signs of the estimated coefficients in line with your previous expectations? \n",
    "    * Interpret the estimated coefficients. What are the relations between the target and the explanatory variables? \n",
    "* Next, include the interaction of *humidity* and *windspeed* to the model above and estimate the model using OLS. \n",
    "    * Are the coefficients statistically significant? \n",
    "    * Did the signs of the estimated coefficients for *humidity* and *windspeed* change? \n",
    "    * Interpret the estimated coefficients."
   ]
  },
  {
   "cell_type": "code",
   "execution_count": 1,
   "metadata": {},
   "outputs": [],
   "source": [
    "import numpy as np\n",
    "import pandas as pd\n",
    "import matplotlib.pyplot as plt\n",
    "from sqlalchemy import create_engine\n",
    "import seaborn as sns\n",
    "import statsmodels.api as sm\n",
    "\n",
    "sns.set_style('dark')\n",
    "\n",
    "import warnings\n",
    "warnings.filterwarnings('ignore')"
   ]
  },
  {
   "cell_type": "code",
   "execution_count": 14,
   "metadata": {},
   "outputs": [],
   "source": [
    "postgres_user = 'dsbc_student'\n",
    "postgres_pw = '7*.8G9QH21'\n",
    "postgres_host = '142.93.121.174'\n",
    "postgres_port = '5432'\n",
    "postgres_db = 'weatherinszeged'\n",
    "\n",
    "engine = create_engine('postgresql://{}:{}@{}:{}/{}'.format(\n",
    "    postgres_user, postgres_pw, postgres_host, postgres_port, postgres_db))\n",
    "weather = pd.read_sql_query('select * from weatherinszeged',con=engine)\n",
    "\n",
    "# no need for an open connection, as we're only doing a single query\n",
    "engine.dispose()"
   ]
  },
  {
   "cell_type": "code",
   "execution_count": 15,
   "metadata": {},
   "outputs": [
    {
     "data": {
      "text/html": [
       "<div>\n",
       "<style scoped>\n",
       "    .dataframe tbody tr th:only-of-type {\n",
       "        vertical-align: middle;\n",
       "    }\n",
       "\n",
       "    .dataframe tbody tr th {\n",
       "        vertical-align: top;\n",
       "    }\n",
       "\n",
       "    .dataframe thead th {\n",
       "        text-align: right;\n",
       "    }\n",
       "</style>\n",
       "<table border=\"1\" class=\"dataframe\">\n",
       "  <thead>\n",
       "    <tr style=\"text-align: right;\">\n",
       "      <th></th>\n",
       "      <th>date</th>\n",
       "      <th>summary</th>\n",
       "      <th>preciptype</th>\n",
       "      <th>temperature</th>\n",
       "      <th>apparenttemperature</th>\n",
       "      <th>humidity</th>\n",
       "      <th>windspeed</th>\n",
       "      <th>windbearing</th>\n",
       "      <th>visibility</th>\n",
       "      <th>loudcover</th>\n",
       "      <th>pressure</th>\n",
       "      <th>dailysummary</th>\n",
       "    </tr>\n",
       "  </thead>\n",
       "  <tbody>\n",
       "    <tr>\n",
       "      <th>0</th>\n",
       "      <td>2006-03-31 22:00:00+00:00</td>\n",
       "      <td>Partly Cloudy</td>\n",
       "      <td>rain</td>\n",
       "      <td>9.472222</td>\n",
       "      <td>7.388889</td>\n",
       "      <td>0.89</td>\n",
       "      <td>14.1197</td>\n",
       "      <td>251.0</td>\n",
       "      <td>15.8263</td>\n",
       "      <td>0.0</td>\n",
       "      <td>1015.13</td>\n",
       "      <td>Partly cloudy throughout the day.</td>\n",
       "    </tr>\n",
       "    <tr>\n",
       "      <th>1</th>\n",
       "      <td>2006-03-31 23:00:00+00:00</td>\n",
       "      <td>Partly Cloudy</td>\n",
       "      <td>rain</td>\n",
       "      <td>9.355556</td>\n",
       "      <td>7.227778</td>\n",
       "      <td>0.86</td>\n",
       "      <td>14.2646</td>\n",
       "      <td>259.0</td>\n",
       "      <td>15.8263</td>\n",
       "      <td>0.0</td>\n",
       "      <td>1015.63</td>\n",
       "      <td>Partly cloudy throughout the day.</td>\n",
       "    </tr>\n",
       "    <tr>\n",
       "      <th>2</th>\n",
       "      <td>2006-04-01 00:00:00+00:00</td>\n",
       "      <td>Mostly Cloudy</td>\n",
       "      <td>rain</td>\n",
       "      <td>9.377778</td>\n",
       "      <td>9.377778</td>\n",
       "      <td>0.89</td>\n",
       "      <td>3.9284</td>\n",
       "      <td>204.0</td>\n",
       "      <td>14.9569</td>\n",
       "      <td>0.0</td>\n",
       "      <td>1015.94</td>\n",
       "      <td>Partly cloudy throughout the day.</td>\n",
       "    </tr>\n",
       "    <tr>\n",
       "      <th>3</th>\n",
       "      <td>2006-04-01 01:00:00+00:00</td>\n",
       "      <td>Partly Cloudy</td>\n",
       "      <td>rain</td>\n",
       "      <td>8.288889</td>\n",
       "      <td>5.944444</td>\n",
       "      <td>0.83</td>\n",
       "      <td>14.1036</td>\n",
       "      <td>269.0</td>\n",
       "      <td>15.8263</td>\n",
       "      <td>0.0</td>\n",
       "      <td>1016.41</td>\n",
       "      <td>Partly cloudy throughout the day.</td>\n",
       "    </tr>\n",
       "    <tr>\n",
       "      <th>4</th>\n",
       "      <td>2006-04-01 02:00:00+00:00</td>\n",
       "      <td>Mostly Cloudy</td>\n",
       "      <td>rain</td>\n",
       "      <td>8.755556</td>\n",
       "      <td>6.977778</td>\n",
       "      <td>0.83</td>\n",
       "      <td>11.0446</td>\n",
       "      <td>259.0</td>\n",
       "      <td>15.8263</td>\n",
       "      <td>0.0</td>\n",
       "      <td>1016.51</td>\n",
       "      <td>Partly cloudy throughout the day.</td>\n",
       "    </tr>\n",
       "  </tbody>\n",
       "</table>\n",
       "</div>"
      ],
      "text/plain": [
       "                       date        summary preciptype  temperature  \\\n",
       "0 2006-03-31 22:00:00+00:00  Partly Cloudy       rain     9.472222   \n",
       "1 2006-03-31 23:00:00+00:00  Partly Cloudy       rain     9.355556   \n",
       "2 2006-04-01 00:00:00+00:00  Mostly Cloudy       rain     9.377778   \n",
       "3 2006-04-01 01:00:00+00:00  Partly Cloudy       rain     8.288889   \n",
       "4 2006-04-01 02:00:00+00:00  Mostly Cloudy       rain     8.755556   \n",
       "\n",
       "   apparenttemperature  humidity  windspeed  windbearing  visibility  \\\n",
       "0             7.388889      0.89    14.1197        251.0     15.8263   \n",
       "1             7.227778      0.86    14.2646        259.0     15.8263   \n",
       "2             9.377778      0.89     3.9284        204.0     14.9569   \n",
       "3             5.944444      0.83    14.1036        269.0     15.8263   \n",
       "4             6.977778      0.83    11.0446        259.0     15.8263   \n",
       "\n",
       "   loudcover  pressure                       dailysummary  \n",
       "0        0.0   1015.13  Partly cloudy throughout the day.  \n",
       "1        0.0   1015.63  Partly cloudy throughout the day.  \n",
       "2        0.0   1015.94  Partly cloudy throughout the day.  \n",
       "3        0.0   1016.41  Partly cloudy throughout the day.  \n",
       "4        0.0   1016.51  Partly cloudy throughout the day.  "
      ]
     },
     "execution_count": 15,
     "metadata": {},
     "output_type": "execute_result"
    }
   ],
   "source": [
    "weather.head()"
   ]
  },
  {
   "cell_type": "code",
   "execution_count": 19,
   "metadata": {
    "scrolled": false
   },
   "outputs": [
    {
     "name": "stdout",
     "output_type": "stream",
     "text": [
      "                            OLS Regression Results                            \n",
      "==============================================================================\n",
      "Dep. Variable:                 target   R-squared:                       0.288\n",
      "Model:                            OLS   Adj. R-squared:                  0.288\n",
      "Method:                 Least Squares   F-statistic:                 1.949e+04\n",
      "Date:                Sun, 15 Mar 2020   Prob (F-statistic):               0.00\n",
      "Time:                        23:15:42   Log-Likelihood:            -1.7046e+05\n",
      "No. Observations:               96453   AIC:                         3.409e+05\n",
      "Df Residuals:                   96450   BIC:                         3.409e+05\n",
      "Df Model:                           2                                         \n",
      "Covariance Type:            nonrobust                                         \n",
      "==============================================================================\n",
      "                 coef    std err          t      P>|t|      [0.025      0.975]\n",
      "------------------------------------------------------------------------------\n",
      "const          2.4381      0.021    115.948      0.000       2.397       2.479\n",
      "humidity      -3.0292      0.024   -126.479      0.000      -3.076      -2.982\n",
      "windspeed     -0.1193      0.001   -176.164      0.000      -0.121      -0.118\n",
      "==============================================================================\n",
      "Omnibus:                     3935.747   Durbin-Watson:                   0.267\n",
      "Prob(Omnibus):                  0.000   Jarque-Bera (JB):             4613.311\n",
      "Skew:                          -0.478   Prob(JB):                         0.00\n",
      "Kurtosis:                       3.484   Cond. No.                         88.1\n",
      "==============================================================================\n",
      "\n",
      "Warnings:\n",
      "[1] Standard Errors assume that the covariance matrix of the errors is correctly specified.\n"
     ]
    }
   ],
   "source": [
    "weather['target'] = weather.apparenttemperature - weather.temperature\n",
    "\n",
    "y = weather['target']\n",
    "\n",
    "X = weather[['humidity', 'windspeed']]\n",
    "\n",
    "X = sm.add_constant(X)\n",
    "\n",
    "results = sm.OLS(y, X).fit()\n",
    "\n",
    "print(results.summary())"
   ]
  },
  {
   "cell_type": "markdown",
   "metadata": {},
   "source": [
    "estimated coefficients are statistically significant\n",
    "\n",
    "1 point increase in humidity relates to a -3 decrease in target\n",
    "\n",
    "1 point increase in windspeed releates to a -.12 decrease in target"
   ]
  },
  {
   "cell_type": "code",
   "execution_count": 20,
   "metadata": {
    "scrolled": false
   },
   "outputs": [
    {
     "name": "stdout",
     "output_type": "stream",
     "text": [
      "                            OLS Regression Results                            \n",
      "==============================================================================\n",
      "Dep. Variable:                 target   R-squared:                       0.341\n",
      "Model:                            OLS   Adj. R-squared:                  0.341\n",
      "Method:                 Least Squares   F-statistic:                 1.666e+04\n",
      "Date:                Sun, 15 Mar 2020   Prob (F-statistic):               0.00\n",
      "Time:                        23:20:06   Log-Likelihood:            -1.6669e+05\n",
      "No. Observations:               96453   AIC:                         3.334e+05\n",
      "Df Residuals:                   96449   BIC:                         3.334e+05\n",
      "Df Model:                           3                                         \n",
      "Covariance Type:            nonrobust                                         \n",
      "==============================================================================\n",
      "                 coef    std err          t      P>|t|      [0.025      0.975]\n",
      "------------------------------------------------------------------------------\n",
      "const          0.0839      0.033      2.511      0.012       0.018       0.149\n",
      "humidity       0.1775      0.043      4.133      0.000       0.093       0.262\n",
      "windspeed      0.0905      0.002     36.797      0.000       0.086       0.095\n",
      "hum_wind      -0.2971      0.003    -88.470      0.000      -0.304      -0.291\n",
      "==============================================================================\n",
      "Omnibus:                     4849.937   Durbin-Watson:                   0.265\n",
      "Prob(Omnibus):                  0.000   Jarque-Bera (JB):             9295.404\n",
      "Skew:                          -0.378   Prob(JB):                         0.00\n",
      "Kurtosis:                       4.320   Cond. No.                         193.\n",
      "==============================================================================\n",
      "\n",
      "Warnings:\n",
      "[1] Standard Errors assume that the covariance matrix of the errors is correctly specified.\n"
     ]
    }
   ],
   "source": [
    "weather['hum_wind'] = weather['humidity'] * weather['windspeed']\n",
    "\n",
    "y = weather['target']\n",
    "\n",
    "X = weather[['humidity', 'windspeed', 'hum_wind']]\n",
    "\n",
    "X = sm.add_constant(X)\n",
    "\n",
    "results = sm.OLS(y, X).fit()\n",
    "\n",
    "print(results.summary())"
   ]
  },
  {
   "cell_type": "markdown",
   "metadata": {},
   "source": [
    "features are still statistically significant and coefficients have changed\n",
    "\n",
    "1 point increase in humidity is .1775 increase in target\n",
    "1 poitn increase in windspeed is .09 increase in target\n",
    "1 point increase in hum_wind is -0.3 decrease in target\n"
   ]
  },
  {
   "cell_type": "markdown",
   "metadata": {},
   "source": [
    "###  3. House prices model\n",
    "\n",
    "* Load the **houseprices** data from Thinkful's database.\n",
    "* Run your house prices model again and interpret the results. Which features are statistically significant, and which are not?\n",
    "* Now, exclude the insignificant features from your model. Did anything change?\n",
    "* Interpret the statistically significant coefficients by quantifying their relations with the house prices. Which features have a more prominent effect on house prices?\n",
    "* Do the results sound reasonable to you? If not, try to explain the potential reasons."
   ]
  },
  {
   "cell_type": "code",
   "execution_count": 5,
   "metadata": {},
   "outputs": [],
   "source": [
    "postgres_user = 'dsbc_student'\n",
    "postgres_pw = '7*.8G9QH21'\n",
    "postgres_host = '142.93.121.174'\n",
    "postgres_port = '5432'\n",
    "postgres_db = 'houseprices'\n",
    "\n",
    "engine = create_engine('postgresql://{}:{}@{}:{}/{}'.format(\n",
    "    postgres_user, postgres_pw, postgres_host, postgres_port, postgres_db))\n",
    "hp_df = pd.read_sql_query('select * from houseprices',con=engine, index_col='id')\n",
    "\n",
    "# no need for an open connection, as we're only doing a single query\n",
    "engine.dispose()"
   ]
  },
  {
   "cell_type": "code",
   "execution_count": 6,
   "metadata": {},
   "outputs": [],
   "source": [
    "#exterqual and mszoning seem to have quite a bit of variance. let's use one-hot encoding for these two\n",
    "df = pd.concat([df, pd.get_dummies(df['mszoning'], prefix='mszoning', drop_first=True)], axis=1)\n",
    "df = pd.concat([df, pd.get_dummies(df['exterqual'], prefix='exterqual', drop_first=True)], axis=1)\n",
    "\n",
    "dummy_col_names = list(pd.get_dummies(df['mszoning'], prefix='mszoning', drop_first=True).columns)\n",
    "dummy_col_names = dummy_col_names + list(pd.get_dummies(df['exterqual'], prefix='exterqual', drop_first=True).columns)"
   ]
  },
  {
   "cell_type": "code",
   "execution_count": 12,
   "metadata": {},
   "outputs": [
    {
     "data": {
      "text/plain": [
       "Index(['mssubclass', 'mszoning', 'lotfrontage', 'lotarea', 'street', 'alley',\n",
       "       'lotshape', 'landcontour', 'utilities', 'lotconfig', 'landslope',\n",
       "       'neighborhood', 'condition1', 'condition2', 'bldgtype', 'housestyle',\n",
       "       'overallqual', 'overallcond', 'yearbuilt', 'yearremodadd', 'roofstyle',\n",
       "       'roofmatl', 'exterior1st', 'exterior2nd', 'masvnrtype', 'masvnrarea',\n",
       "       'exterqual', 'extercond', 'foundation', 'bsmtqual', 'bsmtcond',\n",
       "       'bsmtexposure', 'bsmtfintype1', 'bsmtfinsf1', 'bsmtfintype2',\n",
       "       'bsmtfinsf2', 'bsmtunfsf', 'totalbsmtsf', 'heating', 'heatingqc',\n",
       "       'centralair', 'electrical', 'firstflrsf', 'secondflrsf', 'lowqualfinsf',\n",
       "       'grlivarea', 'bsmtfullbath', 'bsmthalfbath', 'fullbath', 'halfbath',\n",
       "       'bedroomabvgr', 'kitchenabvgr', 'kitchenqual', 'totrmsabvgrd',\n",
       "       'functional', 'fireplaces', 'fireplacequ', 'garagetype', 'garageyrblt',\n",
       "       'garagefinish', 'garagecars', 'garagearea', 'garagequal', 'garagecond',\n",
       "       'paveddrive', 'wooddecksf', 'openporchsf', 'enclosedporch',\n",
       "       'threessnporch', 'screenporch', 'poolarea', 'poolqc', 'fence',\n",
       "       'miscfeature', 'miscval', 'mosold', 'yrsold', 'saletype',\n",
       "       'salecondition', 'saleprice', 'mszoning_FV', 'mszoning_RH',\n",
       "       'mszoning_RL', 'mszoning_RM', 'exterqual_Fa', 'exterqual_Gd',\n",
       "       'exterqual_TA'],\n",
       "      dtype='object')"
      ]
     },
     "execution_count": 12,
     "metadata": {},
     "output_type": "execute_result"
    }
   ],
   "source": [
    "df.columns"
   ]
  },
  {
   "cell_type": "code",
   "execution_count": 8,
   "metadata": {},
   "outputs": [
    {
     "name": "stdout",
     "output_type": "stream",
     "text": [
      "                            OLS Regression Results                            \n",
      "==============================================================================\n",
      "Dep. Variable:              saleprice   R-squared:                       0.789\n",
      "Model:                            OLS   Adj. R-squared:                  0.787\n",
      "Method:                 Least Squares   F-statistic:                     450.4\n",
      "Date:                Sun, 15 Mar 2020   Prob (F-statistic):               0.00\n",
      "Time:                        22:39:29   Log-Likelihood:                -17409.\n",
      "No. Observations:                1460   AIC:                         3.484e+04\n",
      "Df Residuals:                    1447   BIC:                         3.491e+04\n",
      "Df Model:                          12                                         \n",
      "Covariance Type:            nonrobust                                         \n",
      "================================================================================\n",
      "                   coef    std err          t      P>|t|      [0.025      0.975]\n",
      "--------------------------------------------------------------------------------\n",
      "const        -1.744e+04   1.55e+04     -1.129      0.259   -4.78e+04    1.29e+04\n",
      "overallqual   1.791e+04   1205.994     14.850      0.000    1.55e+04    2.03e+04\n",
      "grlivarea       45.5011      2.362     19.268      0.000      40.869      50.133\n",
      "garagecars    1.338e+04   2885.531      4.638      0.000    7721.747     1.9e+04\n",
      "garagearea      11.2556      9.961      1.130      0.259      -8.285      30.796\n",
      "totalbsmtsf     22.8182      2.844      8.023      0.000      17.239      28.397\n",
      "mszoning_FV   2.996e+04   1.31e+04      2.293      0.022    4332.316    5.56e+04\n",
      "mszoning_RH   2.106e+04    1.5e+04      1.407      0.160   -8303.499    5.04e+04\n",
      "mszoning_RL   3.704e+04   1.21e+04      3.051      0.002    1.32e+04    6.09e+04\n",
      "mszoning_RM   1.688e+04   1.23e+04      1.373      0.170   -7227.781     4.1e+04\n",
      "exterqual_Fa -6.577e+04   1.25e+04     -5.244      0.000   -9.04e+04   -4.12e+04\n",
      "exterqual_Gd -5.785e+04   5733.822    -10.090      0.000   -6.91e+04   -4.66e+04\n",
      "exterqual_TA -7.453e+04   6442.884    -11.567      0.000   -8.72e+04   -6.19e+04\n",
      "==============================================================================\n",
      "Omnibus:                      546.237   Durbin-Watson:                   1.986\n",
      "Prob(Omnibus):                  0.000   Jarque-Bera (JB):            66518.346\n",
      "Skew:                          -0.696   Prob(JB):                         0.00\n",
      "Kurtosis:                      36.038   Cond. No.                     5.78e+04\n",
      "==============================================================================\n",
      "\n",
      "Warnings:\n",
      "[1] Standard Errors assume that the covariance matrix of the errors is correctly specified.\n",
      "[2] The condition number is large, 5.78e+04. This might indicate that there are\n",
      "strong multicollinearity or other numerical problems.\n"
     ]
    }
   ],
   "source": [
    "# Linear Regression\n",
    "Y = df['saleprice']\n",
    "# X is the feature set which includes\n",
    "# is_male and is_smoker variables\n",
    "X = df[['overallqual', 'grlivarea', 'garagecars', 'garagearea', 'totalbsmtsf'] + dummy_col_names]\n",
    "\n",
    "X = sm.add_constant(X)\n",
    "\n",
    "results = sm.OLS(Y, X).fit()\n",
    "\n",
    "print(results.summary())"
   ]
  },
  {
   "cell_type": "markdown",
   "metadata": {},
   "source": [
    "It looks as though overallqual, grlivarea, garagecars, totalbsmtsf, mszoning_FV, mszoning_RL,  and all exterquals are significant. The others are not."
   ]
  },
  {
   "cell_type": "code",
   "execution_count": 13,
   "metadata": {},
   "outputs": [
    {
     "name": "stdout",
     "output_type": "stream",
     "text": [
      "                            OLS Regression Results                            \n",
      "==============================================================================\n",
      "Dep. Variable:              saleprice   R-squared:                       0.788\n",
      "Model:                            OLS   Adj. R-squared:                  0.787\n",
      "Method:                 Least Squares   F-statistic:                     600.0\n",
      "Date:                Sun, 15 Mar 2020   Prob (F-statistic):               0.00\n",
      "Time:                        22:52:16   Log-Likelihood:                -17411.\n",
      "No. Observations:                1460   AIC:                         3.484e+04\n",
      "Df Residuals:                    1450   BIC:                         3.489e+04\n",
      "Df Model:                           9                                         \n",
      "Covariance Type:            nonrobust                                         \n",
      "================================================================================\n",
      "                   coef    std err          t      P>|t|      [0.025      0.975]\n",
      "--------------------------------------------------------------------------------\n",
      "const        -1517.0669   1.06e+04     -0.144      0.886   -2.22e+04    1.92e+04\n",
      "overallqual   1.802e+04   1199.510     15.019      0.000    1.57e+04    2.04e+04\n",
      "grlivarea       45.7117      2.352     19.439      0.000      41.099      50.324\n",
      "garagecars    1.589e+04   1679.039      9.465      0.000    1.26e+04    1.92e+04\n",
      "totalbsmtsf     23.3793      2.783      8.401      0.000      17.920      28.838\n",
      "mszoning_FV   1.389e+04   5424.740      2.561      0.011    3249.344    2.45e+04\n",
      "mszoning_RL   2.057e+04   2735.618      7.520      0.000    1.52e+04    2.59e+04\n",
      "exterqual_Fa  -6.81e+04   1.23e+04     -5.526      0.000   -9.23e+04   -4.39e+04\n",
      "exterqual_Gd -5.812e+04   5720.665    -10.160      0.000   -6.93e+04   -4.69e+04\n",
      "exterqual_TA -7.458e+04   6433.720    -11.593      0.000   -8.72e+04    -6.2e+04\n",
      "==============================================================================\n",
      "Omnibus:                      529.897   Durbin-Watson:                   1.987\n",
      "Prob(Omnibus):                  0.000   Jarque-Bera (JB):            62069.389\n",
      "Skew:                          -0.647   Prob(JB):                         0.00\n",
      "Kurtosis:                      34.916   Cond. No.                     3.23e+04\n",
      "==============================================================================\n",
      "\n",
      "Warnings:\n",
      "[1] Standard Errors assume that the covariance matrix of the errors is correctly specified.\n",
      "[2] The condition number is large, 3.23e+04. This might indicate that there are\n",
      "strong multicollinearity or other numerical problems.\n"
     ]
    }
   ],
   "source": [
    "X = df[['overallqual', 'grlivarea', 'garagecars', 'totalbsmtsf', 'mszoning_FV', 'mszoning_RL',\n",
    "       'exterqual_Fa', 'exterqual_Gd','exterqual_TA']]\n",
    "\n",
    "X = sm.add_constant(X)\n",
    "\n",
    "results = sm.OLS(Y, X).fit()\n",
    "\n",
    "print(results.summary())"
   ]
  },
  {
   "cell_type": "markdown",
   "metadata": {},
   "source": [
    "p-values and constants changed\n",
    "- overallqual has a $18020 increase by category\n",
    "- grlivarea has a $45 increase by sqft increase\n",
    "- garagecars has a $15890 increase by car\n",
    "- total bsmtsf has a $23 increase by sqft increase\n",
    "- mszoning categories seem to have a positive increase in price depending on the category. mszoning_RL with a mean of $20570\n",
    "- and exterquals have a negative impact to price"
   ]
  },
  {
   "cell_type": "code",
   "execution_count": null,
   "metadata": {},
   "outputs": [],
   "source": []
  }
 ],
 "metadata": {
  "kernelspec": {
   "display_name": "pythonenv",
   "language": "python",
   "name": "pythonenv"
  },
  "language_info": {
   "codemirror_mode": {
    "name": "ipython",
    "version": 3
   },
   "file_extension": ".py",
   "mimetype": "text/x-python",
   "name": "python",
   "nbconvert_exporter": "python",
   "pygments_lexer": "ipython3",
   "version": "3.8.2"
  }
 },
 "nbformat": 4,
 "nbformat_minor": 4
}
