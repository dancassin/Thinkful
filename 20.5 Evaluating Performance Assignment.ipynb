{
 "cells": [
  {
   "cell_type": "markdown",
   "metadata": {},
   "source": [
    "## Assignments\n",
    "\n",
    "As in previous checkpoints, please submit links to two Juypyter notebooks (one for each assignment below).\n",
    "\n",
    "Please submit links to all your work below. This is not a graded checkpoint, but you should discuss your solutions with your mentor. Also, when you're done, compare your work to [these example solutions](https://github.com/Thinkful-Ed/machine-learning-regression-problems/blob/master/notebooks/5.solution_evaluating_goodness_of_fit.ipynb).\n",
    "\n",
    "\n",
    "\n",
    "### 1. Weather model\n",
    "\n",
    "For this assignment, you'll revisit the historical temperature dataset. To complete this assignment, submit a link a Jupyter notebook containing your solutions to the following tasks:\n",
    "\n",
    "* First, load the dataset from the **weatherinszeged** table from Thinkful's database.\n",
    "* Like in the previous checkpoint, build a linear regression model where your target variable is the difference between the *apparenttemperature* and the *temperature*. As explanatory variables, use *humidity* and *windspeed*. Now, estimate your model using OLS. What are the R-squared and adjusted R-squared values? Do you think they are satisfactory? Why? \n",
    "* Next, include the interaction of *humidity* and *windspeed* to the model above and estimate the model using OLS. Now, what is the R-squared of this model? Does this model improve upon the previous one? \n",
    "* Add *visibility* as an additional explanatory variable to the first model and estimate it. Did R-squared increase? What about adjusted R-squared? Compare the differences put on the table by the interaction term and the *visibility* in terms of the improvement in the adjusted R-squared. Which one is more useful?\n",
    "* Choose the best one from the three models above with respect to their AIC and BIC scores. Validate your choice by discussing your justification with your mentor."
   ]
  },
  {
   "cell_type": "code",
   "execution_count": 1,
   "metadata": {},
   "outputs": [],
   "source": [
    "import numpy as np\n",
    "import pandas as pd\n",
    "import matplotlib.pyplot as plt\n",
    "from sqlalchemy import create_engine\n",
    "import seaborn as sns\n",
    "import statsmodels.api as sm\n",
    "\n",
    "sns.set_style('dark')\n",
    "\n",
    "import warnings\n",
    "warnings.filterwarnings('ignore')"
   ]
  },
  {
   "cell_type": "code",
   "execution_count": 2,
   "metadata": {},
   "outputs": [],
   "source": [
    "postgres_user = 'dsbc_student'\n",
    "postgres_pw = '7*.8G9QH21'\n",
    "postgres_host = '142.93.121.174'\n",
    "postgres_port = '5432'\n",
    "postgres_db = 'weatherinszeged'\n",
    "\n",
    "engine = create_engine('postgresql://{}:{}@{}:{}/{}'.format(\n",
    "    postgres_user, postgres_pw, postgres_host, postgres_port, postgres_db))\n",
    "weather = pd.read_sql_query('select * from weatherinszeged',con=engine)\n",
    "\n",
    "# no need for an open connection, as we're only doing a single query\n",
    "engine.dispose()"
   ]
  },
  {
   "cell_type": "code",
   "execution_count": 3,
   "metadata": {
    "scrolled": true
   },
   "outputs": [
    {
     "name": "stdout",
     "output_type": "stream",
     "text": [
      "                            OLS Regression Results                            \n",
      "==============================================================================\n",
      "Dep. Variable:                 target   R-squared:                       0.288\n",
      "Model:                            OLS   Adj. R-squared:                  0.288\n",
      "Method:                 Least Squares   F-statistic:                 1.949e+04\n",
      "Date:                Mon, 16 Mar 2020   Prob (F-statistic):               0.00\n",
      "Time:                        23:01:54   Log-Likelihood:            -1.7046e+05\n",
      "No. Observations:               96453   AIC:                         3.409e+05\n",
      "Df Residuals:                   96450   BIC:                         3.409e+05\n",
      "Df Model:                           2                                         \n",
      "Covariance Type:            nonrobust                                         \n",
      "==============================================================================\n",
      "                 coef    std err          t      P>|t|      [0.025      0.975]\n",
      "------------------------------------------------------------------------------\n",
      "const          2.4381      0.021    115.948      0.000       2.397       2.479\n",
      "humidity      -3.0292      0.024   -126.479      0.000      -3.076      -2.982\n",
      "windspeed     -0.1193      0.001   -176.164      0.000      -0.121      -0.118\n",
      "==============================================================================\n",
      "Omnibus:                     3935.747   Durbin-Watson:                   0.267\n",
      "Prob(Omnibus):                  0.000   Jarque-Bera (JB):             4613.311\n",
      "Skew:                          -0.478   Prob(JB):                         0.00\n",
      "Kurtosis:                       3.484   Cond. No.                         88.1\n",
      "==============================================================================\n",
      "\n",
      "Warnings:\n",
      "[1] Standard Errors assume that the covariance matrix of the errors is correctly specified.\n"
     ]
    }
   ],
   "source": [
    "weather['target'] = weather.apparenttemperature - weather.temperature\n",
    "\n",
    "y = weather['target']\n",
    "\n",
    "X = weather[['humidity', 'windspeed']]\n",
    "\n",
    "X = sm.add_constant(X)\n",
    "\n",
    "results = sm.OLS(y, X).fit()\n",
    "\n",
    "print(results.summary())"
   ]
  },
  {
   "cell_type": "markdown",
   "metadata": {},
   "source": [
    "R-squared and Adj. R-squared are very low. AIC and BIC are both very high. These stats are not good."
   ]
  },
  {
   "cell_type": "code",
   "execution_count": 4,
   "metadata": {},
   "outputs": [
    {
     "name": "stdout",
     "output_type": "stream",
     "text": [
      "                            OLS Regression Results                            \n",
      "==============================================================================\n",
      "Dep. Variable:                 target   R-squared:                       0.341\n",
      "Model:                            OLS   Adj. R-squared:                  0.341\n",
      "Method:                 Least Squares   F-statistic:                 1.666e+04\n",
      "Date:                Mon, 16 Mar 2020   Prob (F-statistic):               0.00\n",
      "Time:                        23:07:47   Log-Likelihood:            -1.6669e+05\n",
      "No. Observations:               96453   AIC:                         3.334e+05\n",
      "Df Residuals:                   96449   BIC:                         3.334e+05\n",
      "Df Model:                           3                                         \n",
      "Covariance Type:            nonrobust                                         \n",
      "==============================================================================\n",
      "                 coef    std err          t      P>|t|      [0.025      0.975]\n",
      "------------------------------------------------------------------------------\n",
      "const          0.0839      0.033      2.511      0.012       0.018       0.149\n",
      "humidity       0.1775      0.043      4.133      0.000       0.093       0.262\n",
      "windspeed      0.0905      0.002     36.797      0.000       0.086       0.095\n",
      "hum_wind      -0.2971      0.003    -88.470      0.000      -0.304      -0.291\n",
      "==============================================================================\n",
      "Omnibus:                     4849.937   Durbin-Watson:                   0.265\n",
      "Prob(Omnibus):                  0.000   Jarque-Bera (JB):             9295.404\n",
      "Skew:                          -0.378   Prob(JB):                         0.00\n",
      "Kurtosis:                       4.320   Cond. No.                         193.\n",
      "==============================================================================\n",
      "\n",
      "Warnings:\n",
      "[1] Standard Errors assume that the covariance matrix of the errors is correctly specified.\n"
     ]
    }
   ],
   "source": [
    "weather['hum_wind'] = weather['humidity'] * weather['windspeed']\n",
    "\n",
    "y = weather['target']\n",
    "\n",
    "X = weather[['humidity', 'windspeed', 'hum_wind']]\n",
    "\n",
    "X = sm.add_constant(X)\n",
    "\n",
    "results = sm.OLS(y, X).fit()\n",
    "\n",
    "print(results.summary())"
   ]
  },
  {
   "cell_type": "markdown",
   "metadata": {},
   "source": [
    "R-squared and Adj. R-squared and still low, but better than the first. AIC and BIC are still very high."
   ]
  },
  {
   "cell_type": "code",
   "execution_count": 5,
   "metadata": {},
   "outputs": [
    {
     "name": "stdout",
     "output_type": "stream",
     "text": [
      "                            OLS Regression Results                            \n",
      "==============================================================================\n",
      "Dep. Variable:                 target   R-squared:                       0.364\n",
      "Model:                            OLS   Adj. R-squared:                  0.363\n",
      "Method:                 Least Squares   F-statistic:                 1.377e+04\n",
      "Date:                Mon, 16 Mar 2020   Prob (F-statistic):               0.00\n",
      "Time:                        23:10:35   Log-Likelihood:            -1.6504e+05\n",
      "No. Observations:               96453   AIC:                         3.301e+05\n",
      "Df Residuals:                   96448   BIC:                         3.301e+05\n",
      "Df Model:                           4                                         \n",
      "Covariance Type:            nonrobust                                         \n",
      "==============================================================================\n",
      "                 coef    std err          t      P>|t|      [0.025      0.975]\n",
      "------------------------------------------------------------------------------\n",
      "const         -1.1006      0.039    -28.459      0.000      -1.176      -1.025\n",
      "humidity       0.8909      0.044     20.263      0.000       0.805       0.977\n",
      "windspeed      0.1033      0.002     42.579      0.000       0.099       0.108\n",
      "hum_wind      -0.3164      0.003    -95.355      0.000      -0.323      -0.310\n",
      "visibility     0.0646      0.001     58.051      0.000       0.062       0.067\n",
      "==============================================================================\n",
      "Omnibus:                     5328.364   Durbin-Watson:                   0.288\n",
      "Prob(Omnibus):                  0.000   Jarque-Bera (JB):            11525.074\n",
      "Skew:                          -0.373   Prob(JB):                         0.00\n",
      "Kurtosis:                       4.520   Cond. No.                         246.\n",
      "==============================================================================\n",
      "\n",
      "Warnings:\n",
      "[1] Standard Errors assume that the covariance matrix of the errors is correctly specified.\n"
     ]
    }
   ],
   "source": [
    "weather['hum_wind'] = weather['humidity'] * weather['windspeed']\n",
    "\n",
    "y = weather['target']\n",
    "\n",
    "X = weather[['humidity', 'windspeed', 'hum_wind', 'visibility']]\n",
    "\n",
    "X = sm.add_constant(X)\n",
    "\n",
    "results = sm.OLS(y, X).fit()\n",
    "\n",
    "print(results.summary())"
   ]
  },
  {
   "cell_type": "markdown",
   "metadata": {},
   "source": [
    "This model is still not great, but it is the best of the three."
   ]
  },
  {
   "cell_type": "markdown",
   "metadata": {},
   "source": [
    "###  2. House prices model\n",
    "\n",
    "In this exercise, you'll work on your house prices model. To complete this assignment, submit a link to a Jupyter notebook containing your solutions to the following tasks:\n",
    "\n",
    "* Load the **houseprices** data from Thinkful's database.\n",
    "* Run your house prices model again and assess the goodness of fit of your model using F-test, R-squared, adjusted R-squared, AIC and BIC.\n",
    "* Do you think your model is satisfactory? If so, why?\n",
    "* In order to improve the goodness of fit of your model, try different model specifications by adding or removing some variables. \n",
    "* For each model you try, get the goodness of fit metrics and compare your models with each other. Which model is the best and why?"
   ]
  },
  {
   "cell_type": "code",
   "execution_count": 6,
   "metadata": {},
   "outputs": [],
   "source": [
    "postgres_user = 'dsbc_student'\n",
    "postgres_pw = '7*.8G9QH21'\n",
    "postgres_host = '142.93.121.174'\n",
    "postgres_port = '5432'\n",
    "postgres_db = 'houseprices'\n",
    "\n",
    "engine = create_engine('postgresql://{}:{}@{}:{}/{}'.format(\n",
    "    postgres_user, postgres_pw, postgres_host, postgres_port, postgres_db))\n",
    "hp_df = pd.read_sql_query('select * from houseprices',con=engine, index_col='id')\n",
    "\n",
    "# no need for an open connection, as we're only doing a single query\n",
    "engine.dispose()"
   ]
  },
  {
   "cell_type": "code",
   "execution_count": 8,
   "metadata": {},
   "outputs": [],
   "source": [
    "#exterqual and mszoning seem to have quite a bit of variance. let's use one-hot encoding for these two\n",
    "hp_df = pd.concat([hp_df, pd.get_dummies(hp_df['mszoning'], prefix='mszoning', drop_first=True)], axis=1)\n",
    "hp_df = pd.concat([hp_df, pd.get_dummies(hp_df['exterqual'], prefix='exterqual', drop_first=True)], axis=1)\n",
    "\n",
    "dummy_col_names = list(pd.get_dummies(hp_df['mszoning'], prefix='mszoning', drop_first=True).columns)\n",
    "dummy_col_names = dummy_col_names + list(pd.get_dummies(hp_df['exterqual'], prefix='exterqual', drop_first=True).columns)"
   ]
  },
  {
   "cell_type": "code",
   "execution_count": 10,
   "metadata": {},
   "outputs": [
    {
     "name": "stdout",
     "output_type": "stream",
     "text": [
      "                            OLS Regression Results                            \n",
      "==============================================================================\n",
      "Dep. Variable:              saleprice   R-squared:                       0.789\n",
      "Model:                            OLS   Adj. R-squared:                  0.787\n",
      "Method:                 Least Squares   F-statistic:                     450.4\n",
      "Date:                Mon, 16 Mar 2020   Prob (F-statistic):               0.00\n",
      "Time:                        23:16:41   Log-Likelihood:                -17409.\n",
      "No. Observations:                1460   AIC:                         3.484e+04\n",
      "Df Residuals:                    1447   BIC:                         3.491e+04\n",
      "Df Model:                          12                                         \n",
      "Covariance Type:            nonrobust                                         \n",
      "================================================================================\n",
      "                   coef    std err          t      P>|t|      [0.025      0.975]\n",
      "--------------------------------------------------------------------------------\n",
      "const        -1.744e+04   1.55e+04     -1.129      0.259   -4.78e+04    1.29e+04\n",
      "overallqual   1.791e+04   1205.994     14.850      0.000    1.55e+04    2.03e+04\n",
      "grlivarea       45.5011      2.362     19.268      0.000      40.869      50.133\n",
      "garagecars    1.338e+04   2885.531      4.638      0.000    7721.747     1.9e+04\n",
      "garagearea      11.2556      9.961      1.130      0.259      -8.285      30.796\n",
      "totalbsmtsf     22.8182      2.844      8.023      0.000      17.239      28.397\n",
      "mszoning_FV   2.996e+04   1.31e+04      2.293      0.022    4332.316    5.56e+04\n",
      "mszoning_RH   2.106e+04    1.5e+04      1.407      0.160   -8303.499    5.04e+04\n",
      "mszoning_RL   3.704e+04   1.21e+04      3.051      0.002    1.32e+04    6.09e+04\n",
      "mszoning_RM   1.688e+04   1.23e+04      1.373      0.170   -7227.781     4.1e+04\n",
      "exterqual_Fa -6.577e+04   1.25e+04     -5.244      0.000   -9.04e+04   -4.12e+04\n",
      "exterqual_Gd -5.785e+04   5733.822    -10.090      0.000   -6.91e+04   -4.66e+04\n",
      "exterqual_TA -7.453e+04   6442.884    -11.567      0.000   -8.72e+04   -6.19e+04\n",
      "==============================================================================\n",
      "Omnibus:                      546.237   Durbin-Watson:                   1.986\n",
      "Prob(Omnibus):                  0.000   Jarque-Bera (JB):            66518.346\n",
      "Skew:                          -0.696   Prob(JB):                         0.00\n",
      "Kurtosis:                      36.038   Cond. No.                     5.78e+04\n",
      "==============================================================================\n",
      "\n",
      "Warnings:\n",
      "[1] Standard Errors assume that the covariance matrix of the errors is correctly specified.\n",
      "[2] The condition number is large, 5.78e+04. This might indicate that there are\n",
      "strong multicollinearity or other numerical problems.\n"
     ]
    }
   ],
   "source": [
    "# Linear Regression\n",
    "Y = hp_df['saleprice']\n",
    "# X is the feature set which includes\n",
    "# is_male and is_smoker variables\n",
    "X = hp_df[['overallqual', 'grlivarea', 'garagecars', 'garagearea', 'totalbsmtsf'] + dummy_col_names]\n",
    "\n",
    "X = sm.add_constant(X)\n",
    "\n",
    "results = sm.OLS(Y, X).fit()\n",
    "\n",
    "print(results.summary())"
   ]
  },
  {
   "cell_type": "markdown",
   "metadata": {},
   "source": [
    "R-squared and Adj. R-squared are high, but they're not so high that they're approaching 1. The p-value of the F statistic says that our features are contributing to the model. Might be a satisfactory model, but we could probably also push a bit higher on the R-squared values."
   ]
  },
  {
   "cell_type": "code",
   "execution_count": 11,
   "metadata": {},
   "outputs": [],
   "source": [
    "# optimizing the model:\n",
    "\n",
    "# adding bsmtqual\n",
    "hp_df = pd.concat([hp_df, pd.get_dummies(hp_df['bsmtqual'], prefix='bsmtqual', drop_first=True)], axis=1)\n",
    "dummy_col_names = dummy_col_names + list(pd.get_dummies(hp_df['bsmtqual'], prefix='bsmtqual', drop_first=True).columns)"
   ]
  },
  {
   "cell_type": "code",
   "execution_count": 13,
   "metadata": {},
   "outputs": [
    {
     "name": "stdout",
     "output_type": "stream",
     "text": [
      "                            OLS Regression Results                            \n",
      "==============================================================================\n",
      "Dep. Variable:              saleprice   R-squared:                       0.799\n",
      "Model:                            OLS   Adj. R-squared:                  0.797\n",
      "Method:                 Least Squares   F-statistic:                     478.4\n",
      "Date:                Tue, 17 Mar 2020   Prob (F-statistic):               0.00\n",
      "Time:                        08:38:36   Log-Likelihood:                -17374.\n",
      "No. Observations:                1460   AIC:                         3.477e+04\n",
      "Df Residuals:                    1447   BIC:                         3.484e+04\n",
      "Df Model:                          12                                         \n",
      "Covariance Type:            nonrobust                                         \n",
      "================================================================================\n",
      "                   coef    std err          t      P>|t|      [0.025      0.975]\n",
      "--------------------------------------------------------------------------------\n",
      "const         1.389e+04   1.07e+04      1.301      0.194   -7060.179    3.48e+04\n",
      "overallqual    1.71e+04   1194.026     14.321      0.000    1.48e+04    1.94e+04\n",
      "grlivarea       44.9662      2.302     19.537      0.000      40.451      49.481\n",
      "garagecars    1.389e+04   1674.036      8.300      0.000    1.06e+04    1.72e+04\n",
      "totalbsmtsf     26.5862      2.756      9.648      0.000      21.181      31.992\n",
      "mszoning_FV   1.386e+04   5343.856      2.593      0.010    3376.743    2.43e+04\n",
      "mszoning_RL   1.897e+04   2705.239      7.014      0.000    1.37e+04    2.43e+04\n",
      "exterqual_Fa -5.136e+04   1.22e+04     -4.211      0.000   -7.53e+04   -2.74e+04\n",
      "exterqual_Gd -3.905e+04   6134.730     -6.366      0.000   -5.11e+04    -2.7e+04\n",
      "exterqual_TA -5.309e+04   6776.845     -7.834      0.000   -6.64e+04   -3.98e+04\n",
      "bsmtqual_Fa  -3.612e+04   7143.926     -5.056      0.000   -5.01e+04   -2.21e+04\n",
      "bsmtqual_Gd  -2.846e+04   3589.006     -7.929      0.000   -3.55e+04   -2.14e+04\n",
      "bsmtqual_TA  -3.205e+04   3923.995     -8.168      0.000   -3.98e+04   -2.44e+04\n",
      "==============================================================================\n",
      "Omnibus:                      685.448   Durbin-Watson:                   2.006\n",
      "Prob(Omnibus):                  0.000   Jarque-Bera (JB):            84167.229\n",
      "Skew:                          -1.170   Prob(JB):                         0.00\n",
      "Kurtosis:                      40.123   Cond. No.                     3.29e+04\n",
      "==============================================================================\n",
      "\n",
      "Warnings:\n",
      "[1] Standard Errors assume that the covariance matrix of the errors is correctly specified.\n",
      "[2] The condition number is large, 3.29e+04. This might indicate that there are\n",
      "strong multicollinearity or other numerical problems.\n"
     ]
    }
   ],
   "source": [
    "# Re-running Linear Regression\n",
    "Y = hp_df['saleprice']\n",
    "# X is the feature set which includes\n",
    "# is_male and is_smoker variables\n",
    "X = hp_df[['overallqual', 'grlivarea', 'garagecars', 'totalbsmtsf'] + dummy_col_names]\n",
    "# optimizing by dropping features with insiginificant p-values\n",
    "X.drop(['mszoning_RH', 'mszoning_RM'], axis=1, inplace=True)\n",
    "\n",
    "X = sm.add_constant(X)\n",
    "\n",
    "results = sm.OLS(Y, X).fit()\n",
    "\n",
    "print(results.summary())"
   ]
  },
  {
   "cell_type": "markdown",
   "metadata": {},
   "source": [
    "R-squared and Adj R-squared values increased. AIC and BIC are lower than previous model. All features are significant. This model looks to be superior to the previous model."
   ]
  },
  {
   "cell_type": "code",
   "execution_count": null,
   "metadata": {},
   "outputs": [],
   "source": []
  }
 ],
 "metadata": {
  "kernelspec": {
   "display_name": "pythonenv",
   "language": "python",
   "name": "pythonenv"
  },
  "language_info": {
   "codemirror_mode": {
    "name": "ipython",
    "version": 3
   },
   "file_extension": ".py",
   "mimetype": "text/x-python",
   "name": "python",
   "nbconvert_exporter": "python",
   "pygments_lexer": "ipython3",
   "version": "3.8.2"
  }
 },
 "nbformat": 4,
 "nbformat_minor": 4
}
