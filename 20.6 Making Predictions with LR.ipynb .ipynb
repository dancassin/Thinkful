{
 "cells": [
  {
   "cell_type": "markdown",
   "metadata": {},
   "source": [
    "## Assignment\n",
    "\n",
    "In this exercise, you'll predict house prices using your model. To complete this assignment, submit a link to a Jupyter notebook containing your solutions to the following tasks:\n",
    "\n",
    "* Load the **housing prices** data from Thinkful's database.\n",
    "* Split your data into train and test sets.\n",
    "* Estimate your model from the previous checkpoint in the train set. Assess the goodness of fit of your model.\n",
    "* Predict the house prices in the test set, and evaluate the performance of your model using the metrics we mentioned in this checkpoint.\n",
    "* Is the performance of your model satisfactory? Why?\n",
    "* Try to improve your model in terms of predictive performance by adding or removing some variables."
   ]
  },
  {
   "cell_type": "code",
   "execution_count": 1,
   "metadata": {},
   "outputs": [],
   "source": [
    "import numpy as np\n",
    "import pandas as pd\n",
    "import matplotlib.pyplot as plt\n",
    "from sqlalchemy import create_engine\n",
    "import seaborn as sns\n",
    "import statsmodels.api as sm\n",
    "from statsmodels.tools.eval_measures import mse, rmse\n",
    "from sklearn.linear_model import LinearRegression\n",
    "from sklearn.model_selection import train_test_split\n",
    "from sklearn.metrics import mean_absolute_error\n",
    "import warnings\n",
    "\n",
    "sns.set_style('dark')\n",
    "\n",
    "warnings.filterwarnings('ignore')"
   ]
  },
  {
   "cell_type": "code",
   "execution_count": 2,
   "metadata": {},
   "outputs": [],
   "source": [
    "postgres_user = 'dsbc_student'\n",
    "postgres_pw = '7*.8G9QH21'\n",
    "postgres_host = '142.93.121.174'\n",
    "postgres_port = '5432'\n",
    "postgres_db = 'houseprices'\n",
    "\n",
    "engine = create_engine('postgresql://{}:{}@{}:{}/{}'.format(\n",
    "    postgres_user, postgres_pw, postgres_host, postgres_port, postgres_db))\n",
    "hp_df = pd.read_sql_query('select * from houseprices',con=engine, index_col='id')\n",
    "\n",
    "# no need for an open connection, as we're only doing a single query\n",
    "engine.dispose()"
   ]
  },
  {
   "cell_type": "code",
   "execution_count": 3,
   "metadata": {},
   "outputs": [],
   "source": [
    "#exterqual and mszoning seem to have quite a bit of variance. let's use one-hot encoding for these two\n",
    "hp_df = pd.concat([hp_df, pd.get_dummies(hp_df['mszoning'], prefix='mszoning', drop_first=True)], axis=1)\n",
    "hp_df = pd.concat([hp_df, pd.get_dummies(hp_df['exterqual'], prefix='exterqual', drop_first=True)], axis=1)\n",
    "\n",
    "dummy_col_names = list(pd.get_dummies(hp_df['mszoning'], prefix='mszoning', drop_first=True).columns)\n",
    "dummy_col_names = dummy_col_names + list(pd.get_dummies(hp_df['exterqual'], prefix='exterqual', drop_first=True).columns)"
   ]
  },
  {
   "cell_type": "code",
   "execution_count": 4,
   "metadata": {},
   "outputs": [],
   "source": [
    "# Linear Regression\n",
    "y = hp_df['saleprice']\n",
    "# X is the feature set which includes\n",
    "X = hp_df[['overallqual', 'grlivarea', 'garagecars', 'garagearea', 'totalbsmtsf'] + dummy_col_names]"
   ]
  },
  {
   "cell_type": "code",
   "execution_count": 5,
   "metadata": {},
   "outputs": [],
   "source": [
    "# Splitting up train and test\n",
    "X_train, X_test, y_train, y_test = train_test_split(X, y, test_size = 0.2, random_state = 0)"
   ]
  },
  {
   "cell_type": "code",
   "execution_count": 6,
   "metadata": {},
   "outputs": [
    {
     "name": "stdout",
     "output_type": "stream",
     "text": [
      "                            OLS Regression Results                            \n",
      "==============================================================================\n",
      "Dep. Variable:              saleprice   R-squared:                       0.822\n",
      "Model:                            OLS   Adj. R-squared:                  0.820\n",
      "Method:                 Least Squares   F-statistic:                     443.6\n",
      "Date:                Tue, 17 Mar 2020   Prob (F-statistic):               0.00\n",
      "Time:                        15:56:24   Log-Likelihood:                -13813.\n",
      "No. Observations:                1168   AIC:                         2.765e+04\n",
      "Df Residuals:                    1155   BIC:                         2.772e+04\n",
      "Df Model:                          12                                         \n",
      "Covariance Type:            nonrobust                                         \n",
      "================================================================================\n",
      "                   coef    std err          t      P>|t|      [0.025      0.975]\n",
      "--------------------------------------------------------------------------------\n",
      "const        -2.763e+04   1.52e+04     -1.814      0.070   -5.75e+04    2252.928\n",
      "overallqual   1.636e+04   1237.132     13.225      0.000    1.39e+04    1.88e+04\n",
      "grlivarea       49.9589      2.447     20.416      0.000      45.158      54.760\n",
      "garagecars    6315.0832   2992.862      2.110      0.035     443.029    1.22e+04\n",
      "garagearea      31.1072      9.996      3.112      0.002      11.496      50.719\n",
      "totalbsmtsf     34.7597      3.009     11.551      0.000      28.856      40.664\n",
      "mszoning_FV    3.67e+04   1.29e+04      2.849      0.004    1.14e+04     6.2e+04\n",
      "mszoning_RH   2.121e+04   1.46e+04      1.452      0.147   -7453.378    4.99e+04\n",
      "mszoning_RL    3.98e+04   1.19e+04      3.358      0.001    1.65e+04    6.31e+04\n",
      "mszoning_RM   2.068e+04    1.2e+04      1.725      0.085   -2835.839    4.42e+04\n",
      "exterqual_Fa -7.002e+04   1.33e+04     -5.282      0.000    -9.6e+04    -4.4e+04\n",
      "exterqual_Gd  -5.91e+04   5765.208    -10.251      0.000   -7.04e+04   -4.78e+04\n",
      "exterqual_TA -7.375e+04   6436.298    -11.458      0.000   -8.64e+04   -6.11e+04\n",
      "==============================================================================\n",
      "Omnibus:                      311.902   Durbin-Watson:                   2.025\n",
      "Prob(Omnibus):                  0.000   Jarque-Bera (JB):            22220.446\n",
      "Skew:                          -0.104   Prob(JB):                         0.00\n",
      "Kurtosis:                      24.367   Cond. No.                     5.57e+04\n",
      "==============================================================================\n",
      "\n",
      "Warnings:\n",
      "[1] Standard Errors assume that the covariance matrix of the errors is correctly specified.\n",
      "[2] The condition number is large, 5.57e+04. This might indicate that there are\n",
      "strong multicollinearity or other numerical problems.\n"
     ]
    }
   ],
   "source": [
    "# Adding constant\n",
    "X_train = sm.add_constant(X_train)\n",
    "\n",
    "results = sm.OLS(y_train, X_train).fit()\n",
    "\n",
    "print(results.summary())"
   ]
  },
  {
   "cell_type": "code",
   "execution_count": 7,
   "metadata": {},
   "outputs": [
    {
     "data": {
      "text/plain": [
       "('Mean absolute error of the prediction is: 26069.74',\n",
       " 'Mean squared error of the prediction is: 2450437531.35',\n",
       " 'Root mean squared error of the prediction is: 49502.0',\n",
       " 'Mean absolute percentage error of the prediction is: 15.19')"
      ]
     },
     "execution_count": 7,
     "metadata": {},
     "output_type": "execute_result"
    },
    {
     "data": {
      "image/png": "[encoded data removed]",
      "text/plain": [
       "<Figure size 432x288 with 1 Axes>"
      ]
     },
     "metadata": {},
     "output_type": "display_data"
    }
   ],
   "source": [
    "# Add constant to test\n",
    "X_test = sm.add_constant(X_test)\n",
    "\n",
    "y_preds = results.predict(X_test)\n",
    "\n",
    "plt.scatter(y_test, y_preds)\n",
    "plt.plot(y_test, y_test)\n",
    "plt.xlabel('True Values')\n",
    "plt.ylabel('Predicted Values')\n",
    "plt.title('Home Prices: True v Predicted')\n",
    "\n",
    "def error_stats(y_test, ypreds):\n",
    "    MAE = f\"Mean absolute error of the prediction is: {round(mean_absolute_error(y_test, y_preds), 2)}\"\n",
    "    MSE = f\"Mean squared error of the prediction is: {round(mse(y_test, y_preds),2)}\"\n",
    "    RMSE = f\"Root mean squared error of the prediction is: {round(rmse(y_test, y_preds))}\"\n",
    "    MAPE = f\"Mean absolute percentage error of the prediction is: {round(np.mean(np.abs((y_test - y_preds) / y_test) * 100),2)}\"\n",
    "    return MAE, MSE, RMSE, MAPE\n",
    "\n",
    "error_stats(y_test, y_preds)"
   ]
  },
  {
   "cell_type": "markdown",
   "metadata": {},
   "source": [
    "Looks like our model does well predicting prices up to \\$250/275K, but is not the best at higher numbers. It is possible the best course of action would be to use a log transformation of the target. MAPE is an okay percentage, but I think we could adjust the features for it to perform better."
   ]
  },
  {
   "cell_type": "code",
   "execution_count": 8,
   "metadata": {},
   "outputs": [],
   "source": [
    "# get total home sq ft\n",
    "hp_df['totalsqft'] = hp_df.totalbsmtsf + hp_df.firstflrsf + hp_df.secondflrsf"
   ]
  },
  {
   "cell_type": "code",
   "execution_count": 9,
   "metadata": {},
   "outputs": [
    {
     "name": "stdout",
     "output_type": "stream",
     "text": [
      "                            OLS Regression Results                            \n",
      "==============================================================================\n",
      "Dep. Variable:              saleprice   R-squared:                       0.816\n",
      "Model:                            OLS   Adj. R-squared:                  0.815\n",
      "Method:                 Least Squares   F-statistic:                     1720.\n",
      "Date:                Tue, 17 Mar 2020   Prob (F-statistic):               0.00\n",
      "Time:                        15:56:25   Log-Likelihood:                 403.28\n",
      "No. Observations:                1168   AIC:                            -798.6\n",
      "Df Residuals:                    1164   BIC:                            -778.3\n",
      "Df Model:                           3                                         \n",
      "Covariance Type:            nonrobust                                         \n",
      "===============================================================================\n",
      "                  coef    std err          t      P>|t|      [0.025      0.975]\n",
      "-------------------------------------------------------------------------------\n",
      "const          10.5421      0.023    454.624      0.000      10.497      10.588\n",
      "garagecars      0.1096      0.009     12.252      0.000       0.092       0.127\n",
      "overallqual     0.1200      0.005     22.301      0.000       0.109       0.131\n",
      "totalsqft       0.0002   9.06e-06     23.874      0.000       0.000       0.000\n",
      "==============================================================================\n",
      "Omnibus:                      499.490   Durbin-Watson:                   1.980\n",
      "Prob(Omnibus):                  0.000   Jarque-Bera (JB):             5046.053\n",
      "Skew:                          -1.696   Prob(JB):                         0.00\n",
      "Kurtosis:                      12.601   Cond. No.                     1.25e+04\n",
      "==============================================================================\n",
      "\n",
      "Warnings:\n",
      "[1] Standard Errors assume that the covariance matrix of the errors is correctly specified.\n",
      "[2] The condition number is large, 1.25e+04. This might indicate that there are\n",
      "strong multicollinearity or other numerical problems.\n"
     ]
    }
   ],
   "source": [
    "# run new model\n",
    "\n",
    "# adjusting target to log(x+1)\n",
    "y = np.log1p(hp_df.saleprice)\n",
    "\n",
    "# choosing categories based on a Random Forest Regression I ran in another notebook\n",
    "X = hp_df[['garagecars', 'overallqual', 'totalsqft']] \n",
    "\n",
    "# Splitting up train and test\n",
    "X_train, X_test, y_train, y_test = train_test_split(X, y, test_size = 0.2, random_state = 0)\n",
    "\n",
    "# adding constant\n",
    "X_train = sm.add_constant(X_train)\n",
    "\n",
    "results = sm.OLS(y_train, X_train).fit()\n",
    "\n",
    "print(results.summary())"
   ]
  },
  {
   "cell_type": "code",
   "execution_count": 10,
   "metadata": {},
   "outputs": [
    {
     "data": {
      "text/plain": [
       "('Mean absolute error of the prediction is: 0.13',\n",
       " 'Mean squared error of the prediction is: 0.05',\n",
       " 'Root mean squared error of the prediction is: 0.0',\n",
       " 'Mean absolute percentage error of the prediction is: 1.12')"
      ]
     },
     "execution_count": 10,
     "metadata": {},
     "output_type": "execute_result"
    },
    {
     "data": {
      "image/png": "[encoded data removed]",
      "text/plain": [
       "<Figure size 432x288 with 1 Axes>"
      ]
     },
     "metadata": {},
     "output_type": "display_data"
    }
   ],
   "source": [
    "# Add constant to X Test too!\n",
    "X_test = sm.add_constant(X_test)\n",
    "\n",
    "y_preds = results.predict(X_test)\n",
    "\n",
    "plt.scatter(y_test, y_preds)\n",
    "plt.plot(y_test, y_test)\n",
    "plt.xlabel('True Values')\n",
    "plt.ylabel('Predicted Values')\n",
    "plt.title('Home Prices: True v Predicted')\n",
    "\n",
    "error_stats(y_test, y_preds)"
   ]
  },
  {
   "cell_type": "markdown",
   "metadata": {},
   "source": [
    "While R-squared and Adj. R-squared is ever so slightly lower, all other statistics are much better. AIC and BIC are much lower and not in scientific notation; all p-values significant; and, I believe most importantly, the MAPE is only 1.12%"
   ]
  }
 ],
 "metadata": {
  "kernelspec": {
   "display_name": "pythonenv",
   "language": "python",
   "name": "pythonenv"
  },
  "language_info": {
   "codemirror_mode": {
    "name": "ipython",
    "version": 3
   },
   "file_extension": ".py",
   "mimetype": "text/x-python",
   "name": "python",
   "nbconvert_exporter": "python",
   "pygments_lexer": "ipython3",
   "version": "3.8.2"
  }
 },
 "nbformat": 4,
 "nbformat_minor": 4
}
