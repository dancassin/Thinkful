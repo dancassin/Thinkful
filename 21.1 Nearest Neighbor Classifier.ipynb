{
 "cells": [
  {
   "cell_type": "markdown",
   "metadata": {},
   "source": [
    "## Challenge: Implement the Nearest Neighbor algorithm \n",
    "\n",
    "The Nearest Neighbor algorithm is extremely simple. So simple, in fact, that you should be able to build it yourself from scratch using the Python you already know. Code a Nearest Neighbors algorithm that works for two dimensional data. You can use either arrays or dataframes to do this. Test it against the SKLearn package on the music dataset from above to ensure that it's correct. The goal here is to confirm your understanding of the model and continue to practice your Python skills. We're just expecting a brute force method here. After doing this, look up \"ball tree\" methods to see a more performant algorithm design."
   ]
  },
  {
   "cell_type": "code",
   "execution_count": 10,
   "metadata": {},
   "outputs": [],
   "source": [
    "import numpy as np\n",
    "import pandas as pd\n",
    "import matplotlib.pyplot as plt\n",
    "import seaborn as sns\n",
    "\n",
    "sns.set_style('dark')"
   ]
  },
  {
   "cell_type": "code",
   "execution_count": 25,
   "metadata": {},
   "outputs": [],
   "source": [
    "athletes = pd.DataFrame()\n",
    "\n",
    "\n",
    "athletes['weight'] = [90, 134, 243, 186, 122, 197, 294, 180, 102, 264, \n",
    "                     205, 110, 307, 110, 397, 153, 190, 100, 210, 403,\n",
    "                     95, 198, 204, 253, 89, 190, 182, 401, 376, 102]\n",
    "athletes['height'] = [48, 70, 68, 72, 50, 59, 69, 48, 47, 70, \n",
    "                     73, 51, 80, 51, 67, 63, 69, 49, 61, 72,\n",
    "                     51, 48, 64, 73, 46, 59, 64, 71, 67, 49]\n",
    "\n",
    "# We know whether the songs in our training data are jazz or not.\n",
    "athletes['jockeys'] = [ 1, 0, 0, 0, 1, 0, 0, 0, 1, 0,\n",
    "                  0, 1, 0, 1, 0, 0, 0, 1, 0, 0,\n",
    "                  1, 0, 0, 0, 1, 0, 0, 0, 0, 1]\n",
    "\n",
    "# Your nearest neighbor algorithm here.\n",
    "X = athletes[['weight', 'height']]\n",
    "Y = athletes[['jockeys']]\n"
   ]
  },
  {
   "cell_type": "code",
   "execution_count": 26,
   "metadata": {},
   "outputs": [
    {
     "data": {
      "image/png": "[encoded data removed]",
      "text/plain": [
       "<Figure size 432x288 with 1 Axes>"
      ]
     },
     "metadata": {},
     "output_type": "display_data"
    }
   ],
   "source": [
    "arg = athletes[['weight', 'height']]\n",
    "\n",
    "sns.scatterplot(x='weight',y='height',data=athletes, hue='jockeys');"
   ]
  },
  {
   "cell_type": "code",
   "execution_count": 21,
   "metadata": {},
   "outputs": [],
   "source": [
    "def nn(X, Y, predict):\n",
    "    x = list(X.iloc[:, 0]) \n",
    "    y = list(X.iloc[:, 1])\n",
    "    Y = Y.values\n",
    "    distances = {}\n",
    "    for i in range(0,Y.shape[0]):\n",
    "        pyth_dist = np.sqrt(((x[i]-predict[0])**2)+((y[i]-predict[1])**2))\n",
    "        distances.update({pyth_dist : int(Y[i])})\n",
    "    return distances[min(distances.keys())]"
   ]
  },
  {
   "cell_type": "code",
   "execution_count": 22,
   "metadata": {},
   "outputs": [
    {
     "data": {
      "text/plain": [
       "0"
      ]
     },
     "execution_count": 22,
     "metadata": {},
     "output_type": "execute_result"
    }
   ],
   "source": [
    "nn(X,Y,(150,50))"
   ]
  },
  {
   "cell_type": "code",
   "execution_count": null,
   "metadata": {},
   "outputs": [],
   "source": []
  }
 ],
 "metadata": {
  "kernelspec": {
   "display_name": "pythonenv",
   "language": "python",
   "name": "pythonenv"
  },
  "language_info": {
   "codemirror_mode": {
    "name": "ipython",
    "version": 3
   },
   "file_extension": ".py",
   "mimetype": "text/x-python",
   "name": "python",
   "nbconvert_exporter": "python",
   "pygments_lexer": "ipython3",
   "version": "3.8.2"
  }
 },
 "nbformat": 4,
 "nbformat_minor": 4
}
