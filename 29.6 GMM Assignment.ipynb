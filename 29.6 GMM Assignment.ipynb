{
 "cells": [
  {
   "cell_type": "markdown",
   "metadata": {},
   "source": [
    "# GMM Assignment"
   ]
  },
  {
   "cell_type": "code",
   "execution_count": 2,
   "metadata": {},
   "outputs": [],
   "source": [
    "# Maths\n",
    "import numpy as np\n",
    "import pandas as pd\n",
    "\n",
    "# Plotting\n",
    "import matplotlib.pyplot as plt\n",
    "from matplotlib.patches import Ellipse\n",
    "\n",
    "# ML\n",
    "from sklearn.preprocessing import StandardScaler\n",
    "from sklearn.mixture import GaussianMixture\n",
    "from sklearn.decomposition import PCA\n",
    "from sklearn import  metrics\n",
    "\n",
    "# SQL\n",
    "from sqlalchemy import create_engine\n",
    "\n",
    "# Ignore Warn\n",
    "import warnings\n",
    "warnings.filterwarnings('ignore')"
   ]
  },
  {
   "cell_type": "code",
   "execution_count": 3,
   "metadata": {},
   "outputs": [],
   "source": [
    "postgres_user = 'dsbc_student'\n",
    "postgres_pw = '7*.8G9QH21'\n",
    "postgres_host = '142.93.121.174'\n",
    "postgres_port = '5432'\n",
    "postgres_db = 'heartdisease'\n",
    "\n",
    "engine = create_engine('postgresql://{}:{}@{}:{}/{}'.format(\n",
    "    postgres_user, postgres_pw, postgres_host, postgres_port, postgres_db))\n",
    "df = pd.read_sql_query('select * from heartdisease',con=engine)\n",
    "\n",
    "# no need for an open connection, as we're only doing a single query\n",
    "engine.dispose()"
   ]
  },
  {
   "cell_type": "code",
   "execution_count": 4,
   "metadata": {},
   "outputs": [],
   "source": [
    "# Define the features and the outcome\n",
    "X = df.iloc[:, :13]\n",
    "y = df.iloc[:, 13]\n",
    "\n",
    "# Replace missing values (marked by ?) with a 0\n",
    "X = X.replace(to_replace='?', value=0)\n",
    "\n",
    "# Binarize y so that 1 means heart disease diagnosis and 0 means no diagnosis\n",
    "y = np.where(y > 0, 0, 1)"
   ]
  },
  {
   "cell_type": "code",
   "execution_count": 5,
   "metadata": {},
   "outputs": [],
   "source": [
    "# Standardizing\n",
    "scaler = StandardScaler()\n",
    "X_std = scaler.fit_transform(X)\n"
   ]
  },
  {
   "cell_type": "markdown",
   "metadata": {},
   "source": [
    "###   1. Apply GMM to the heart disease data by setting n_components=2. Get ARI and silhoutte scores for your solution and compare it with those of the k-means and hierarchical clustering solutions that you implemented in the assignments of the previous checkpoints. Which algorithm does perform better?"
   ]
  },
  {
   "cell_type": "code",
   "execution_count": 8,
   "metadata": {
    "scrolled": false
   },
   "outputs": [
    {
     "name": "stdout",
     "output_type": "stream",
     "text": [
      "ARI Score: 0.4207322145049338\n",
      "Silhouette Score: 0.16118591340148433\n"
     ]
    }
   ],
   "source": [
    "gmm = GaussianMixture(n_components=2)\n",
    "clusters = gmm.fit_predict(X_std)\n",
    "\n",
    "print(f'ARI Score: {metrics.adjusted_rand_score(y,clusters)}')\n",
    "print(f'Silhouette Score: {metrics.silhouette_score(X_std,clusters, metric=\"euclidean\")}')"
   ]
  },
  {
   "cell_type": "markdown",
   "metadata": {},
   "source": [
    "K-means seems to perform slightly better on both metrics. GMM performs better than Hierarchical."
   ]
  },
  {
   "cell_type": "markdown",
   "metadata": {},
   "source": [
    "### 2. GMM implementation of scikit-learn has a parameter called covariance_type. This parameter determines the type of covariance parameters to use. Specifically, there are four types you can specify:\n",
    "\n",
    "   * full: This is the default. Each component has its own general covariance matrix.\n",
    "   * tied: All components share the same general covariance matrix.\n",
    "   * diag: Each component has its own diagonal covariance matrix.\n",
    "   * spherical: Each component has its own single variance.\n",
    "Try all of these. Which one does perform better in terms of ARI and silhouette scores?"
   ]
  },
  {
   "cell_type": "code",
   "execution_count": 10,
   "metadata": {},
   "outputs": [
    {
     "name": "stdout",
     "output_type": "stream",
     "text": [
      "--------------------------------------------------\n",
      "Covariance Type: full\n",
      "--------------------------------------------------\n",
      "ARI Score: 0.18389186035089963\n",
      "Silhouette Score: 0.13628813153331445\n",
      "--------------------------------------------------\n",
      "Covariance Type: tied\n",
      "--------------------------------------------------\n",
      "ARI Score: 0.46482432589803474\n",
      "Silhouette Score: 0.16607012124631088\n",
      "--------------------------------------------------\n",
      "Covariance Type: diag\n",
      "--------------------------------------------------\n",
      "ARI Score: 0.37878842718089933\n",
      "Silhouette Score: 0.15836933745078682\n",
      "--------------------------------------------------\n",
      "Covariance Type: spherical\n",
      "--------------------------------------------------\n",
      "ARI Score: 0.20765243525722465\n",
      "Silhouette Score: 0.12468753110276873\n"
     ]
    }
   ],
   "source": [
    "covariance_types = ['full','tied','diag','spherical']\n",
    "\n",
    "for i in range(len(covariance_types)):\n",
    "    gmm = GaussianMixture(n_components=2, covariance_type=covariance_types[i])\n",
    "    clusters = gmm.fit_predict(X_std)\n",
    "    print(('-'*50)+(f'\\nCovariance Type: {covariance_types[i]}\\n')+('-'*50))\n",
    "    print(f'ARI Score: {metrics.adjusted_rand_score(y,clusters)}')\n",
    "    print(f'Silhouette Score: {metrics.silhouette_score(X_std,clusters, metric=\"euclidean\")}')\n",
    "    "
   ]
  },
  {
   "cell_type": "code",
   "execution_count": null,
   "metadata": {},
   "outputs": [],
   "source": [
    "Tied seems to have the best performance"
   ]
  }
 ],
 "metadata": {
  "kernelspec": {
   "display_name": "pythonenv",
   "language": "python",
   "name": "pythonenv"
  },
  "language_info": {
   "codemirror_mode": {
    "name": "ipython",
    "version": 3
   },
   "file_extension": ".py",
   "mimetype": "text/x-python",
   "name": "python",
   "nbconvert_exporter": "python",
   "pygments_lexer": "ipython3",
   "version": "3.8.2"
  }
 },
 "nbformat": 4,
 "nbformat_minor": 4
}
