{
  "nbformat": 4,
  "nbformat_minor": 0,
  "metadata": {
    "colab": {
      "name": "36.6 Challenge.ipynb",
      "provenance": [],
      "authorship_tag": "ABX9TyP5Ls90SWKHyKadz2m/EP3J"
    },
    "kernelspec": {
      "name": "python3",
      "display_name": "Python 3"
    }
  },
  "cells": [
    {
      "cell_type": "code",
      "metadata": {
        "id": "yWARGdfX5g9C",
        "colab_type": "code",
        "colab": {}
      },
      "source": [
        "import warnings\n",
        "warnings.filterwarnings(\"ignore\")\n",
        "\n",
        "from keras.datasets import fashion_mnist\n",
        "from tensorflow.keras.models import Sequential \n",
        "from tensorflow.keras.layers import Dense, LeakyReLU\n",
        "from tensorflow.keras.utils import to_categorical\n",
        "from tensorflow.keras import losses, optimizers\n",
        "\n",
        "import matplotlib.pyplot as plt\n"
      ],
      "execution_count": 0,
      "outputs": []
    },
    {
      "cell_type": "markdown",
      "metadata": {
        "id": "nT8NBdnXz1od",
        "colab_type": "text"
      },
      "source": [
        "# Challenge\n",
        "In this module, we introduced the basics of deep learning and the fundamental architecture of the artificial neural networks. During the examples in the checkpoints, we used a MNIST dataset. In this challenge, you'll work with another dataset called fashion MNIST. Using this dataset, you need to:\n",
        "\n",
        "1. Preprocess your data so that you can feed it into ANN models.\n",
        "2. Split your data into training and test sets.\n",
        "Try different ANN models and train them on your training set. You can play with: \n",
        "  * 3.1. Number of layers.\n",
        "  * 3.2. Activation functions of the layers.\n",
        "  * 3.3. Number of neurons in the layers.\n",
        "  * 3.4. Different batch sizes during training.\n",
        "\n",
        "3. Compare your models' training scores and interpret your results.\n",
        "4. Evaluate your models' performances on your test set. Compare the results of your models.\n",
        "\n",
        "Please submit your solutions to the following tasks as a link to your Jupyter notebook on GitHub."
      ]
    },
    {
      "cell_type": "markdown",
      "metadata": {
        "id": "VLJ5LonBLzEc",
        "colab_type": "text"
      },
      "source": [
        "### Data"
      ]
    },
    {
      "cell_type": "code",
      "metadata": {
        "id": "j_JiE8o9Dq5m",
        "colab_type": "code",
        "colab": {
          "base_uri": "https://localhost:8080/",
          "height": 153
        },
        "outputId": "7a5a47b6-9db6-416c-dfd7-6827ce2953b0"
      },
      "source": [
        "# Loading data and preprocessing\n",
        "(X_train, y_train), (X_test, y_test) = fashion_mnist.load_data()"
      ],
      "execution_count": 2,
      "outputs": [
        {
          "output_type": "stream",
          "text": [
            "Downloading data from http://fashion-mnist.s3-website.eu-central-1.amazonaws.com/train-labels-idx1-ubyte.gz\n",
            "32768/29515 [=================================] - 0s 0us/step\n",
            "Downloading data from http://fashion-mnist.s3-website.eu-central-1.amazonaws.com/train-images-idx3-ubyte.gz\n",
            "26427392/26421880 [==============================] - 0s 0us/step\n",
            "Downloading data from http://fashion-mnist.s3-website.eu-central-1.amazonaws.com/t10k-labels-idx1-ubyte.gz\n",
            "8192/5148 [===============================================] - 0s 0us/step\n",
            "Downloading data from http://fashion-mnist.s3-website.eu-central-1.amazonaws.com/t10k-images-idx3-ubyte.gz\n",
            "4423680/4422102 [==============================] - 0s 0us/step\n"
          ],
          "name": "stdout"
        }
      ]
    },
    {
      "cell_type": "code",
      "metadata": {
        "id": "bIaT8KiHD6Ye",
        "colab_type": "code",
        "colab": {
          "base_uri": "https://localhost:8080/",
          "height": 85
        },
        "outputId": "bcbf58d7-db1f-45cb-f9b4-337bd155cfe2"
      },
      "source": [
        "print(X_train.shape)\n",
        "print(y_train.shape)\n",
        "print(X_test.shape)\n",
        "print(y_test.shape)"
      ],
      "execution_count": 3,
      "outputs": [
        {
          "output_type": "stream",
          "text": [
            "(60000, 28, 28)\n",
            "(60000,)\n",
            "(10000, 28, 28)\n",
            "(10000,)\n"
          ],
          "name": "stdout"
        }
      ]
    },
    {
      "cell_type": "markdown",
      "metadata": {
        "id": "zFbLD0faL24W",
        "colab_type": "text"
      },
      "source": [
        "### Processing"
      ]
    },
    {
      "cell_type": "code",
      "metadata": {
        "id": "STm9kKNe8BKD",
        "colab_type": "code",
        "colab": {}
      },
      "source": [
        "input_dim = 784  # 28*28\n",
        "output_dim = nb_classes = 10\n",
        "batch_size = 128\n",
        "nb_epoch = 20\n",
        "\n",
        "X_train = X_train.reshape(60000, input_dim)\n",
        "X_test = X_test.reshape(10000, input_dim)\n",
        "X_train = X_train.astype('float32')\n",
        "X_test = X_test.astype('float32')\n",
        "X_train /= 255\n",
        "X_test /= 255"
      ],
      "execution_count": 0,
      "outputs": []
    },
    {
      "cell_type": "code",
      "metadata": {
        "id": "NW3jJeFd8Gf5",
        "colab_type": "code",
        "colab": {}
      },
      "source": [
        "# Hot encoding through Keras\n",
        "Y_train_hot = to_categorical(y_train, nb_classes)\n",
        "Y_test_hot = to_categorical(y_test, nb_classes)"
      ],
      "execution_count": 0,
      "outputs": []
    },
    {
      "cell_type": "code",
      "metadata": {
        "id": "EOHijoec8bCu",
        "colab_type": "code",
        "outputId": "2370fbc9-2deb-44fd-e1bb-606211e9ccc7",
        "colab": {
          "base_uri": "https://localhost:8080/",
          "height": 34
        }
      },
      "source": [
        "# Checking the size of the data\n",
        "X_train[0].shape"
      ],
      "execution_count": 6,
      "outputs": [
        {
          "output_type": "execute_result",
          "data": {
            "text/plain": [
              "(784,)"
            ]
          },
          "metadata": {
            "tags": []
          },
          "execution_count": 6
        }
      ]
    },
    {
      "cell_type": "markdown",
      "metadata": {
        "id": "UUz5fmTvL5XR",
        "colab_type": "text"
      },
      "source": [
        "### Plotting"
      ]
    },
    {
      "cell_type": "code",
      "metadata": {
        "id": "wlCQXMR-K6V1",
        "colab_type": "code",
        "colab": {
          "base_uri": "https://localhost:8080/",
          "height": 307
        },
        "outputId": "e8dbe468-fd08-4e1d-f80a-f46037002b1f"
      },
      "source": [
        "plt.figure(figsize=(20,5))\n",
        "plt.style.use('dark_background')\n",
        "\n",
        "plt.subplot(141)\n",
        "plt.imshow(X_train[10].reshape(28,28), cmap=\"gray\")\n",
        "plt.title(\"Label of the image: {}\".format(y_train[10]))\n",
        "\n",
        "plt.subplot(142)\n",
        "plt.imshow(X_train[11].reshape(28,28), cmap=\"gray\")\n",
        "plt.title(\"Label of the image: {}\".format(y_train[11]))\n",
        "\n",
        "plt.subplot(143)\n",
        "plt.imshow(X_train[12].reshape(28,28), cmap=\"gray\")\n",
        "plt.title(\"Label of the image: {}\".format(y_train[12]))\n",
        "\n",
        "plt.subplot(144)\n",
        "plt.imshow(X_train[13].reshape(28,28), cmap=\"gray\")\n",
        "plt.title(\"Label of the image: {}\".format(y_train[13]))\n",
        "\n",
        "plt.show()"
      ],
      "execution_count": 9,
      "outputs": [
        {
          "output_type": "display_data",
          "data": {
            "image/png": "[encoded data removed]",
            "text/plain": [
              "<Figure size 1440x360 with 4 Axes>"
            ]
          },
          "metadata": {
            "tags": []
          }
        }
      ]
    },
    {
      "cell_type": "markdown",
      "metadata": {
        "id": "o3-1u1IMLum_",
        "colab_type": "text"
      },
      "source": [
        "## Modeling"
      ]
    },
    {
      "cell_type": "markdown",
      "metadata": {
        "id": "Em3bsAS2Of6l",
        "colab_type": "text"
      },
      "source": [
        "Let's start with a smaller NN like in the previous notebooks (expanding if necessary based on performance), and we will also begin with adjusting the activation function."
      ]
    },
    {
      "cell_type": "code",
      "metadata": {
        "colab_type": "code",
        "id": "kudLgcigHKeN",
        "outputId": "3c7ed3d3-0320-4909-c1e9-99380c71b6ae",
        "colab": {
          "base_uri": "https://localhost:8080/",
          "height": 731
        }
      },
      "source": [
        "# 3-layer ANN with 128, 64, 10, using tanh\n",
        "model = Sequential()\n",
        "# our first dense layer\n",
        "model.add(Dense(128, input_shape=(784,), activation=\"tanh\"))\n",
        "# our second dense layer\n",
        "model.add(Dense(64, activation=\"tanh\"))\n",
        "# our third dense layer\n",
        "model.add(Dense(10, activation=\"softmax\"))\n",
        "\n",
        "# Compiling the model\n",
        "model.compile(optimizer='sgd', loss='categorical_crossentropy',\n",
        "              metrics=['accuracy'])\n",
        "\n",
        "# Training model\n",
        "model.fit(X_train, Y_train_hot, batch_size=batch_size, epochs=20, verbose=1)\n",
        "\n",
        "# Evaluating the model\n",
        "score = model.evaluate(X_test, Y_test_hot, verbose=0)\n",
        "print('Test score:', score[0])\n",
        "print('Test accuracy:', score[1])"
      ],
      "execution_count": 10,
      "outputs": [
        {
          "output_type": "stream",
          "text": [
            "Epoch 1/20\n",
            "469/469 [==============================] - 2s 3ms/step - loss: 1.0576 - accuracy: 0.6718\n",
            "Epoch 2/20\n",
            "469/469 [==============================] - 2s 3ms/step - loss: 0.6675 - accuracy: 0.7840\n",
            "Epoch 3/20\n",
            "469/469 [==============================] - 2s 3ms/step - loss: 0.5764 - accuracy: 0.8077\n",
            "Epoch 4/20\n",
            "469/469 [==============================] - 1s 3ms/step - loss: 0.5295 - accuracy: 0.8196\n",
            "Epoch 5/20\n",
            "469/469 [==============================] - 1s 3ms/step - loss: 0.5002 - accuracy: 0.8284\n",
            "Epoch 6/20\n",
            "469/469 [==============================] - 1s 3ms/step - loss: 0.4794 - accuracy: 0.8331\n",
            "Epoch 7/20\n",
            "469/469 [==============================] - 1s 3ms/step - loss: 0.4636 - accuracy: 0.8379\n",
            "Epoch 8/20\n",
            "469/469 [==============================] - 1s 3ms/step - loss: 0.4506 - accuracy: 0.8425\n",
            "Epoch 9/20\n",
            "469/469 [==============================] - 2s 3ms/step - loss: 0.4401 - accuracy: 0.8455\n",
            "Epoch 10/20\n",
            "469/469 [==============================] - 2s 3ms/step - loss: 0.4313 - accuracy: 0.8478\n",
            "Epoch 11/20\n",
            "469/469 [==============================] - 2s 3ms/step - loss: 0.4233 - accuracy: 0.8511\n",
            "Epoch 12/20\n",
            "469/469 [==============================] - 2s 3ms/step - loss: 0.4163 - accuracy: 0.8533\n",
            "Epoch 13/20\n",
            "469/469 [==============================] - 2s 3ms/step - loss: 0.4096 - accuracy: 0.8548\n",
            "Epoch 14/20\n",
            "469/469 [==============================] - 2s 3ms/step - loss: 0.4040 - accuracy: 0.8572\n",
            "Epoch 15/20\n",
            "469/469 [==============================] - 2s 3ms/step - loss: 0.3991 - accuracy: 0.8588\n",
            "Epoch 16/20\n",
            "469/469 [==============================] - 2s 3ms/step - loss: 0.3939 - accuracy: 0.8604\n",
            "Epoch 17/20\n",
            "469/469 [==============================] - 2s 3ms/step - loss: 0.3893 - accuracy: 0.8620\n",
            "Epoch 18/20\n",
            "469/469 [==============================] - 2s 3ms/step - loss: 0.3850 - accuracy: 0.8636\n",
            "Epoch 19/20\n",
            "469/469 [==============================] - 2s 3ms/step - loss: 0.3817 - accuracy: 0.8645\n",
            "Epoch 20/20\n",
            "469/469 [==============================] - 2s 3ms/step - loss: 0.3777 - accuracy: 0.8659\n",
            "Test score: 0.41576480865478516\n",
            "Test accuracy: 0.852400004863739\n"
          ],
          "name": "stdout"
        }
      ]
    },
    {
      "cell_type": "code",
      "metadata": {
        "colab_type": "code",
        "outputId": "65465479-6c51-4666-87cc-67732d84f2df",
        "id": "5gve4LGzHKec",
        "colab": {
          "base_uri": "https://localhost:8080/",
          "height": 731
        }
      },
      "source": [
        "# 3-layer ANN with 128, 64, 10, using relu\n",
        "model = Sequential()\n",
        "# our first dense layer\n",
        "model.add(Dense(128, input_shape=(784,), activation=\"relu\"))\n",
        "# our second dense layer\n",
        "model.add(Dense(64, activation=\"relu\"))\n",
        "# our third dense layer\n",
        "model.add(Dense(10, activation=\"softmax\"))\n",
        "\n",
        "# Compiling the model\n",
        "model.compile(optimizer='sgd', loss='categorical_crossentropy',\n",
        "              metrics=['accuracy'])\n",
        "\n",
        "# Training model\n",
        "model.fit(X_train, Y_train_hot, batch_size=batch_size, epochs=20, verbose=1)\n",
        "\n",
        "# Evaluating the model\n",
        "score = model.evaluate(X_test, Y_test_hot, verbose=0)\n",
        "print('Test score:', score[0])\n",
        "print('Test accuracy:', score[1])"
      ],
      "execution_count": 12,
      "outputs": [
        {
          "output_type": "stream",
          "text": [
            "Epoch 1/20\n",
            "469/469 [==============================] - 2s 3ms/step - loss: 1.1106 - accuracy: 0.6546\n",
            "Epoch 2/20\n",
            "469/469 [==============================] - 2s 3ms/step - loss: 0.6522 - accuracy: 0.7839\n",
            "Epoch 3/20\n",
            "469/469 [==============================] - 2s 3ms/step - loss: 0.5660 - accuracy: 0.8091\n",
            "Epoch 4/20\n",
            "469/469 [==============================] - 2s 3ms/step - loss: 0.5215 - accuracy: 0.8220\n",
            "Epoch 5/20\n",
            "469/469 [==============================] - 2s 3ms/step - loss: 0.4965 - accuracy: 0.8278\n",
            "Epoch 6/20\n",
            "469/469 [==============================] - 1s 3ms/step - loss: 0.4767 - accuracy: 0.8346\n",
            "Epoch 7/20\n",
            "469/469 [==============================] - 2s 3ms/step - loss: 0.4625 - accuracy: 0.8390\n",
            "Epoch 8/20\n",
            "469/469 [==============================] - 2s 3ms/step - loss: 0.4501 - accuracy: 0.8436\n",
            "Epoch 9/20\n",
            "469/469 [==============================] - 2s 3ms/step - loss: 0.4401 - accuracy: 0.8472\n",
            "Epoch 10/20\n",
            "469/469 [==============================] - 2s 3ms/step - loss: 0.4323 - accuracy: 0.8500\n",
            "Epoch 11/20\n",
            "469/469 [==============================] - 2s 3ms/step - loss: 0.4256 - accuracy: 0.8523\n",
            "Epoch 12/20\n",
            "469/469 [==============================] - 2s 3ms/step - loss: 0.4188 - accuracy: 0.8541\n",
            "Epoch 13/20\n",
            "469/469 [==============================] - 2s 3ms/step - loss: 0.4135 - accuracy: 0.8564\n",
            "Epoch 14/20\n",
            "469/469 [==============================] - 2s 3ms/step - loss: 0.4081 - accuracy: 0.8584\n",
            "Epoch 15/20\n",
            "469/469 [==============================] - 2s 3ms/step - loss: 0.4028 - accuracy: 0.8596\n",
            "Epoch 16/20\n",
            "469/469 [==============================] - 2s 3ms/step - loss: 0.3987 - accuracy: 0.8625\n",
            "Epoch 17/20\n",
            "469/469 [==============================] - 1s 3ms/step - loss: 0.3933 - accuracy: 0.8634\n",
            "Epoch 18/20\n",
            "469/469 [==============================] - 2s 3ms/step - loss: 0.3904 - accuracy: 0.8641\n",
            "Epoch 19/20\n",
            "469/469 [==============================] - 1s 3ms/step - loss: 0.3853 - accuracy: 0.8662\n",
            "Epoch 20/20\n",
            "469/469 [==============================] - 2s 3ms/step - loss: 0.3821 - accuracy: 0.8667\n",
            "Test score: 0.42815810441970825\n",
            "Test accuracy: 0.848800003528595\n"
          ],
          "name": "stdout"
        }
      ]
    },
    {
      "cell_type": "code",
      "metadata": {
        "colab_type": "code",
        "outputId": "cb7421ec-ec53-41c8-cd56-c5f0c02aa647",
        "id": "OLr7nEG1M0w3",
        "colab": {
          "base_uri": "https://localhost:8080/",
          "height": 731
        }
      },
      "source": [
        "# 1. 3-layer ANN with 128, 64, 10, using leaky relu\n",
        "model = Sequential()\n",
        "# our first dense layer\n",
        "model.add(Dense(128, input_shape=(784,)))\n",
        "model.add(LeakyReLU(alpha=0.3))\n",
        "# our second dense layer\n",
        "model.add(Dense(64,))\n",
        "model.add(LeakyReLU(alpha=0.3))\n",
        "# our third dense layer\n",
        "model.add(Dense(10, activation=\"softmax\"))\n",
        "\n",
        "# Compiling the model\n",
        "model.compile(optimizer='sgd', loss='categorical_hinge',\n",
        "              metrics=['accuracy'])\n",
        "\n",
        "# Training the Model\n",
        "model.fit(X_train, Y_train_hot, batch_size=batch_size, epochs=20, verbose=1)\n",
        "\n",
        "# Evaluating the model\n",
        "score = model.evaluate(X_test, Y_test_hot, verbose=0)\n",
        "print('Test score:', score[0])\n",
        "print('Test accuracy:', score[1])"
      ],
      "execution_count": 14,
      "outputs": [
        {
          "output_type": "stream",
          "text": [
            "Epoch 1/20\n",
            "469/469 [==============================] - 2s 3ms/step - loss: 0.9976 - accuracy: 0.4184\n",
            "Epoch 2/20\n",
            "469/469 [==============================] - 2s 3ms/step - loss: 0.8332 - accuracy: 0.6072\n",
            "Epoch 3/20\n",
            "469/469 [==============================] - 2s 3ms/step - loss: 0.6773 - accuracy: 0.6760\n",
            "Epoch 4/20\n",
            "469/469 [==============================] - 2s 3ms/step - loss: 0.5994 - accuracy: 0.7089\n",
            "Epoch 5/20\n",
            "469/469 [==============================] - 2s 3ms/step - loss: 0.5477 - accuracy: 0.7560\n",
            "Epoch 6/20\n",
            "469/469 [==============================] - 2s 3ms/step - loss: 0.4999 - accuracy: 0.7857\n",
            "Epoch 7/20\n",
            "469/469 [==============================] - 2s 4ms/step - loss: 0.4625 - accuracy: 0.7967\n",
            "Epoch 8/20\n",
            "469/469 [==============================] - 2s 4ms/step - loss: 0.4357 - accuracy: 0.8054\n",
            "Epoch 9/20\n",
            "469/469 [==============================] - 2s 4ms/step - loss: 0.4165 - accuracy: 0.8107\n",
            "Epoch 10/20\n",
            "469/469 [==============================] - 2s 3ms/step - loss: 0.4012 - accuracy: 0.8166\n",
            "Epoch 11/20\n",
            "469/469 [==============================] - 2s 3ms/step - loss: 0.3891 - accuracy: 0.8217\n",
            "Epoch 12/20\n",
            "469/469 [==============================] - 2s 3ms/step - loss: 0.3793 - accuracy: 0.8257\n",
            "Epoch 13/20\n",
            "469/469 [==============================] - 2s 4ms/step - loss: 0.3709 - accuracy: 0.8282\n",
            "Epoch 14/20\n",
            "469/469 [==============================] - 2s 3ms/step - loss: 0.3636 - accuracy: 0.8320\n",
            "Epoch 15/20\n",
            "469/469 [==============================] - 2s 4ms/step - loss: 0.3573 - accuracy: 0.8329\n",
            "Epoch 16/20\n",
            "469/469 [==============================] - 2s 3ms/step - loss: 0.3518 - accuracy: 0.8361\n",
            "Epoch 17/20\n",
            "469/469 [==============================] - 2s 3ms/step - loss: 0.3473 - accuracy: 0.8372\n",
            "Epoch 18/20\n",
            "469/469 [==============================] - 2s 3ms/step - loss: 0.3424 - accuracy: 0.8397\n",
            "Epoch 19/20\n",
            "469/469 [==============================] - 2s 3ms/step - loss: 0.3385 - accuracy: 0.8411\n",
            "Epoch 20/20\n",
            "469/469 [==============================] - 2s 3ms/step - loss: 0.3347 - accuracy: 0.8429\n",
            "Test score: 0.35439762473106384\n",
            "Test accuracy: 0.8295000195503235\n"
          ],
          "name": "stdout"
        }
      ]
    },
    {
      "cell_type": "markdown",
      "metadata": {
        "id": "H9ZjpsapYJV0",
        "colab_type": "text"
      },
      "source": [
        "The ReLU activation function appears to work best.\n",
        "\n",
        "---\n",
        "<br></br>\n",
        "## Loss Functions\n"
      ]
    },
    {
      "cell_type": "code",
      "metadata": {
        "colab_type": "code",
        "outputId": "c4c557e7-96b5-458a-f348-e15f391d3513",
        "id": "_e2V1_zrM0w_",
        "colab": {
          "base_uri": "https://localhost:8080/",
          "height": 731
        }
      },
      "source": [
        "# 3-layer ANN with 128, 64, 10, using relu and hinge loss\n",
        "model = Sequential()\n",
        "# our first dense layer\n",
        "model.add(Dense(128, input_shape=(784,), activation=\"relu\"))\n",
        "# our second dense layer\n",
        "model.add(Dense(64, activation=\"relu\"))\n",
        "# our third dense layer\n",
        "model.add(Dense(10, activation=\"softmax\"))\n",
        "\n",
        "# Compiling the model\n",
        "model.compile(optimizer='sgd', loss='categorical_hinge',\n",
        "              metrics=['accuracy'])\n",
        "\n",
        "# Training model\n",
        "model.fit(X_train, Y_train_hot, batch_size=batch_size, epochs=20, verbose=1)\n",
        "\n",
        "# Evaluating the model\n",
        "score = model.evaluate(X_test, Y_test_hot, verbose=0)\n",
        "print('Test score:', score[0])\n",
        "print('Test accuracy:', score[1])"
      ],
      "execution_count": 16,
      "outputs": [
        {
          "output_type": "stream",
          "text": [
            "Epoch 1/20\n",
            "469/469 [==============================] - 1s 3ms/step - loss: 1.0004 - accuracy: 0.3818\n",
            "Epoch 2/20\n",
            "469/469 [==============================] - 2s 3ms/step - loss: 0.8989 - accuracy: 0.5468\n",
            "Epoch 3/20\n",
            "469/469 [==============================] - 2s 4ms/step - loss: 0.7496 - accuracy: 0.6316\n",
            "Epoch 4/20\n",
            "469/469 [==============================] - 2s 3ms/step - loss: 0.6552 - accuracy: 0.6908\n",
            "Epoch 5/20\n",
            "469/469 [==============================] - 2s 4ms/step - loss: 0.5933 - accuracy: 0.7356\n",
            "Epoch 6/20\n",
            "469/469 [==============================] - 2s 4ms/step - loss: 0.5395 - accuracy: 0.7658\n",
            "Epoch 7/20\n",
            "469/469 [==============================] - 2s 4ms/step - loss: 0.4946 - accuracy: 0.7855\n",
            "Epoch 8/20\n",
            "469/469 [==============================] - 2s 4ms/step - loss: 0.4616 - accuracy: 0.7981\n",
            "Epoch 9/20\n",
            "469/469 [==============================] - 2s 4ms/step - loss: 0.4371 - accuracy: 0.8059\n",
            "Epoch 10/20\n",
            "469/469 [==============================] - 2s 4ms/step - loss: 0.4178 - accuracy: 0.8125\n",
            "Epoch 11/20\n",
            "469/469 [==============================] - 2s 3ms/step - loss: 0.4027 - accuracy: 0.8172\n",
            "Epoch 12/20\n",
            "469/469 [==============================] - 2s 3ms/step - loss: 0.3905 - accuracy: 0.8206\n",
            "Epoch 13/20\n",
            "469/469 [==============================] - 2s 3ms/step - loss: 0.3803 - accuracy: 0.8253\n",
            "Epoch 14/20\n",
            "469/469 [==============================] - 2s 3ms/step - loss: 0.3716 - accuracy: 0.8280\n",
            "Epoch 15/20\n",
            "469/469 [==============================] - 2s 3ms/step - loss: 0.3641 - accuracy: 0.8310\n",
            "Epoch 16/20\n",
            "469/469 [==============================] - 2s 3ms/step - loss: 0.3576 - accuracy: 0.8334\n",
            "Epoch 17/20\n",
            "469/469 [==============================] - 2s 3ms/step - loss: 0.3515 - accuracy: 0.8358\n",
            "Epoch 18/20\n",
            "469/469 [==============================] - 2s 3ms/step - loss: 0.3469 - accuracy: 0.8375\n",
            "Epoch 19/20\n",
            "469/469 [==============================] - 2s 3ms/step - loss: 0.3423 - accuracy: 0.8393\n",
            "Epoch 20/20\n",
            "469/469 [==============================] - 2s 3ms/step - loss: 0.3380 - accuracy: 0.8416\n",
            "Test score: 0.3577786684036255\n",
            "Test accuracy: 0.8281999826431274\n"
          ],
          "name": "stdout"
        }
      ]
    },
    {
      "cell_type": "code",
      "metadata": {
        "id": "dpauDZtpZCus",
        "colab_type": "code",
        "colab": {
          "base_uri": "https://localhost:8080/",
          "height": 731
        },
        "outputId": "fcd4098b-9dd2-4a4a-c0bf-f157a70441ae"
      },
      "source": [
        "# 3-layer ANN with 128, 64, 10, using relu and SparseCategoricalCrossentropy\n",
        "model = Sequential()\n",
        "# our first dense layer\n",
        "model.add(Dense(128, input_shape=(784,), activation=\"relu\"))\n",
        "# our second dense layer\n",
        "model.add(Dense(64, activation=\"relu\"))\n",
        "# our third dense layer\n",
        "model.add(Dense(10, activation=\"softmax\"))\n",
        "\n",
        "# Compiling the model\n",
        "model.compile(optimizer='sgd', loss=losses.SparseCategoricalCrossentropy(),\n",
        "              metrics=['accuracy'])\n",
        "\n",
        "# Training model\n",
        "model.fit(X_train, y_train, epochs=20, verbose=1)\n",
        "\n",
        "# Evaluating the model\n",
        "score = model.evaluate(X_test, y_test, verbose=0)\n",
        "print('Test score:', score[0])\n",
        "print('Test accuracy:', score[1])"
      ],
      "execution_count": 18,
      "outputs": [
        {
          "output_type": "stream",
          "text": [
            "Epoch 1/20\n",
            "1875/1875 [==============================] - 3s 2ms/step - loss: 0.7317 - accuracy: 0.7596\n",
            "Epoch 2/20\n",
            "1875/1875 [==============================] - 3s 2ms/step - loss: 0.4953 - accuracy: 0.8257\n",
            "Epoch 3/20\n",
            "1875/1875 [==============================] - 3s 2ms/step - loss: 0.4499 - accuracy: 0.8423\n",
            "Epoch 4/20\n",
            "1875/1875 [==============================] - 3s 2ms/step - loss: 0.4232 - accuracy: 0.8513\n",
            "Epoch 5/20\n",
            "1875/1875 [==============================] - 3s 2ms/step - loss: 0.4044 - accuracy: 0.8577\n",
            "Epoch 6/20\n",
            "1875/1875 [==============================] - 3s 2ms/step - loss: 0.3887 - accuracy: 0.8630\n",
            "Epoch 7/20\n",
            "1875/1875 [==============================] - 3s 2ms/step - loss: 0.3763 - accuracy: 0.8679\n",
            "Epoch 8/20\n",
            "1875/1875 [==============================] - 3s 2ms/step - loss: 0.3646 - accuracy: 0.8715\n",
            "Epoch 9/20\n",
            "1875/1875 [==============================] - 3s 2ms/step - loss: 0.3528 - accuracy: 0.8748\n",
            "Epoch 10/20\n",
            "1875/1875 [==============================] - 3s 2ms/step - loss: 0.3444 - accuracy: 0.8783\n",
            "Epoch 11/20\n",
            "1875/1875 [==============================] - 3s 2ms/step - loss: 0.3366 - accuracy: 0.8802\n",
            "Epoch 12/20\n",
            "1875/1875 [==============================] - 3s 2ms/step - loss: 0.3278 - accuracy: 0.8841\n",
            "Epoch 13/20\n",
            "1875/1875 [==============================] - 3s 2ms/step - loss: 0.3215 - accuracy: 0.8855\n",
            "Epoch 14/20\n",
            "1875/1875 [==============================] - 3s 2ms/step - loss: 0.3155 - accuracy: 0.8883\n",
            "Epoch 15/20\n",
            "1875/1875 [==============================] - 3s 2ms/step - loss: 0.3092 - accuracy: 0.8899\n",
            "Epoch 16/20\n",
            "1875/1875 [==============================] - 3s 2ms/step - loss: 0.3036 - accuracy: 0.8911\n",
            "Epoch 17/20\n",
            "1875/1875 [==============================] - 4s 2ms/step - loss: 0.2969 - accuracy: 0.8928\n",
            "Epoch 18/20\n",
            "1875/1875 [==============================] - 3s 2ms/step - loss: 0.2930 - accuracy: 0.8956\n",
            "Epoch 19/20\n",
            "1875/1875 [==============================] - 3s 2ms/step - loss: 0.2885 - accuracy: 0.8966\n",
            "Epoch 20/20\n",
            "1875/1875 [==============================] - 3s 2ms/step - loss: 0.2827 - accuracy: 0.8982\n",
            "Test score: 0.3552650511264801\n",
            "Test accuracy: 0.8740000128746033\n"
          ],
          "name": "stdout"
        }
      ]
    },
    {
      "cell_type": "markdown",
      "metadata": {
        "id": "j3Ktuo_Ld2t_",
        "colab_type": "text"
      },
      "source": [
        "Sparse Categorical Crossentropy is the best performing loss function.\n",
        "\n",
        "---\n",
        "<br></br>\n",
        "# Batch Size"
      ]
    },
    {
      "cell_type": "code",
      "metadata": {
        "id": "ho5dIDhdiu4r",
        "colab_type": "code",
        "colab": {
          "base_uri": "https://localhost:8080/",
          "height": 731
        },
        "outputId": "20a36f48-e795-4658-a2d4-637b1b8b11ea"
      },
      "source": [
        "# 3-layer ANN with 128, 64, 10, using relu, SparseCategoricalCrossentropy, and batch size 64\n",
        "model = Sequential()\n",
        "# our first dense layer\n",
        "model.add(Dense(128, input_shape=(784,), activation=\"relu\"))\n",
        "# our second dense layer\n",
        "model.add(Dense(64, activation=\"relu\"))\n",
        "# our third dense layer\n",
        "model.add(Dense(10, activation=\"softmax\"))\n",
        "\n",
        "# Compiling the model\n",
        "model.compile(optimizer='sgd', loss=losses.SparseCategoricalCrossentropy(),\n",
        "              metrics=['accuracy'])\n",
        "\n",
        "# Training model\n",
        "model.fit(X_train, y_train, batch_size=128, epochs=20, verbose=1)\n",
        "\n",
        "# Evaluating the model\n",
        "score = model.evaluate(X_test, y_test, verbose=0)\n",
        "print('Test score:', score[0])\n",
        "print('Test accuracy:', score[1])"
      ],
      "execution_count": 22,
      "outputs": [
        {
          "output_type": "stream",
          "text": [
            "Epoch 1/20\n",
            "469/469 [==============================] - 1s 3ms/step - loss: 1.2067 - accuracy: 0.6189\n",
            "Epoch 2/20\n",
            "469/469 [==============================] - 1s 3ms/step - loss: 0.6912 - accuracy: 0.7698\n",
            "Epoch 3/20\n",
            "469/469 [==============================] - 1s 3ms/step - loss: 0.5930 - accuracy: 0.8011\n",
            "Epoch 4/20\n",
            "469/469 [==============================] - 1s 3ms/step - loss: 0.5443 - accuracy: 0.8154\n",
            "Epoch 5/20\n",
            "469/469 [==============================] - 1s 3ms/step - loss: 0.5131 - accuracy: 0.8245\n",
            "Epoch 6/20\n",
            "469/469 [==============================] - 1s 3ms/step - loss: 0.4935 - accuracy: 0.8296\n",
            "Epoch 7/20\n",
            "469/469 [==============================] - 1s 3ms/step - loss: 0.4763 - accuracy: 0.8351\n",
            "Epoch 8/20\n",
            "469/469 [==============================] - 1s 3ms/step - loss: 0.4653 - accuracy: 0.8379\n",
            "Epoch 9/20\n",
            "469/469 [==============================] - 1s 3ms/step - loss: 0.4539 - accuracy: 0.8424\n",
            "Epoch 10/20\n",
            "469/469 [==============================] - 1s 3ms/step - loss: 0.4447 - accuracy: 0.8453\n",
            "Epoch 11/20\n",
            "469/469 [==============================] - 1s 3ms/step - loss: 0.4354 - accuracy: 0.8490\n",
            "Epoch 12/20\n",
            "469/469 [==============================] - 1s 3ms/step - loss: 0.4292 - accuracy: 0.8515\n",
            "Epoch 13/20\n",
            "469/469 [==============================] - 1s 3ms/step - loss: 0.4220 - accuracy: 0.8535\n",
            "Epoch 14/20\n",
            "469/469 [==============================] - 1s 3ms/step - loss: 0.4151 - accuracy: 0.8562\n",
            "Epoch 15/20\n",
            "469/469 [==============================] - 1s 3ms/step - loss: 0.4103 - accuracy: 0.8580\n",
            "Epoch 16/20\n",
            "469/469 [==============================] - 1s 3ms/step - loss: 0.4046 - accuracy: 0.8589\n",
            "Epoch 17/20\n",
            "469/469 [==============================] - 1s 3ms/step - loss: 0.3999 - accuracy: 0.8607\n",
            "Epoch 18/20\n",
            "469/469 [==============================] - 1s 3ms/step - loss: 0.3944 - accuracy: 0.8620\n",
            "Epoch 19/20\n",
            "469/469 [==============================] - 1s 3ms/step - loss: 0.3896 - accuracy: 0.8640\n",
            "Epoch 20/20\n",
            "469/469 [==============================] - 1s 3ms/step - loss: 0.3860 - accuracy: 0.8667\n",
            "Test score: 0.4267398416996002\n",
            "Test accuracy: 0.8485000133514404\n"
          ],
          "name": "stdout"
        }
      ]
    },
    {
      "cell_type": "code",
      "metadata": {
        "id": "LkdgWnMth7eh",
        "colab_type": "code",
        "colab": {
          "base_uri": "https://localhost:8080/",
          "height": 731
        },
        "outputId": "801e497f-7e0a-40e8-e810-d19d27fcd1a0"
      },
      "source": [
        "# 3-layer ANN with 128, 64, 10, using relu, SparseCategoricalCrossentropy, and batch size 64\n",
        "model = Sequential()\n",
        "# our first dense layer\n",
        "model.add(Dense(128, input_shape=(784,), activation=\"relu\"))\n",
        "# our second dense layer\n",
        "model.add(Dense(64, activation=\"relu\"))\n",
        "# our third dense layer\n",
        "model.add(Dense(10, activation=\"softmax\"))\n",
        "\n",
        "# Compiling the model\n",
        "model.compile(optimizer='sgd', loss=losses.SparseCategoricalCrossentropy(),\n",
        "              metrics=['accuracy'])\n",
        "\n",
        "# Training model\n",
        "model.fit(X_train, y_train, batch_size=64, epochs=20, verbose=1)\n",
        "\n",
        "# Evaluating the model\n",
        "score = model.evaluate(X_test, y_test, verbose=0)\n",
        "print('Test score:', score[0])\n",
        "print('Test accuracy:', score[1])"
      ],
      "execution_count": 21,
      "outputs": [
        {
          "output_type": "stream",
          "text": [
            "Epoch 1/20\n",
            "938/938 [==============================] - 2s 2ms/step - loss: 0.8944 - accuracy: 0.7171\n",
            "Epoch 2/20\n",
            "938/938 [==============================] - 2s 2ms/step - loss: 0.5535 - accuracy: 0.8108\n",
            "Epoch 3/20\n",
            "938/938 [==============================] - 2s 2ms/step - loss: 0.4959 - accuracy: 0.8281\n",
            "Epoch 4/20\n",
            "938/938 [==============================] - 2s 2ms/step - loss: 0.4652 - accuracy: 0.8391\n",
            "Epoch 5/20\n",
            "938/938 [==============================] - 2s 2ms/step - loss: 0.4451 - accuracy: 0.8448\n",
            "Epoch 6/20\n",
            "938/938 [==============================] - 2s 2ms/step - loss: 0.4285 - accuracy: 0.8500\n",
            "Epoch 7/20\n",
            "938/938 [==============================] - 2s 2ms/step - loss: 0.4164 - accuracy: 0.8537\n",
            "Epoch 8/20\n",
            "938/938 [==============================] - 2s 2ms/step - loss: 0.4039 - accuracy: 0.8584\n",
            "Epoch 9/20\n",
            "938/938 [==============================] - 2s 2ms/step - loss: 0.3938 - accuracy: 0.8617\n",
            "Epoch 10/20\n",
            "938/938 [==============================] - 2s 2ms/step - loss: 0.3858 - accuracy: 0.8652\n",
            "Epoch 11/20\n",
            "938/938 [==============================] - 2s 2ms/step - loss: 0.3779 - accuracy: 0.8686\n",
            "Epoch 12/20\n",
            "938/938 [==============================] - 2s 2ms/step - loss: 0.3699 - accuracy: 0.8709\n",
            "Epoch 13/20\n",
            "938/938 [==============================] - 2s 2ms/step - loss: 0.3638 - accuracy: 0.8717\n",
            "Epoch 14/20\n",
            "938/938 [==============================] - 2s 2ms/step - loss: 0.3573 - accuracy: 0.8751\n",
            "Epoch 15/20\n",
            "938/938 [==============================] - 2s 2ms/step - loss: 0.3522 - accuracy: 0.8757\n",
            "Epoch 16/20\n",
            "938/938 [==============================] - 2s 2ms/step - loss: 0.3471 - accuracy: 0.8775\n",
            "Epoch 17/20\n",
            "938/938 [==============================] - 2s 2ms/step - loss: 0.3412 - accuracy: 0.8796\n",
            "Epoch 18/20\n",
            "938/938 [==============================] - 2s 2ms/step - loss: 0.3365 - accuracy: 0.8818\n",
            "Epoch 19/20\n",
            "938/938 [==============================] - 2s 2ms/step - loss: 0.3318 - accuracy: 0.8826\n",
            "Epoch 20/20\n",
            "938/938 [==============================] - 2s 2ms/step - loss: 0.3277 - accuracy: 0.8840\n",
            "Test score: 0.3999037742614746\n",
            "Test accuracy: 0.8550000190734863\n"
          ],
          "name": "stdout"
        }
      ]
    },
    {
      "cell_type": "code",
      "metadata": {
        "id": "ammQa6Xni-rG",
        "colab_type": "code",
        "colab": {
          "base_uri": "https://localhost:8080/",
          "height": 731
        },
        "outputId": "7927d871-562d-4de7-fc6f-714947a39a8d"
      },
      "source": [
        "# 3-layer ANN with 128, 64, 10, using relu, SparseCategoricalCrossentropy, and batch size 16\n",
        "model = Sequential()\n",
        "# our first dense layer\n",
        "model.add(Dense(128, input_shape=(784,), activation=\"relu\"))\n",
        "# our second dense layer\n",
        "model.add(Dense(64, activation=\"relu\"))\n",
        "# our third dense layer\n",
        "model.add(Dense(10, activation=\"softmax\"))\n",
        "\n",
        "# Compiling the model\n",
        "model.compile(optimizer='sgd', loss=losses.SparseCategoricalCrossentropy(),\n",
        "              metrics=['accuracy'])\n",
        "\n",
        "# Training model\n",
        "model.fit(X_train, y_train, batch_size=16, epochs=20, verbose=1)\n",
        "\n",
        "# Evaluating the model\n",
        "score = model.evaluate(X_test, y_test, verbose=0)\n",
        "print('Test score:', score[0])\n",
        "print('Test accuracy:', score[1])"
      ],
      "execution_count": 23,
      "outputs": [
        {
          "output_type": "stream",
          "text": [
            "Epoch 1/20\n",
            "3750/3750 [==============================] - 6s 2ms/step - loss: 0.6266 - accuracy: 0.7856\n",
            "Epoch 2/20\n",
            "3750/3750 [==============================] - 6s 2ms/step - loss: 0.4461 - accuracy: 0.8439\n",
            "Epoch 3/20\n",
            "3750/3750 [==============================] - 6s 2ms/step - loss: 0.4017 - accuracy: 0.8563\n",
            "Epoch 4/20\n",
            "3750/3750 [==============================] - 6s 2ms/step - loss: 0.3753 - accuracy: 0.8653\n",
            "Epoch 5/20\n",
            "3750/3750 [==============================] - 6s 2ms/step - loss: 0.3566 - accuracy: 0.8712\n",
            "Epoch 6/20\n",
            "3750/3750 [==============================] - 6s 2ms/step - loss: 0.3411 - accuracy: 0.8775\n",
            "Epoch 7/20\n",
            "3750/3750 [==============================] - 6s 2ms/step - loss: 0.3274 - accuracy: 0.8818\n",
            "Epoch 8/20\n",
            "3750/3750 [==============================] - 6s 2ms/step - loss: 0.3169 - accuracy: 0.8848\n",
            "Epoch 9/20\n",
            "3750/3750 [==============================] - 6s 2ms/step - loss: 0.3074 - accuracy: 0.8897\n",
            "Epoch 10/20\n",
            "3750/3750 [==============================] - 6s 2ms/step - loss: 0.2986 - accuracy: 0.8913\n",
            "Epoch 11/20\n",
            "3750/3750 [==============================] - 6s 2ms/step - loss: 0.2904 - accuracy: 0.8932\n",
            "Epoch 12/20\n",
            "3750/3750 [==============================] - 6s 2ms/step - loss: 0.2829 - accuracy: 0.8971\n",
            "Epoch 13/20\n",
            "3750/3750 [==============================] - 6s 2ms/step - loss: 0.2753 - accuracy: 0.8996\n",
            "Epoch 14/20\n",
            "3750/3750 [==============================] - 7s 2ms/step - loss: 0.2694 - accuracy: 0.9004\n",
            "Epoch 15/20\n",
            "3750/3750 [==============================] - 6s 2ms/step - loss: 0.2633 - accuracy: 0.9033\n",
            "Epoch 16/20\n",
            "3750/3750 [==============================] - 6s 2ms/step - loss: 0.2577 - accuracy: 0.9058\n",
            "Epoch 17/20\n",
            "3750/3750 [==============================] - 6s 2ms/step - loss: 0.2528 - accuracy: 0.9071\n",
            "Epoch 18/20\n",
            "3750/3750 [==============================] - 6s 2ms/step - loss: 0.2468 - accuracy: 0.9092\n",
            "Epoch 19/20\n",
            "3750/3750 [==============================] - 6s 2ms/step - loss: 0.2428 - accuracy: 0.9104\n",
            "Epoch 20/20\n",
            "3750/3750 [==============================] - 6s 2ms/step - loss: 0.2377 - accuracy: 0.9125\n",
            "Test score: 0.3368183672428131\n",
            "Test accuracy: 0.880299985408783\n"
          ],
          "name": "stdout"
        }
      ]
    },
    {
      "cell_type": "markdown",
      "metadata": {
        "id": "P5eI9ZtBh3bY",
        "colab_type": "text"
      },
      "source": [
        "# Learning Rate"
      ]
    },
    {
      "cell_type": "code",
      "metadata": {
        "id": "bv8pkzMEhXh5",
        "colab_type": "code",
        "colab": {}
      },
      "source": [
        "sgd_01 = optimizers.SGD(lr=0.1)\n",
        "sgd_001 = optimizers.SGD(lr=0.01)\n",
        "sgd_0001 = optimizers.SGD(lr=0.001)"
      ],
      "execution_count": 0,
      "outputs": []
    },
    {
      "cell_type": "code",
      "metadata": {
        "id": "4HCQbdX-9d9Y",
        "colab_type": "code",
        "colab": {
          "base_uri": "https://localhost:8080/",
          "height": 731
        },
        "outputId": "dc48b11f-7179-4519-936e-bec98dd8bf89"
      },
      "source": [
        "# 3-layer ANN with 128, 64, 10, using relu, SparseCategoricalCrossentropy, batch size 16, learning rate .1\n",
        "model = Sequential()\n",
        "# our first dense layer\n",
        "model.add(Dense(128, input_shape=(784,), activation=\"relu\"))\n",
        "# our second dense layer\n",
        "model.add(Dense(64, activation=\"relu\"))\n",
        "# our third dense layer\n",
        "model.add(Dense(10, activation=\"softmax\"))\n",
        "\n",
        "# Compiling the model\n",
        "model.compile(optimizer=sgd_01, loss=losses.SparseCategoricalCrossentropy(),\n",
        "              metrics=['accuracy'])\n",
        "\n",
        "# Training model\n",
        "model.fit(X_train, y_train, batch_size=64, epochs=20, verbose=1)\n",
        "\n",
        "# Evaluating the model\n",
        "score = model.evaluate(X_test, y_test, verbose=0)\n",
        "print('Test score:', score[0])\n",
        "print('Test accuracy:', score[1])"
      ],
      "execution_count": 31,
      "outputs": [
        {
          "output_type": "stream",
          "text": [
            "Epoch 1/20\n",
            "938/938 [==============================] - 2s 2ms/step - loss: 0.5852 - accuracy: 0.7897\n",
            "Epoch 2/20\n",
            "938/938 [==============================] - 2s 2ms/step - loss: 0.4135 - accuracy: 0.8490\n",
            "Epoch 3/20\n",
            "938/938 [==============================] - 2s 2ms/step - loss: 0.3718 - accuracy: 0.8634\n",
            "Epoch 4/20\n",
            "938/938 [==============================] - 2s 2ms/step - loss: 0.3448 - accuracy: 0.8745\n",
            "Epoch 5/20\n",
            "938/938 [==============================] - 2s 2ms/step - loss: 0.3252 - accuracy: 0.8796\n",
            "Epoch 6/20\n",
            "938/938 [==============================] - 2s 2ms/step - loss: 0.3088 - accuracy: 0.8856\n",
            "Epoch 7/20\n",
            "938/938 [==============================] - 2s 2ms/step - loss: 0.2970 - accuracy: 0.8909\n",
            "Epoch 8/20\n",
            "938/938 [==============================] - 2s 2ms/step - loss: 0.2853 - accuracy: 0.8946\n",
            "Epoch 9/20\n",
            "938/938 [==============================] - 2s 2ms/step - loss: 0.2768 - accuracy: 0.8977\n",
            "Epoch 10/20\n",
            "938/938 [==============================] - 2s 2ms/step - loss: 0.2660 - accuracy: 0.9010\n",
            "Epoch 11/20\n",
            "938/938 [==============================] - 2s 2ms/step - loss: 0.2598 - accuracy: 0.9037\n",
            "Epoch 12/20\n",
            "938/938 [==============================] - 2s 2ms/step - loss: 0.2510 - accuracy: 0.9051\n",
            "Epoch 13/20\n",
            "938/938 [==============================] - 2s 2ms/step - loss: 0.2453 - accuracy: 0.9077\n",
            "Epoch 14/20\n",
            "938/938 [==============================] - 2s 2ms/step - loss: 0.2407 - accuracy: 0.9094\n",
            "Epoch 15/20\n",
            "938/938 [==============================] - 2s 2ms/step - loss: 0.2322 - accuracy: 0.9114\n",
            "Epoch 16/20\n",
            "938/938 [==============================] - 2s 2ms/step - loss: 0.2282 - accuracy: 0.9138\n",
            "Epoch 17/20\n",
            "938/938 [==============================] - 2s 2ms/step - loss: 0.2231 - accuracy: 0.9176\n",
            "Epoch 18/20\n",
            "938/938 [==============================] - 2s 2ms/step - loss: 0.2169 - accuracy: 0.9196\n",
            "Epoch 19/20\n",
            "938/938 [==============================] - 2s 2ms/step - loss: 0.2121 - accuracy: 0.9204\n",
            "Epoch 20/20\n",
            "938/938 [==============================] - 2s 2ms/step - loss: 0.2068 - accuracy: 0.9223\n",
            "Test score: 0.3483850955963135\n",
            "Test accuracy: 0.8801000118255615\n"
          ],
          "name": "stdout"
        }
      ]
    },
    {
      "cell_type": "code",
      "metadata": {
        "id": "uu_XgdhLk53A",
        "colab_type": "code",
        "colab": {
          "base_uri": "https://localhost:8080/",
          "height": 731
        },
        "outputId": "1049e639-186e-4c87-d9c2-9eab987afb4e"
      },
      "source": [
        "# 3-layer ANN with 128, 64, 10, using relu, SparseCategoricalCrossentropy, batch size 16, learning rate .01\n",
        "model = Sequential()\n",
        "# our first dense layer\n",
        "model.add(Dense(128, input_shape=(784,), activation=\"relu\"))\n",
        "# our second dense layer\n",
        "model.add(Dense(64, activation=\"relu\"))\n",
        "# our third dense layer\n",
        "model.add(Dense(10, activation=\"softmax\"))\n",
        "\n",
        "# Compiling the model\n",
        "model.compile(optimizer=sgd_001, loss=losses.SparseCategoricalCrossentropy(),\n",
        "              metrics=['accuracy'])\n",
        "\n",
        "# Training model\n",
        "model.fit(X_train, y_train, batch_size=16, epochs=20, verbose=1)\n",
        "\n",
        "# Evaluating the model\n",
        "score = model.evaluate(X_test, y_test, verbose=0)\n",
        "print('Test score:', score[0])\n",
        "print('Test accuracy:', score[1])"
      ],
      "execution_count": 26,
      "outputs": [
        {
          "output_type": "stream",
          "text": [
            "Epoch 1/20\n",
            "3750/3750 [==============================] - 6s 2ms/step - loss: 0.6269 - accuracy: 0.7865\n",
            "Epoch 2/20\n",
            "3750/3750 [==============================] - 6s 2ms/step - loss: 0.4489 - accuracy: 0.8424\n",
            "Epoch 3/20\n",
            "3750/3750 [==============================] - 6s 2ms/step - loss: 0.4049 - accuracy: 0.8570\n",
            "Epoch 4/20\n",
            "3750/3750 [==============================] - 6s 2ms/step - loss: 0.3783 - accuracy: 0.8658\n",
            "Epoch 5/20\n",
            "3750/3750 [==============================] - 6s 2ms/step - loss: 0.3601 - accuracy: 0.8716\n",
            "Epoch 6/20\n",
            "3750/3750 [==============================] - 6s 2ms/step - loss: 0.3439 - accuracy: 0.8771\n",
            "Epoch 7/20\n",
            "3750/3750 [==============================] - 6s 2ms/step - loss: 0.3299 - accuracy: 0.8804\n",
            "Epoch 8/20\n",
            "3750/3750 [==============================] - 6s 2ms/step - loss: 0.3194 - accuracy: 0.8844\n",
            "Epoch 9/20\n",
            "3750/3750 [==============================] - 6s 2ms/step - loss: 0.3090 - accuracy: 0.8881\n",
            "Epoch 10/20\n",
            "3750/3750 [==============================] - 6s 2ms/step - loss: 0.3006 - accuracy: 0.8914\n",
            "Epoch 11/20\n",
            "3750/3750 [==============================] - 6s 2ms/step - loss: 0.2926 - accuracy: 0.8939\n",
            "Epoch 12/20\n",
            "3750/3750 [==============================] - 6s 2ms/step - loss: 0.2842 - accuracy: 0.8963\n",
            "Epoch 13/20\n",
            "3750/3750 [==============================] - 6s 2ms/step - loss: 0.2778 - accuracy: 0.8984\n",
            "Epoch 14/20\n",
            "3750/3750 [==============================] - 6s 2ms/step - loss: 0.2700 - accuracy: 0.9014\n",
            "Epoch 15/20\n",
            "3750/3750 [==============================] - 6s 2ms/step - loss: 0.2644 - accuracy: 0.9032\n",
            "Epoch 16/20\n",
            "3750/3750 [==============================] - 6s 2ms/step - loss: 0.2595 - accuracy: 0.9043\n",
            "Epoch 17/20\n",
            "3750/3750 [==============================] - 6s 2ms/step - loss: 0.2534 - accuracy: 0.9075\n",
            "Epoch 18/20\n",
            "3750/3750 [==============================] - 6s 2ms/step - loss: 0.2482 - accuracy: 0.9085\n",
            "Epoch 19/20\n",
            "3750/3750 [==============================] - 7s 2ms/step - loss: 0.2428 - accuracy: 0.9106\n",
            "Epoch 20/20\n",
            "3750/3750 [==============================] - 6s 2ms/step - loss: 0.2387 - accuracy: 0.9123\n",
            "Test score: 0.3297843933105469\n",
            "Test accuracy: 0.8873000144958496\n"
          ],
          "name": "stdout"
        }
      ]
    },
    {
      "cell_type": "code",
      "metadata": {
        "id": "fAf1_ck7k892",
        "colab_type": "code",
        "colab": {
          "base_uri": "https://localhost:8080/",
          "height": 731
        },
        "outputId": "58f7c654-b09c-4fb7-f8ca-22d4c5f83bcc"
      },
      "source": [
        "# 3-layer ANN with 128, 64, 10, using relu, SparseCategoricalCrossentropy, batch size 16, learning rate .001\n",
        "model = Sequential()\n",
        "# our first dense layer\n",
        "model.add(Dense(128, input_shape=(784,), activation=\"relu\"))\n",
        "# our second dense layer\n",
        "model.add(Dense(64, activation=\"relu\"))\n",
        "# our third dense layer\n",
        "model.add(Dense(10, activation=\"softmax\"))\n",
        "\n",
        "# Compiling the model\n",
        "model.compile(optimizer=sgd_0001, loss=losses.SparseCategoricalCrossentropy(),\n",
        "              metrics=['accuracy'])\n",
        "\n",
        "# Training model\n",
        "model.fit(X_train, y_train, batch_size=16, epochs=20, verbose=1)\n",
        "\n",
        "# Evaluating the model\n",
        "score = model.evaluate(X_test, y_test, verbose=0)\n",
        "print('Test score:', score[0])\n",
        "print('Test accuracy:', score[1])"
      ],
      "execution_count": 27,
      "outputs": [
        {
          "output_type": "stream",
          "text": [
            "Epoch 1/20\n",
            "3750/3750 [==============================] - 6s 2ms/step - loss: 1.2684 - accuracy: 0.6096\n",
            "Epoch 2/20\n",
            "3750/3750 [==============================] - 6s 2ms/step - loss: 0.7218 - accuracy: 0.7623\n",
            "Epoch 3/20\n",
            "3750/3750 [==============================] - 6s 2ms/step - loss: 0.6115 - accuracy: 0.7979\n",
            "Epoch 4/20\n",
            "3750/3750 [==============================] - 6s 2ms/step - loss: 0.5563 - accuracy: 0.8136\n",
            "Epoch 5/20\n",
            "3750/3750 [==============================] - 6s 2ms/step - loss: 0.5224 - accuracy: 0.8237\n",
            "Epoch 6/20\n",
            "3750/3750 [==============================] - 6s 2ms/step - loss: 0.4993 - accuracy: 0.8286\n",
            "Epoch 7/20\n",
            "3750/3750 [==============================] - 6s 2ms/step - loss: 0.4818 - accuracy: 0.8341\n",
            "Epoch 8/20\n",
            "3750/3750 [==============================] - 6s 2ms/step - loss: 0.4687 - accuracy: 0.8381\n",
            "Epoch 9/20\n",
            "3750/3750 [==============================] - 6s 2ms/step - loss: 0.4583 - accuracy: 0.8408\n",
            "Epoch 10/20\n",
            "3750/3750 [==============================] - 6s 2ms/step - loss: 0.4496 - accuracy: 0.8439\n",
            "Epoch 11/20\n",
            "3750/3750 [==============================] - 6s 2ms/step - loss: 0.4412 - accuracy: 0.8471\n",
            "Epoch 12/20\n",
            "3750/3750 [==============================] - 6s 2ms/step - loss: 0.4345 - accuracy: 0.8493\n",
            "Epoch 13/20\n",
            "3750/3750 [==============================] - 6s 2ms/step - loss: 0.4284 - accuracy: 0.8516\n",
            "Epoch 14/20\n",
            "3750/3750 [==============================] - 6s 2ms/step - loss: 0.4225 - accuracy: 0.8523\n",
            "Epoch 15/20\n",
            "3750/3750 [==============================] - 6s 2ms/step - loss: 0.4170 - accuracy: 0.8557\n",
            "Epoch 16/20\n",
            "3750/3750 [==============================] - 6s 2ms/step - loss: 0.4123 - accuracy: 0.8575\n",
            "Epoch 17/20\n",
            "3750/3750 [==============================] - 6s 2ms/step - loss: 0.4074 - accuracy: 0.8591\n",
            "Epoch 18/20\n",
            "3750/3750 [==============================] - 6s 2ms/step - loss: 0.4032 - accuracy: 0.8605\n",
            "Epoch 19/20\n",
            "3750/3750 [==============================] - 6s 2ms/step - loss: 0.3995 - accuracy: 0.8615\n",
            "Epoch 20/20\n",
            "3750/3750 [==============================] - 6s 2ms/step - loss: 0.3959 - accuracy: 0.8627\n",
            "Test score: 0.4308266043663025\n",
            "Test accuracy: 0.8485000133514404\n"
          ],
          "name": "stdout"
        }
      ]
    },
    {
      "cell_type": "markdown",
      "metadata": {
        "id": "OZPWSFcxqr4W",
        "colab_type": "text"
      },
      "source": [
        "A learning rate of 0.01 seems to be optimum\n",
        "\n",
        "---\n",
        "\n",
        "# Layers\n",
        "\n",
        "Let's see if a reduction or increase in layers improves the performance"
      ]
    },
    {
      "cell_type": "code",
      "metadata": {
        "id": "HXSU3IKQqqvw",
        "colab_type": "code",
        "colab": {
          "base_uri": "https://localhost:8080/",
          "height": 731
        },
        "outputId": "b39e493c-06ad-4fd2-ed30-a2020991ce66"
      },
      "source": [
        "# 2-layer ANN with 128,, 10, using relu, SparseCategoricalCrossentropy, batch size 16, learning rate .1\n",
        "model = Sequential()\n",
        "# our first dense layer\n",
        "model.add(Dense(128, input_shape=(784,), activation=\"relu\"))\n",
        "# our second dense layer\n",
        "model.add(Dense(10, activation=\"softmax\"))\n",
        "\n",
        "# Compiling the model\n",
        "model.compile(optimizer=sgd_001, loss=losses.SparseCategoricalCrossentropy(),\n",
        "              metrics=['accuracy'])\n",
        "\n",
        "# Training model\n",
        "model.fit(X_train, y_train, batch_size=64, epochs=20, verbose=1)\n",
        "\n",
        "# Evaluating the model\n",
        "score = model.evaluate(X_test, y_test, verbose=0)\n",
        "print('Test score:', score[0])\n",
        "print('Test accuracy:', score[1])"
      ],
      "execution_count": 32,
      "outputs": [
        {
          "output_type": "stream",
          "text": [
            "Epoch 1/20\n",
            "938/938 [==============================] - 2s 2ms/step - loss: 0.8909 - accuracy: 0.7243\n",
            "Epoch 2/20\n",
            "938/938 [==============================] - 2s 2ms/step - loss: 0.5827 - accuracy: 0.8077\n",
            "Epoch 3/20\n",
            "938/938 [==============================] - 2s 2ms/step - loss: 0.5224 - accuracy: 0.8250\n",
            "Epoch 4/20\n",
            "938/938 [==============================] - 2s 2ms/step - loss: 0.4903 - accuracy: 0.8334\n",
            "Epoch 5/20\n",
            "938/938 [==============================] - 2s 2ms/step - loss: 0.4690 - accuracy: 0.8389\n",
            "Epoch 6/20\n",
            "938/938 [==============================] - 2s 2ms/step - loss: 0.4528 - accuracy: 0.8447\n",
            "Epoch 7/20\n",
            "938/938 [==============================] - 2s 2ms/step - loss: 0.4403 - accuracy: 0.8489\n",
            "Epoch 8/20\n",
            "938/938 [==============================] - 2s 2ms/step - loss: 0.4300 - accuracy: 0.8516\n",
            "Epoch 9/20\n",
            "938/938 [==============================] - 2s 2ms/step - loss: 0.4212 - accuracy: 0.8545\n",
            "Epoch 10/20\n",
            "938/938 [==============================] - 2s 2ms/step - loss: 0.4135 - accuracy: 0.8573\n",
            "Epoch 11/20\n",
            "938/938 [==============================] - 2s 2ms/step - loss: 0.4058 - accuracy: 0.8606\n",
            "Epoch 12/20\n",
            "938/938 [==============================] - 2s 2ms/step - loss: 0.3997 - accuracy: 0.8616\n",
            "Epoch 13/20\n",
            "938/938 [==============================] - 2s 2ms/step - loss: 0.3946 - accuracy: 0.8628\n",
            "Epoch 14/20\n",
            "938/938 [==============================] - 2s 2ms/step - loss: 0.3881 - accuracy: 0.8661\n",
            "Epoch 15/20\n",
            "938/938 [==============================] - 2s 2ms/step - loss: 0.3834 - accuracy: 0.8662\n",
            "Epoch 16/20\n",
            "938/938 [==============================] - 2s 2ms/step - loss: 0.3790 - accuracy: 0.8689\n",
            "Epoch 17/20\n",
            "938/938 [==============================] - 2s 2ms/step - loss: 0.3742 - accuracy: 0.8696\n",
            "Epoch 18/20\n",
            "938/938 [==============================] - 2s 2ms/step - loss: 0.3701 - accuracy: 0.8717\n",
            "Epoch 19/20\n",
            "938/938 [==============================] - 2s 2ms/step - loss: 0.3663 - accuracy: 0.8728\n",
            "Epoch 20/20\n",
            "938/938 [==============================] - 2s 2ms/step - loss: 0.3630 - accuracy: 0.8736\n",
            "Test score: 0.4005228877067566\n",
            "Test accuracy: 0.8593999743461609\n"
          ],
          "name": "stdout"
        }
      ]
    },
    {
      "cell_type": "code",
      "metadata": {
        "id": "cNaj7dmWt1Jx",
        "colab_type": "code",
        "colab": {
          "base_uri": "https://localhost:8080/",
          "height": 731
        },
        "outputId": "5013f054-37f2-48b7-bf32-b9a89c3e04de"
      },
      "source": [
        "# 4-layer ANN with 1280,128,64, 10, using relu, SparseCategoricalCrossentropy, batch size 16, learning rate .1\n",
        "model = Sequential()\n",
        "# our first dense layer\n",
        "model.add(Dense(1280, input_shape=(784,), activation=\"relu\"))\n",
        "# our second dense layer\n",
        "model.add(Dense(128, input_shape=(784,), activation=\"relu\"))\n",
        "# third dense layer\n",
        "model.add(Dense(64, input_shape=(784,), activation=\"relu\"))\n",
        "# fourth dense layer\n",
        "model.add(Dense(10, activation=\"softmax\"))\n",
        "\n",
        "# Compiling the model\n",
        "model.compile(optimizer=sgd_001, loss=losses.SparseCategoricalCrossentropy(),\n",
        "              metrics=['accuracy'])\n",
        "\n",
        "# Training model\n",
        "model.fit(X_train, y_train, batch_size=64, epochs=20, verbose=1)\n",
        "\n",
        "# Evaluating the model\n",
        "score = model.evaluate(X_test, y_test, verbose=0)\n",
        "print('Test score:', score[0])\n",
        "print('Test accuracy:', score[1])"
      ],
      "execution_count": 33,
      "outputs": [
        {
          "output_type": "stream",
          "text": [
            "Epoch 1/20\n",
            "938/938 [==============================] - 10s 10ms/step - loss: 0.8072 - accuracy: 0.7388\n",
            "Epoch 2/20\n",
            "938/938 [==============================] - 9s 10ms/step - loss: 0.5069 - accuracy: 0.8229\n",
            "Epoch 3/20\n",
            "938/938 [==============================] - 9s 10ms/step - loss: 0.4569 - accuracy: 0.8399\n",
            "Epoch 4/20\n",
            "938/938 [==============================] - 9s 10ms/step - loss: 0.4282 - accuracy: 0.8500\n",
            "Epoch 5/20\n",
            "938/938 [==============================] - 9s 10ms/step - loss: 0.4057 - accuracy: 0.8579\n",
            "Epoch 6/20\n",
            "938/938 [==============================] - 9s 10ms/step - loss: 0.3891 - accuracy: 0.8646\n",
            "Epoch 7/20\n",
            "938/938 [==============================] - 9s 10ms/step - loss: 0.3748 - accuracy: 0.8684\n",
            "Epoch 8/20\n",
            "938/938 [==============================] - 9s 10ms/step - loss: 0.3626 - accuracy: 0.8724\n",
            "Epoch 9/20\n",
            "938/938 [==============================] - 9s 10ms/step - loss: 0.3513 - accuracy: 0.8756\n",
            "Epoch 10/20\n",
            "938/938 [==============================] - 9s 10ms/step - loss: 0.3426 - accuracy: 0.8785\n",
            "Epoch 11/20\n",
            "938/938 [==============================] - 9s 10ms/step - loss: 0.3329 - accuracy: 0.8812\n",
            "Epoch 12/20\n",
            "938/938 [==============================] - 9s 10ms/step - loss: 0.3236 - accuracy: 0.8856\n",
            "Epoch 13/20\n",
            "938/938 [==============================] - 9s 10ms/step - loss: 0.3177 - accuracy: 0.8868\n",
            "Epoch 14/20\n",
            "938/938 [==============================] - 9s 10ms/step - loss: 0.3090 - accuracy: 0.8895\n",
            "Epoch 15/20\n",
            "938/938 [==============================] - 9s 10ms/step - loss: 0.3020 - accuracy: 0.8913\n",
            "Epoch 16/20\n",
            "938/938 [==============================] - 9s 10ms/step - loss: 0.2966 - accuracy: 0.8935\n",
            "Epoch 17/20\n",
            "938/938 [==============================] - 9s 10ms/step - loss: 0.2891 - accuracy: 0.8960\n",
            "Epoch 18/20\n",
            "938/938 [==============================] - 9s 10ms/step - loss: 0.2845 - accuracy: 0.8974\n",
            "Epoch 19/20\n",
            "938/938 [==============================] - 9s 10ms/step - loss: 0.2775 - accuracy: 0.9010\n",
            "Epoch 20/20\n",
            "938/938 [==============================] - 9s 10ms/step - loss: 0.2724 - accuracy: 0.9016\n",
            "Test score: 0.3352808356285095\n",
            "Test accuracy: 0.8812999725341797\n"
          ],
          "name": "stdout"
        }
      ]
    },
    {
      "cell_type": "markdown",
      "metadata": {
        "id": "vGzUI-THSi-B",
        "colab_type": "text"
      },
      "source": [
        "### Conclusion\n",
        "\n",
        "The best performing algorithm looks to be 3-layer ANN with 128, 64, 10, using relu, SparseCategoricalCrossentropy, learning rate .01, and batch size 16\n",
        "\n",
        "\n"
      ]
    }
  ]
}