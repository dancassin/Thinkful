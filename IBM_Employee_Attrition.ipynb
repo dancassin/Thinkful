{
  "nbformat": 4,
  "nbformat_minor": 0,
  "metadata": {
    "colab": {
      "name": "IBM Employee Attrition",
      "provenance": [],
      "collapsed_sections": []
    },
    "kernelspec": {
      "name": "python3",
      "display_name": "Python 3"
    }
  },
  "cells": [
    {
      "cell_type": "markdown",
      "metadata": {
        "id": "5irKBj2D1V4V",
        "colab_type": "text"
      },
      "source": [
        "##For this analysis I will be using the IBM Employee Attrition and Performance Data Set from Kaggle and proposing the following questions:"
      ]
    },
    {
      "cell_type": "markdown",
      "metadata": {
        "id": "1pOaIv7N1Xyw",
        "colab_type": "text"
      },
      "source": [
        "##Research Questions:\n",
        "###1. Does Relationship Satisfaction have any bearing on Job Satisfaction?\n",
        "\n",
        "###2. Does Hourly Rate have any bearing on Attrition?\n",
        "\n",
        "###3. Does a higher number of years in company and higher number of years since last promotion lead to attrition? \n",
        "\n"
      ]
    },
    {
      "cell_type": "code",
      "metadata": {
        "id": "XIOTKbDA0oI_",
        "colab_type": "code",
        "colab": {}
      },
      "source": [
        "#importing dependences\n",
        "import pandas as pd\n",
        "import numpy as np\n",
        "from scipy import stats\n",
        "import matplotlib.pyplot as plt\n",
        "import seaborn as sns\n",
        "import math\n",
        "\n",
        "sns.set_style('dark')\n",
        "plt.style.use('dark_background')"
      ],
      "execution_count": 0,
      "outputs": []
    },
    {
      "cell_type": "code",
      "metadata": {
        "id": "9PWNM-ge0kuc",
        "colab_type": "code",
        "colab": {}
      },
      "source": [
        "#creating DF\n",
        "df = pd.read_csv('https://raw.githubusercontent.com/dancassin/DATA/master/WA_Fn-UseC_-HR-Employee-Attrition.csv')"
      ],
      "execution_count": 0,
      "outputs": []
    },
    {
      "cell_type": "markdown",
      "metadata": {
        "id": "6gvLzSnZ1teq",
        "colab_type": "text"
      },
      "source": [
        "Let's begin inspecting the DF"
      ]
    },
    {
      "cell_type": "code",
      "metadata": {
        "id": "656vPavd03xe",
        "colab_type": "code",
        "outputId": "f954c8df-f292-4da8-ecb9-7c72721cb590",
        "colab": {
          "base_uri": "https://localhost:8080/",
          "height": 731
        }
      },
      "source": [
        "df.info()"
      ],
      "execution_count": 10,
      "outputs": [
        {
          "output_type": "stream",
          "text": [
            "<class 'pandas.core.frame.DataFrame'>\n",
            "RangeIndex: 1470 entries, 0 to 1469\n",
            "Data columns (total 35 columns):\n",
            " #   Column                    Non-Null Count  Dtype \n",
            "---  ------                    --------------  ----- \n",
            " 0   Age                       1470 non-null   int64 \n",
            " 1   Attrition                 1470 non-null   object\n",
            " 2   BusinessTravel            1470 non-null   object\n",
            " 3   DailyRate                 1470 non-null   int64 \n",
            " 4   Department                1470 non-null   object\n",
            " 5   DistanceFromHome          1470 non-null   int64 \n",
            " 6   Education                 1470 non-null   int64 \n",
            " 7   EducationField            1470 non-null   object\n",
            " 8   EmployeeCount             1470 non-null   int64 \n",
            " 9   EmployeeNumber            1470 non-null   int64 \n",
            " 10  EnvironmentSatisfaction   1470 non-null   int64 \n",
            " 11  Gender                    1470 non-null   object\n",
            " 12  HourlyRate                1470 non-null   int64 \n",
            " 13  JobInvolvement            1470 non-null   int64 \n",
            " 14  JobLevel                  1470 non-null   int64 \n",
            " 15  JobRole                   1470 non-null   object\n",
            " 16  JobSatisfaction           1470 non-null   int64 \n",
            " 17  MaritalStatus             1470 non-null   object\n",
            " 18  MonthlyIncome             1470 non-null   int64 \n",
            " 19  MonthlyRate               1470 non-null   int64 \n",
            " 20  NumCompaniesWorked        1470 non-null   int64 \n",
            " 21  Over18                    1470 non-null   object\n",
            " 22  OverTime                  1470 non-null   object\n",
            " 23  PercentSalaryHike         1470 non-null   int64 \n",
            " 24  PerformanceRating         1470 non-null   int64 \n",
            " 25  RelationshipSatisfaction  1470 non-null   int64 \n",
            " 26  StandardHours             1470 non-null   int64 \n",
            " 27  StockOptionLevel          1470 non-null   int64 \n",
            " 28  TotalWorkingYears         1470 non-null   int64 \n",
            " 29  TrainingTimesLastYear     1470 non-null   int64 \n",
            " 30  WorkLifeBalance           1470 non-null   int64 \n",
            " 31  YearsAtCompany            1470 non-null   int64 \n",
            " 32  YearsInCurrentRole        1470 non-null   int64 \n",
            " 33  YearsSinceLastPromotion   1470 non-null   int64 \n",
            " 34  YearsWithCurrManager      1470 non-null   int64 \n",
            "dtypes: int64(26), object(9)\n",
            "memory usage: 402.1+ KB\n"
          ],
          "name": "stdout"
        }
      ]
    },
    {
      "cell_type": "code",
      "metadata": {
        "id": "dAjhn4U21CnU",
        "colab_type": "code",
        "outputId": "3d1492ba-c905-48c3-dade-102fee0927aa",
        "colab": {
          "base_uri": "https://localhost:8080/",
          "height": 309
        }
      },
      "source": [
        "df.head()"
      ],
      "execution_count": 11,
      "outputs": [
        {
          "output_type": "execute_result",
          "data": {
            "text/html": [
              "<div>\n",
              "<style scoped>\n",
              "    .dataframe tbody tr th:only-of-type {\n",
              "        vertical-align: middle;\n",
              "    }\n",
              "\n",
              "    .dataframe tbody tr th {\n",
              "        vertical-align: top;\n",
              "    }\n",
              "\n",
              "    .dataframe thead th {\n",
              "        text-align: right;\n",
              "    }\n",
              "</style>\n",
              "<table border=\"1\" class=\"dataframe\">\n",
              "  <thead>\n",
              "    <tr style=\"text-align: right;\">\n",
              "      <th></th>\n",
              "      <th>Age</th>\n",
              "      <th>Attrition</th>\n",
              "      <th>BusinessTravel</th>\n",
              "      <th>DailyRate</th>\n",
              "      <th>Department</th>\n",
              "      <th>DistanceFromHome</th>\n",
              "      <th>Education</th>\n",
              "      <th>EducationField</th>\n",
              "      <th>EmployeeCount</th>\n",
              "      <th>EmployeeNumber</th>\n",
              "      <th>EnvironmentSatisfaction</th>\n",
              "      <th>Gender</th>\n",
              "      <th>HourlyRate</th>\n",
              "      <th>JobInvolvement</th>\n",
              "      <th>JobLevel</th>\n",
              "      <th>JobRole</th>\n",
              "      <th>JobSatisfaction</th>\n",
              "      <th>MaritalStatus</th>\n",
              "      <th>MonthlyIncome</th>\n",
              "      <th>MonthlyRate</th>\n",
              "      <th>NumCompaniesWorked</th>\n",
              "      <th>Over18</th>\n",
              "      <th>OverTime</th>\n",
              "      <th>PercentSalaryHike</th>\n",
              "      <th>PerformanceRating</th>\n",
              "      <th>RelationshipSatisfaction</th>\n",
              "      <th>StandardHours</th>\n",
              "      <th>StockOptionLevel</th>\n",
              "      <th>TotalWorkingYears</th>\n",
              "      <th>TrainingTimesLastYear</th>\n",
              "      <th>WorkLifeBalance</th>\n",
              "      <th>YearsAtCompany</th>\n",
              "      <th>YearsInCurrentRole</th>\n",
              "      <th>YearsSinceLastPromotion</th>\n",
              "      <th>YearsWithCurrManager</th>\n",
              "    </tr>\n",
              "  </thead>\n",
              "  <tbody>\n",
              "    <tr>\n",
              "      <th>0</th>\n",
              "      <td>41</td>\n",
              "      <td>Yes</td>\n",
              "      <td>Travel_Rarely</td>\n",
              "      <td>1102</td>\n",
              "      <td>Sales</td>\n",
              "      <td>1</td>\n",
              "      <td>2</td>\n",
              "      <td>Life Sciences</td>\n",
              "      <td>1</td>\n",
              "      <td>1</td>\n",
              "      <td>2</td>\n",
              "      <td>Female</td>\n",
              "      <td>94</td>\n",
              "      <td>3</td>\n",
              "      <td>2</td>\n",
              "      <td>Sales Executive</td>\n",
              "      <td>4</td>\n",
              "      <td>Single</td>\n",
              "      <td>5993</td>\n",
              "      <td>19479</td>\n",
              "      <td>8</td>\n",
              "      <td>Y</td>\n",
              "      <td>Yes</td>\n",
              "      <td>11</td>\n",
              "      <td>3</td>\n",
              "      <td>1</td>\n",
              "      <td>80</td>\n",
              "      <td>0</td>\n",
              "      <td>8</td>\n",
              "      <td>0</td>\n",
              "      <td>1</td>\n",
              "      <td>6</td>\n",
              "      <td>4</td>\n",
              "      <td>0</td>\n",
              "      <td>5</td>\n",
              "    </tr>\n",
              "    <tr>\n",
              "      <th>1</th>\n",
              "      <td>49</td>\n",
              "      <td>No</td>\n",
              "      <td>Travel_Frequently</td>\n",
              "      <td>279</td>\n",
              "      <td>Research &amp; Development</td>\n",
              "      <td>8</td>\n",
              "      <td>1</td>\n",
              "      <td>Life Sciences</td>\n",
              "      <td>1</td>\n",
              "      <td>2</td>\n",
              "      <td>3</td>\n",
              "      <td>Male</td>\n",
              "      <td>61</td>\n",
              "      <td>2</td>\n",
              "      <td>2</td>\n",
              "      <td>Research Scientist</td>\n",
              "      <td>2</td>\n",
              "      <td>Married</td>\n",
              "      <td>5130</td>\n",
              "      <td>24907</td>\n",
              "      <td>1</td>\n",
              "      <td>Y</td>\n",
              "      <td>No</td>\n",
              "      <td>23</td>\n",
              "      <td>4</td>\n",
              "      <td>4</td>\n",
              "      <td>80</td>\n",
              "      <td>1</td>\n",
              "      <td>10</td>\n",
              "      <td>3</td>\n",
              "      <td>3</td>\n",
              "      <td>10</td>\n",
              "      <td>7</td>\n",
              "      <td>1</td>\n",
              "      <td>7</td>\n",
              "    </tr>\n",
              "    <tr>\n",
              "      <th>2</th>\n",
              "      <td>37</td>\n",
              "      <td>Yes</td>\n",
              "      <td>Travel_Rarely</td>\n",
              "      <td>1373</td>\n",
              "      <td>Research &amp; Development</td>\n",
              "      <td>2</td>\n",
              "      <td>2</td>\n",
              "      <td>Other</td>\n",
              "      <td>1</td>\n",
              "      <td>4</td>\n",
              "      <td>4</td>\n",
              "      <td>Male</td>\n",
              "      <td>92</td>\n",
              "      <td>2</td>\n",
              "      <td>1</td>\n",
              "      <td>Laboratory Technician</td>\n",
              "      <td>3</td>\n",
              "      <td>Single</td>\n",
              "      <td>2090</td>\n",
              "      <td>2396</td>\n",
              "      <td>6</td>\n",
              "      <td>Y</td>\n",
              "      <td>Yes</td>\n",
              "      <td>15</td>\n",
              "      <td>3</td>\n",
              "      <td>2</td>\n",
              "      <td>80</td>\n",
              "      <td>0</td>\n",
              "      <td>7</td>\n",
              "      <td>3</td>\n",
              "      <td>3</td>\n",
              "      <td>0</td>\n",
              "      <td>0</td>\n",
              "      <td>0</td>\n",
              "      <td>0</td>\n",
              "    </tr>\n",
              "    <tr>\n",
              "      <th>3</th>\n",
              "      <td>33</td>\n",
              "      <td>No</td>\n",
              "      <td>Travel_Frequently</td>\n",
              "      <td>1392</td>\n",
              "      <td>Research &amp; Development</td>\n",
              "      <td>3</td>\n",
              "      <td>4</td>\n",
              "      <td>Life Sciences</td>\n",
              "      <td>1</td>\n",
              "      <td>5</td>\n",
              "      <td>4</td>\n",
              "      <td>Female</td>\n",
              "      <td>56</td>\n",
              "      <td>3</td>\n",
              "      <td>1</td>\n",
              "      <td>Research Scientist</td>\n",
              "      <td>3</td>\n",
              "      <td>Married</td>\n",
              "      <td>2909</td>\n",
              "      <td>23159</td>\n",
              "      <td>1</td>\n",
              "      <td>Y</td>\n",
              "      <td>Yes</td>\n",
              "      <td>11</td>\n",
              "      <td>3</td>\n",
              "      <td>3</td>\n",
              "      <td>80</td>\n",
              "      <td>0</td>\n",
              "      <td>8</td>\n",
              "      <td>3</td>\n",
              "      <td>3</td>\n",
              "      <td>8</td>\n",
              "      <td>7</td>\n",
              "      <td>3</td>\n",
              "      <td>0</td>\n",
              "    </tr>\n",
              "    <tr>\n",
              "      <th>4</th>\n",
              "      <td>27</td>\n",
              "      <td>No</td>\n",
              "      <td>Travel_Rarely</td>\n",
              "      <td>591</td>\n",
              "      <td>Research &amp; Development</td>\n",
              "      <td>2</td>\n",
              "      <td>1</td>\n",
              "      <td>Medical</td>\n",
              "      <td>1</td>\n",
              "      <td>7</td>\n",
              "      <td>1</td>\n",
              "      <td>Male</td>\n",
              "      <td>40</td>\n",
              "      <td>3</td>\n",
              "      <td>1</td>\n",
              "      <td>Laboratory Technician</td>\n",
              "      <td>2</td>\n",
              "      <td>Married</td>\n",
              "      <td>3468</td>\n",
              "      <td>16632</td>\n",
              "      <td>9</td>\n",
              "      <td>Y</td>\n",
              "      <td>No</td>\n",
              "      <td>12</td>\n",
              "      <td>3</td>\n",
              "      <td>4</td>\n",
              "      <td>80</td>\n",
              "      <td>1</td>\n",
              "      <td>6</td>\n",
              "      <td>3</td>\n",
              "      <td>3</td>\n",
              "      <td>2</td>\n",
              "      <td>2</td>\n",
              "      <td>2</td>\n",
              "      <td>2</td>\n",
              "    </tr>\n",
              "  </tbody>\n",
              "</table>\n",
              "</div>"
            ],
            "text/plain": [
              "   Age Attrition  ... YearsSinceLastPromotion  YearsWithCurrManager\n",
              "0   41       Yes  ...                       0                     5\n",
              "1   49        No  ...                       1                     7\n",
              "2   37       Yes  ...                       0                     0\n",
              "3   33        No  ...                       3                     0\n",
              "4   27        No  ...                       2                     2\n",
              "\n",
              "[5 rows x 35 columns]"
            ]
          },
          "metadata": {
            "tags": []
          },
          "execution_count": 11
        }
      ]
    },
    {
      "cell_type": "markdown",
      "metadata": {
        "id": "rdtsERDc2_8e",
        "colab_type": "text"
      },
      "source": [
        "There are no nulls to handle, and for our questions the data does not need to be cleaned."
      ]
    },
    {
      "cell_type": "markdown",
      "metadata": {
        "id": "SNj0RrvR211S",
        "colab_type": "text"
      },
      "source": [
        "---\n",
        "##1. Does Relationship Satisfaction have any bearing on Job Satisfaction?\n",
        "For our first question, let's look at the distributions of RelationshipSatisfaction and JobSatisfaction"
      ]
    },
    {
      "cell_type": "code",
      "metadata": {
        "id": "itNptqcu3mpa",
        "colab_type": "code",
        "outputId": "e13c1dbb-5ebe-45ed-f472-a8a1a7356bb3",
        "colab": {
          "base_uri": "https://localhost:8080/",
          "height": 698
        }
      },
      "source": [
        "fig, ax = plt.subplots(2,2, figsize=(10,10))\n",
        "\n",
        "df['JobSatisfaction'].hist(by = df['RelationshipSatisfaction'], ax=ax, color='magenta', alpha=.7);\n",
        "status = ['Low', 'Medium', 'High','Very High']\n",
        "\n",
        "k=0\n",
        "n=0\n",
        "for i in status:\n",
        "  ax[n][k].set(title='Relationship Satisfaction: '+ i, xticks=np.arange(1,5), \n",
        "               xlabel='Job Satisfaction', ylabel='Count')\n",
        "  ax[n][k].set_xticklabels(status, rotation=90)\n",
        "  if k <1:\n",
        "    k+=1\n",
        "  elif k==1:\n",
        "    k=0\n",
        "    n=1\n",
        "plt.suptitle('Job Satisfaction by Relationship Satisfaction', fontsize=20);\n"
      ],
      "execution_count": 14,
      "outputs": [
        {
          "output_type": "display_data",
          "data": {
            "image/png": "[encoded data removed]",
            "text/plain": [
              "<Figure size 720x720 with 4 Axes>"
            ]
          },
          "metadata": {
            "tags": []
          }
        }
      ]
    },
    {
      "cell_type": "markdown",
      "metadata": {
        "id": "y0vWh32D_6cY",
        "colab_type": "text"
      },
      "source": [
        "These are samples of ordinal data, so nothing will be perfectly \"normal\". We will do a Kruskal Wallis test to see if the medians are different."
      ]
    },
    {
      "cell_type": "code",
      "metadata": {
        "id": "nRbjfI0B4l8T",
        "colab_type": "code",
        "colab": {}
      },
      "source": [
        "#split into 4 DFs based on Relationship Satisfaction rating\n",
        "df_poor_RS = df[df['RelationshipSatisfaction']==1]\n",
        "df_okay_RS = df[df['RelationshipSatisfaction']==2]\n",
        "df_good_RS = df[df['RelationshipSatisfaction']==3]\n",
        "df_vgood_RS = df[df['RelationshipSatisfaction']==4]"
      ],
      "execution_count": 0,
      "outputs": []
    },
    {
      "cell_type": "code",
      "metadata": {
        "id": "9AlTDmrFAIfH",
        "colab_type": "code",
        "outputId": "b2fce31c-7cdf-4921-ace6-f303781fa6d2",
        "colab": {
          "base_uri": "https://localhost:8080/",
          "height": 34
        }
      },
      "source": [
        "#compare median Job Satisfaction of all 4 DFs\n",
        "stats.kruskal(df_poor_RS['JobSatisfaction'],\n",
        "              df_okay_RS['JobSatisfaction'],\n",
        "              df_good_RS['JobSatisfaction'],\n",
        "              df_vgood_RS['JobSatisfaction'])"
      ],
      "execution_count": 0,
      "outputs": [
        {
          "output_type": "execute_result",
          "data": {
            "text/plain": [
              "KruskalResult(statistic=1.5159401735249394, pvalue=0.678596263523898)"
            ]
          },
          "metadata": {
            "tags": []
          },
          "execution_count": 19
        }
      ]
    },
    {
      "cell_type": "markdown",
      "metadata": {
        "id": "fEwVYxcUB1Qb",
        "colab_type": "text"
      },
      "source": [
        "##**Q1 RESULT**\n",
        "\n",
        "The p-value is not significant, therefore we cannot reject the null hypothesis. The medians do not differ enough from one another to say that Relationship Satisfaction has any bearing on Job Satisfaction. "
      ]
    },
    {
      "cell_type": "markdown",
      "metadata": {
        "id": "aN89tvjBCoEi",
        "colab_type": "text"
      },
      "source": [
        "---\n",
        "\n",
        "##2. Does hourly rate have any bearing on attrition?\n",
        "For our first question, let's inspect the columns before proceeding"
      ]
    },
    {
      "cell_type": "code",
      "metadata": {
        "id": "EN7PqfG8C8Pr",
        "colab_type": "code",
        "outputId": "21a8c7bd-2556-4bee-e9f5-161d602ba907",
        "colab": {
          "base_uri": "https://localhost:8080/",
          "height": 357
        }
      },
      "source": [
        "df_HrRate = df[['HourlyRate', 'Attrition']]\n",
        "\n",
        "print(df_HrRate.describe())\n",
        "df_HrRate.head()"
      ],
      "execution_count": 0,
      "outputs": [
        {
          "output_type": "stream",
          "text": [
            "        HourlyRate\n",
            "count  1470.000000\n",
            "mean     65.891156\n",
            "std      20.329428\n",
            "min      30.000000\n",
            "25%      48.000000\n",
            "50%      66.000000\n",
            "75%      83.750000\n",
            "max     100.000000\n"
          ],
          "name": "stdout"
        },
        {
          "output_type": "execute_result",
          "data": {
            "text/html": [
              "<div>\n",
              "<style scoped>\n",
              "    .dataframe tbody tr th:only-of-type {\n",
              "        vertical-align: middle;\n",
              "    }\n",
              "\n",
              "    .dataframe tbody tr th {\n",
              "        vertical-align: top;\n",
              "    }\n",
              "\n",
              "    .dataframe thead th {\n",
              "        text-align: right;\n",
              "    }\n",
              "</style>\n",
              "<table border=\"1\" class=\"dataframe\">\n",
              "  <thead>\n",
              "    <tr style=\"text-align: right;\">\n",
              "      <th></th>\n",
              "      <th>HourlyRate</th>\n",
              "      <th>Attrition</th>\n",
              "    </tr>\n",
              "  </thead>\n",
              "  <tbody>\n",
              "    <tr>\n",
              "      <th>0</th>\n",
              "      <td>94</td>\n",
              "      <td>Yes</td>\n",
              "    </tr>\n",
              "    <tr>\n",
              "      <th>1</th>\n",
              "      <td>61</td>\n",
              "      <td>No</td>\n",
              "    </tr>\n",
              "    <tr>\n",
              "      <th>2</th>\n",
              "      <td>92</td>\n",
              "      <td>Yes</td>\n",
              "    </tr>\n",
              "    <tr>\n",
              "      <th>3</th>\n",
              "      <td>56</td>\n",
              "      <td>No</td>\n",
              "    </tr>\n",
              "    <tr>\n",
              "      <th>4</th>\n",
              "      <td>40</td>\n",
              "      <td>No</td>\n",
              "    </tr>\n",
              "  </tbody>\n",
              "</table>\n",
              "</div>"
            ],
            "text/plain": [
              "   HourlyRate Attrition\n",
              "0          94       Yes\n",
              "1          61        No\n",
              "2          92       Yes\n",
              "3          56        No\n",
              "4          40        No"
            ]
          },
          "metadata": {
            "tags": []
          },
          "execution_count": 20
        }
      ]
    },
    {
      "cell_type": "markdown",
      "metadata": {
        "id": "7OUberOZPjab",
        "colab_type": "text"
      },
      "source": [
        "Now let's split our df into those who have and have not left the company, and plot the histograms of hourly rates for each:"
      ]
    },
    {
      "cell_type": "code",
      "metadata": {
        "id": "kScbHKERP7_x",
        "colab_type": "code",
        "colab": {}
      },
      "source": [
        "df_HrRate_AttY = df_HrRate[df_HrRate['Attrition']=='Yes']\n",
        "df_HrRate_AttN = df_HrRate[df_HrRate['Attrition']=='No']"
      ],
      "execution_count": 0,
      "outputs": []
    },
    {
      "cell_type": "code",
      "metadata": {
        "id": "1XAIHZzzQUwC",
        "colab_type": "code",
        "outputId": "d5cba449-355d-40b6-bb62-383a75858b6f",
        "colab": {
          "base_uri": "https://localhost:8080/",
          "height": 358
        }
      },
      "source": [
        "fig,ax = plt.subplots(figsize=(10,5))\n",
        "\n",
        "plt.hist(df_HrRate_AttN['HourlyRate'], alpha=.7, color='Teal', label='No')\n",
        "plt.hist(df_HrRate_AttY['HourlyRate'], alpha=.7, color='Magenta', label='Yes')\n",
        "\n",
        "plt.title('Dispersion of Hourly Rates by Attrition', fontsize=18)\n",
        "plt.legend(title='Leave IBM?')\n",
        "ax.set_xlabel('Hourly Rate', fontsize=14)\n",
        "ax.set_ylabel('Count', fontsize=14);"
      ],
      "execution_count": 0,
      "outputs": [
        {
          "output_type": "display_data",
          "data": {
            "image/png": "[encoded data removed]",
            "text/plain": [
              "<Figure size 720x360 with 1 Axes>"
            ]
          },
          "metadata": {
            "tags": []
          }
        }
      ]
    },
    {
      "cell_type": "markdown",
      "metadata": {
        "id": "kCkfvJybSln5",
        "colab_type": "text"
      },
      "source": [
        "These two variables do not look normally distributed, but let's verify:"
      ]
    },
    {
      "cell_type": "code",
      "metadata": {
        "id": "Qcp4kZ7xSlTD",
        "colab_type": "code",
        "outputId": "c66de627-b3b1-4d60-aad3-c37e901ad66a",
        "colab": {
          "base_uri": "https://localhost:8080/",
          "height": 51
        }
      },
      "source": [
        "print(stats.describe(df_HrRate_AttN['HourlyRate']))\n",
        "print(stats.describe(df_HrRate_AttY['HourlyRate']))"
      ],
      "execution_count": 0,
      "outputs": [
        {
          "output_type": "stream",
          "text": [
            "DescribeResult(nobs=1233, minmax=(30, 100), mean=65.9521492295215, variance=415.37514351018, skewness=-0.04789611498499753, kurtosis=-1.2034774982971257)\n",
            "DescribeResult(nobs=237, minmax=(31, 100), mean=65.57383966244726, variance=404.00829578774227, skewness=0.05136123289556325, kurtosis=-1.1530725173123975)\n"
          ],
          "name": "stdout"
        }
      ]
    },
    {
      "cell_type": "markdown",
      "metadata": {
        "id": "158wT65pS-Ju",
        "colab_type": "text"
      },
      "source": [
        "Variables seem to be within normal ranges for skewness and kurtosis. Let's run a t-test:"
      ]
    },
    {
      "cell_type": "code",
      "metadata": {
        "id": "L3_p7gWJTHqv",
        "colab_type": "code",
        "outputId": "e47f9e44-3133-4cb6-face-454a392f80e7",
        "colab": {
          "base_uri": "https://localhost:8080/",
          "height": 34
        }
      },
      "source": [
        "stats.ttest_ind(df_HrRate_AttY['HourlyRate'],df_HrRate_AttN['HourlyRate'])"
      ],
      "execution_count": 0,
      "outputs": [
        {
          "output_type": "execute_result",
          "data": {
            "text/plain": [
              "Ttest_indResult(statistic=-0.26228987349264493, pvalue=0.7931347689944243)"
            ]
          },
          "metadata": {
            "tags": []
          },
          "execution_count": 24
        }
      ]
    },
    {
      "cell_type": "markdown",
      "metadata": {
        "id": "_KtGPzXSTi-6",
        "colab_type": "text"
      },
      "source": [
        "##**Q2 RESULT**\n",
        "\n",
        "Hourly rates do not have an affect on Attrition\n",
        "\n",
        "---"
      ]
    },
    {
      "cell_type": "markdown",
      "metadata": {
        "id": "qfu6iAXbT5ZD",
        "colab_type": "text"
      },
      "source": [
        "#**Q3**\n",
        "\n",
        "###3. Does a lack of recent promotions for long term employees have an affect on attrition?"
      ]
    },
    {
      "cell_type": "code",
      "metadata": {
        "id": "jgtHV_g2T4Ut",
        "colab_type": "code",
        "outputId": "dc43f64e-036c-4f7a-a4cd-e4dd2ef1b712",
        "colab": {
          "base_uri": "https://localhost:8080/",
          "height": 340
        }
      },
      "source": [
        "#creating a smaller df of the variables we will investigate\n",
        "seniority_attr = df[['YearsAtCompany','YearsSinceLastPromotion', 'Attrition']]\n",
        "\n",
        "seniority_attr.info()\n",
        "seniority_attr.head()"
      ],
      "execution_count": 0,
      "outputs": [
        {
          "output_type": "stream",
          "text": [
            "<class 'pandas.core.frame.DataFrame'>\n",
            "RangeIndex: 1470 entries, 0 to 1469\n",
            "Data columns (total 3 columns):\n",
            "YearsAtCompany             1470 non-null int64\n",
            "YearsSinceLastPromotion    1470 non-null int64\n",
            "Attrition                  1470 non-null object\n",
            "dtypes: int64(2), object(1)\n",
            "memory usage: 34.6+ KB\n"
          ],
          "name": "stdout"
        },
        {
          "output_type": "execute_result",
          "data": {
            "text/html": [
              "<div>\n",
              "<style scoped>\n",
              "    .dataframe tbody tr th:only-of-type {\n",
              "        vertical-align: middle;\n",
              "    }\n",
              "\n",
              "    .dataframe tbody tr th {\n",
              "        vertical-align: top;\n",
              "    }\n",
              "\n",
              "    .dataframe thead th {\n",
              "        text-align: right;\n",
              "    }\n",
              "</style>\n",
              "<table border=\"1\" class=\"dataframe\">\n",
              "  <thead>\n",
              "    <tr style=\"text-align: right;\">\n",
              "      <th></th>\n",
              "      <th>YearsAtCompany</th>\n",
              "      <th>YearsSinceLastPromotion</th>\n",
              "      <th>Attrition</th>\n",
              "    </tr>\n",
              "  </thead>\n",
              "  <tbody>\n",
              "    <tr>\n",
              "      <th>0</th>\n",
              "      <td>6</td>\n",
              "      <td>0</td>\n",
              "      <td>Yes</td>\n",
              "    </tr>\n",
              "    <tr>\n",
              "      <th>1</th>\n",
              "      <td>10</td>\n",
              "      <td>1</td>\n",
              "      <td>No</td>\n",
              "    </tr>\n",
              "    <tr>\n",
              "      <th>2</th>\n",
              "      <td>0</td>\n",
              "      <td>0</td>\n",
              "      <td>Yes</td>\n",
              "    </tr>\n",
              "    <tr>\n",
              "      <th>3</th>\n",
              "      <td>8</td>\n",
              "      <td>3</td>\n",
              "      <td>No</td>\n",
              "    </tr>\n",
              "    <tr>\n",
              "      <th>4</th>\n",
              "      <td>2</td>\n",
              "      <td>2</td>\n",
              "      <td>No</td>\n",
              "    </tr>\n",
              "  </tbody>\n",
              "</table>\n",
              "</div>"
            ],
            "text/plain": [
              "   YearsAtCompany  YearsSinceLastPromotion Attrition\n",
              "0               6                        0       Yes\n",
              "1              10                        1        No\n",
              "2               0                        0       Yes\n",
              "3               8                        3        No\n",
              "4               2                        2        No"
            ]
          },
          "metadata": {
            "tags": []
          },
          "execution_count": 25
        }
      ]
    },
    {
      "cell_type": "code",
      "metadata": {
        "id": "6vCxGNMcY2T9",
        "colab_type": "code",
        "outputId": "e73279c2-9263-433d-d9e4-d85f753981a8",
        "colab": {
          "base_uri": "https://localhost:8080/",
          "height": 297
        }
      },
      "source": [
        "seniority_attr.describe()\n",
        "#YearsAtCompany 75 percentile will be our demarcation for long-term employees"
      ],
      "execution_count": 0,
      "outputs": [
        {
          "output_type": "execute_result",
          "data": {
            "text/html": [
              "<div>\n",
              "<style scoped>\n",
              "    .dataframe tbody tr th:only-of-type {\n",
              "        vertical-align: middle;\n",
              "    }\n",
              "\n",
              "    .dataframe tbody tr th {\n",
              "        vertical-align: top;\n",
              "    }\n",
              "\n",
              "    .dataframe thead th {\n",
              "        text-align: right;\n",
              "    }\n",
              "</style>\n",
              "<table border=\"1\" class=\"dataframe\">\n",
              "  <thead>\n",
              "    <tr style=\"text-align: right;\">\n",
              "      <th></th>\n",
              "      <th>YearsAtCompany</th>\n",
              "      <th>YearsSinceLastPromotion</th>\n",
              "    </tr>\n",
              "  </thead>\n",
              "  <tbody>\n",
              "    <tr>\n",
              "      <th>count</th>\n",
              "      <td>1470.000000</td>\n",
              "      <td>1470.000000</td>\n",
              "    </tr>\n",
              "    <tr>\n",
              "      <th>mean</th>\n",
              "      <td>7.008163</td>\n",
              "      <td>2.187755</td>\n",
              "    </tr>\n",
              "    <tr>\n",
              "      <th>std</th>\n",
              "      <td>6.126525</td>\n",
              "      <td>3.222430</td>\n",
              "    </tr>\n",
              "    <tr>\n",
              "      <th>min</th>\n",
              "      <td>0.000000</td>\n",
              "      <td>0.000000</td>\n",
              "    </tr>\n",
              "    <tr>\n",
              "      <th>25%</th>\n",
              "      <td>3.000000</td>\n",
              "      <td>0.000000</td>\n",
              "    </tr>\n",
              "    <tr>\n",
              "      <th>50%</th>\n",
              "      <td>5.000000</td>\n",
              "      <td>1.000000</td>\n",
              "    </tr>\n",
              "    <tr>\n",
              "      <th>75%</th>\n",
              "      <td>9.000000</td>\n",
              "      <td>3.000000</td>\n",
              "    </tr>\n",
              "    <tr>\n",
              "      <th>max</th>\n",
              "      <td>40.000000</td>\n",
              "      <td>15.000000</td>\n",
              "    </tr>\n",
              "  </tbody>\n",
              "</table>\n",
              "</div>"
            ],
            "text/plain": [
              "       YearsAtCompany  YearsSinceLastPromotion\n",
              "count     1470.000000              1470.000000\n",
              "mean         7.008163                 2.187755\n",
              "std          6.126525                 3.222430\n",
              "min          0.000000                 0.000000\n",
              "25%          3.000000                 0.000000\n",
              "50%          5.000000                 1.000000\n",
              "75%          9.000000                 3.000000\n",
              "max         40.000000                15.000000"
            ]
          },
          "metadata": {
            "tags": []
          },
          "execution_count": 26
        }
      ]
    },
    {
      "cell_type": "code",
      "metadata": {
        "id": "zhLsTbn-qajR",
        "colab_type": "code",
        "outputId": "caa685f2-2000-4d8b-8ab9-ad61fc35ab70",
        "colab": {
          "base_uri": "https://localhost:8080/",
          "height": 119
        }
      },
      "source": [
        "#look at unique values of each column\n",
        "print('Unique Years at Company')\n",
        "print(sorted(seniority_attr['YearsAtCompany'].unique()))\n",
        "print('\\n')\n",
        "print('Unique Years Since Last Promotion')\n",
        "print(sorted(seniority_attr['YearsSinceLastPromotion'].unique()))"
      ],
      "execution_count": 0,
      "outputs": [
        {
          "output_type": "stream",
          "text": [
            "Unique Years at Company\n",
            "[0, 1, 2, 3, 4, 5, 6, 7, 8, 9, 10, 11, 12, 13, 14, 15, 16, 17, 18, 19, 20, 21, 22, 23, 24, 25, 26, 27, 29, 30, 31, 32, 33, 34, 36, 37, 40]\n",
            "\n",
            "\n",
            "Unique Years Since Last Promotion\n",
            "[0, 1, 2, 3, 4, 5, 6, 7, 8, 9, 10, 11, 12, 13, 14, 15]\n"
          ],
          "name": "stdout"
        }
      ]
    },
    {
      "cell_type": "markdown",
      "metadata": {
        "id": "CeilQFn2rOg4",
        "colab_type": "text"
      },
      "source": [
        "We will filter YearsAtCompany at >=9 (per the .describe() method above) for the highest quantile, and then we will split years since last promotion at the median."
      ]
    },
    {
      "cell_type": "code",
      "metadata": {
        "id": "Gif30IdAtTdH",
        "colab_type": "code",
        "outputId": "59dbf057-90ce-4fb2-cc84-619055547b46",
        "colab": {
          "base_uri": "https://localhost:8080/",
          "height": 170
        }
      },
      "source": [
        "high_seniority_attr = seniority_attr[seniority_attr['YearsAtCompany']>=9]\n",
        "\n",
        "high_seniority_attr.info()\n",
        "print(sorted(high_seniority_attr['YearsSinceLastPromotion'].unique()))"
      ],
      "execution_count": 0,
      "outputs": [
        {
          "output_type": "stream",
          "text": [
            "<class 'pandas.core.frame.DataFrame'>\n",
            "Int64Index: 448 entries, 1 to 1468\n",
            "Data columns (total 3 columns):\n",
            "YearsAtCompany             448 non-null int64\n",
            "YearsSinceLastPromotion    448 non-null int64\n",
            "Attrition                  448 non-null object\n",
            "dtypes: int64(2), object(1)\n",
            "memory usage: 14.0+ KB\n",
            "[0, 1, 2, 3, 4, 5, 6, 7, 8, 9, 10, 11, 12, 13, 14, 15]\n"
          ],
          "name": "stdout"
        }
      ]
    },
    {
      "cell_type": "markdown",
      "metadata": {
        "id": "XwpJ2l9C4Ncm",
        "colab_type": "text"
      },
      "source": [
        "Let's find our median so we can hopefully get equal sample sizes to compare"
      ]
    },
    {
      "cell_type": "code",
      "metadata": {
        "id": "cCDEX3Y74axg",
        "colab_type": "code",
        "outputId": "c63fc204-61f8-4780-f6f2-e0530d2762e8",
        "colab": {
          "base_uri": "https://localhost:8080/",
          "height": 34
        }
      },
      "source": [
        "high_seniority_attr['YearsSinceLastPromotion'].median()"
      ],
      "execution_count": 0,
      "outputs": [
        {
          "output_type": "execute_result",
          "data": {
            "text/plain": [
              "4.0"
            ]
          },
          "metadata": {
            "tags": []
          },
          "execution_count": 29
        }
      ]
    },
    {
      "cell_type": "code",
      "metadata": {
        "id": "wdpAkwjs2yar",
        "colab_type": "code",
        "colab": {}
      },
      "source": [
        "#splitting DFs at the median\n",
        "\n",
        "# 9+ years recent promotion\n",
        "high_sen_rec_promote = high_seniority_attr[high_seniority_attr['YearsSinceLastPromotion']<=4]\n",
        "\n",
        "# 9+ years distant promotion\n",
        "high_sen_dist_promote = high_seniority_attr[high_seniority_attr['YearsSinceLastPromotion']>=5]"
      ],
      "execution_count": 0,
      "outputs": []
    },
    {
      "cell_type": "code",
      "metadata": {
        "id": "RFYq5S4h4nLJ",
        "colab_type": "code",
        "outputId": "8971eca1-4aff-4816-a800-79027f2e3fa0",
        "colab": {
          "base_uri": "https://localhost:8080/",
          "height": 323
        }
      },
      "source": [
        "high_sen_rec_promote.info() \n",
        "print('\\n')\n",
        "high_sen_dist_promote.info()"
      ],
      "execution_count": 0,
      "outputs": [
        {
          "output_type": "stream",
          "text": [
            "<class 'pandas.core.frame.DataFrame'>\n",
            "Int64Index: 250 entries, 1 to 1468\n",
            "Data columns (total 3 columns):\n",
            "YearsAtCompany             250 non-null int64\n",
            "YearsSinceLastPromotion    250 non-null int64\n",
            "Attrition                  250 non-null object\n",
            "dtypes: int64(2), object(1)\n",
            "memory usage: 7.8+ KB\n",
            "\n",
            "\n",
            "<class 'pandas.core.frame.DataFrame'>\n",
            "Int64Index: 198 entries, 15 to 1462\n",
            "Data columns (total 3 columns):\n",
            "YearsAtCompany             198 non-null int64\n",
            "YearsSinceLastPromotion    198 non-null int64\n",
            "Attrition                  198 non-null object\n",
            "dtypes: int64(2), object(1)\n",
            "memory usage: 6.2+ KB\n"
          ],
          "name": "stdout"
        }
      ]
    },
    {
      "cell_type": "markdown",
      "metadata": {
        "id": "1qf01DEqzLyP",
        "colab_type": "text"
      },
      "source": [
        "Total number of data points is similar. Let's look at these distributions:"
      ]
    },
    {
      "cell_type": "code",
      "metadata": {
        "id": "Pf2T1Kdhf0Ay",
        "colab_type": "code",
        "outputId": "47eb8434-d71a-40e6-ca0d-fe3cbd3d55a3",
        "colab": {
          "base_uri": "https://localhost:8080/",
          "height": 375
        }
      },
      "source": [
        "fig, ax = plt.subplots(figsize=(15,5))\n",
        "\n",
        "ax.hist(high_sen_rec_promote['YearsAtCompany'], alpha=.7, color='magenta', label='Promotion in Last 4 years', bins=70)\n",
        "ax.hist(high_sen_dist_promote['YearsAtCompany'], alpha=.7, color='teal', label='Promotion More than 4 Years ago', bins=70);\n",
        "\n",
        "plt.xlabel('Years At Company', fontsize=16)\n",
        "plt.suptitle('Distribution of Recent and Distant Promotions', fontsize=20)\n",
        "plt.title('for empolyees with tenure of +9 years')\n",
        "plt.legend();"
      ],
      "execution_count": 0,
      "outputs": [
        {
          "output_type": "display_data",
          "data": {
            "image/png": "[encoded data removed]",
            "text/plain": [
              "<Figure size 1080x360 with 1 Axes>"
            ]
          },
          "metadata": {
            "tags": []
          }
        }
      ]
    },
    {
      "cell_type": "markdown",
      "metadata": {
        "id": "42FuWkPlrHQZ",
        "colab_type": "text"
      },
      "source": [
        "Let's split these distributions by attrition as well:\n"
      ]
    },
    {
      "cell_type": "code",
      "metadata": {
        "id": "92vpLDXdrNiy",
        "colab_type": "code",
        "colab": {}
      },
      "source": [
        "#employees +9 years, recent promotion, left company\n",
        "high_sen_rec_promote_attrY = high_sen_rec_promote[high_sen_rec_promote['Attrition']=='Yes']\n",
        "\n",
        "#employees +9 years, recent promotion, with company\n",
        "high_sen_rec_promote_attrN = high_sen_rec_promote[high_sen_rec_promote['Attrition']=='No']\n",
        "\n",
        "#employees +9 years, recent promotion, left company\n",
        "high_sen_dist_promote_attrY = high_sen_dist_promote[high_sen_dist_promote['Attrition']=='Yes']\n",
        "\n",
        "#employees +9 years, recent promotion, with company\n",
        "high_sen_dist_promote_attrN = high_sen_dist_promote[high_sen_dist_promote['Attrition']=='No']\n"
      ],
      "execution_count": 0,
      "outputs": []
    },
    {
      "cell_type": "code",
      "metadata": {
        "id": "xfwvCPUJqZTQ",
        "colab_type": "code",
        "outputId": "2295fdf7-9ad7-483c-b0a3-d5e9b97e1c41",
        "colab": {
          "base_uri": "https://localhost:8080/",
          "height": 400
        }
      },
      "source": [
        "fig, ax = plt.subplots(1,2, figsize=(15,5), sharey=True)\n",
        "\n",
        "ax[0].hist(high_sen_rec_promote_attrN['YearsAtCompany'], alpha=.5, color='magenta', label='Promotion in Last 4 years', bins=70)\n",
        "ax[0].hist(high_sen_dist_promote_attrN['YearsAtCompany'], alpha=.5, color='teal', label='Promotion More than 4 Years ago', bins=70)\n",
        "ax[0].set(title='Employees Still With Company')\n",
        "\n",
        "ax[1].hist(high_sen_rec_promote_attrY['YearsAtCompany'], alpha=.5, color='magenta', label='Promotion in Last 4 years', bins=70)\n",
        "ax[1].hist(high_sen_dist_promote_attrY['YearsAtCompany'], alpha=.5, color='teal', label='Promotion More than 4 Years ago', bins=70)\n",
        "ax[1].set(title='Employees Who Left Company')\n",
        "ax[1].set_xlabel('Tenure at Company',{'position':(-.1,1.1),'fontsize':16})\n",
        "\n",
        "\n",
        "plt.suptitle('Distribution of Recent and Distant Promotions \\n for empolyees with tenure of +9 years', fontsize=18, x=.5, y=1.05)\n",
        "\n",
        "plt.legend();"
      ],
      "execution_count": 0,
      "outputs": [
        {
          "output_type": "display_data",
          "data": {
            "image/png": "[encoded data removed]",
            "text/plain": [
              "<Figure size 1080x360 with 2 Axes>"
            ]
          },
          "metadata": {
            "tags": []
          }
        }
      ]
    },
    {
      "cell_type": "markdown",
      "metadata": {
        "id": "FHU-6BWx1nIx",
        "colab_type": "text"
      },
      "source": [
        "Now, in order to compare these for a significance test, we will split by attrition first and compare promotion rates."
      ]
    },
    {
      "cell_type": "code",
      "metadata": {
        "id": "d3kFA0sF1dCz",
        "colab_type": "code",
        "colab": {}
      },
      "source": [
        "high_seniority_attrN = high_seniority_attr[high_seniority_attr['Attrition']=='No']\n",
        "high_seniority_attrY = high_seniority_attr[high_seniority_attr['Attrition']=='Yes']"
      ],
      "execution_count": 0,
      "outputs": []
    },
    {
      "cell_type": "code",
      "metadata": {
        "id": "W7l8sWhT4ODM",
        "colab_type": "code",
        "outputId": "85599f95-8cf5-42cd-b257-ed01a70331e2",
        "colab": {
          "base_uri": "https://localhost:8080/",
          "height": 487
        }
      },
      "source": [
        "fig = plt.subplots(figsize=(10,7))\n",
        "plt.hist(high_seniority_attrN['YearsSinceLastPromotion'], alpha=.7, color='teal', label='With Company', bins=14)\n",
        "plt.hist(high_seniority_attrY['YearsSinceLastPromotion'], alpha=.7, color='magenta', label='Left Company',bins=14)\n",
        "plt.title('Distribution of Recent and Distant Promotions \\n for empolyees with tenure of +9 years', fontsize=18)\n",
        "plt.xlabel('Number of Years Since Promotion', fontsize=14)\n",
        "plt.legend();"
      ],
      "execution_count": 0,
      "outputs": [
        {
          "output_type": "display_data",
          "data": {
            "image/png": "[encoded data removed]",
            "text/plain": [
              "<Figure size 720x504 with 1 Axes>"
            ]
          },
          "metadata": {
            "tags": []
          }
        }
      ]
    },
    {
      "cell_type": "markdown",
      "metadata": {
        "id": "SZVYnlv45eXw",
        "colab_type": "text"
      },
      "source": [
        "Similar to the fist question, these are samples of ordinal data, so nothing will be perfectly \"normal\". We will do a Kruskal Wallis test to see if the medians are significantly different."
      ]
    },
    {
      "cell_type": "code",
      "metadata": {
        "id": "v35PP6md4vm4",
        "colab_type": "code",
        "outputId": "ca623b23-ccc2-45d2-8bd3-958f3f73e597",
        "colab": {
          "base_uri": "https://localhost:8080/",
          "height": 102
        }
      },
      "source": [
        "print(f'For employees still with the company, the median number of years since last promotion is: {high_seniority_attrN.YearsSinceLastPromotion.median()}')\n",
        "print(f'For employees who left the company, the median number of years since last promotion is: {high_seniority_attrY.YearsSinceLastPromotion.median()}')\n",
        "print('\\n')\n",
        "print(stats.kruskal(high_seniority_attrN['YearsSinceLastPromotion'], high_seniority_attrY['YearsSinceLastPromotion']))"
      ],
      "execution_count": 0,
      "outputs": [
        {
          "output_type": "stream",
          "text": [
            "For employees still with the company, the median number of years since last promotion is: 4.0\n",
            "For employees who left the company, the median number of years since last promotion is: 6.0\n",
            "\n",
            "\n",
            "KruskalResult(statistic=4.015766512525693, pvalue=0.04507672892174258)\n"
          ],
          "name": "stdout"
        }
      ]
    },
    {
      "cell_type": "markdown",
      "metadata": {
        "id": "Agp2pjPP6n3c",
        "colab_type": "text"
      },
      "source": [
        "##**Q3 RESULT**\n",
        "\n",
        "The median number of years since last promotion is higher in those who have left the company and the Kruskal-Wallace test results say this difference is significant. \n",
        "\n",
        "---"
      ]
    }
  ]
}